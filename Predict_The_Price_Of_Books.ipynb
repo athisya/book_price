{
 "cells": [
  {
   "cell_type": "code",
   "execution_count": 1,
   "id": "6a2d85a3",
   "metadata": {},
   "outputs": [],
   "source": [
    "import numpy as np\n",
    "import pandas as pd\n",
    "import seaborn as sns\n",
    "import matplotlib.pyplot as plt"
   ]
  },
  {
   "cell_type": "code",
   "execution_count": 2,
   "id": "089565e0",
   "metadata": {},
   "outputs": [],
   "source": [
    "df_train = pd.read_excel(\"Data_Train.xlsx\")\n",
    "df_test = pd.read_excel(\"Data_Test.xlsx\")"
   ]
  },
  {
   "cell_type": "code",
   "execution_count": 3,
   "id": "fd6fa70e",
   "metadata": {},
   "outputs": [
    {
     "data": {
      "text/plain": [
       "(6237, 9)"
      ]
     },
     "execution_count": 3,
     "metadata": {},
     "output_type": "execute_result"
    }
   ],
   "source": [
    "df_train.shape"
   ]
  },
  {
   "cell_type": "code",
   "execution_count": 4,
   "id": "d89e7e58",
   "metadata": {},
   "outputs": [
    {
     "data": {
      "text/plain": [
       "(1560, 8)"
      ]
     },
     "execution_count": 4,
     "metadata": {},
     "output_type": "execute_result"
    }
   ],
   "source": [
    "df_test.shape"
   ]
  },
  {
   "cell_type": "code",
   "execution_count": 5,
   "id": "78d82b8a",
   "metadata": {},
   "outputs": [
    {
     "name": "stdout",
     "output_type": "stream",
     "text": [
      "<class 'pandas.core.frame.DataFrame'>\n",
      "RangeIndex: 6237 entries, 0 to 6236\n",
      "Data columns (total 9 columns):\n",
      " #   Column        Non-Null Count  Dtype  \n",
      "---  ------        --------------  -----  \n",
      " 0   Title         6237 non-null   object \n",
      " 1   Author        6237 non-null   object \n",
      " 2   Edition       6237 non-null   object \n",
      " 3   Reviews       6237 non-null   object \n",
      " 4   Ratings       6237 non-null   object \n",
      " 5   Synopsis      6237 non-null   object \n",
      " 6   Genre         6237 non-null   object \n",
      " 7   BookCategory  6237 non-null   object \n",
      " 8   Price         6237 non-null   float64\n",
      "dtypes: float64(1), object(8)\n",
      "memory usage: 438.7+ KB\n"
     ]
    }
   ],
   "source": [
    "df_train.info()"
   ]
  },
  {
   "cell_type": "code",
   "execution_count": 6,
   "id": "1da95520",
   "metadata": {},
   "outputs": [
    {
     "data": {
      "text/html": [
       "<div>\n",
       "<style scoped>\n",
       "    .dataframe tbody tr th:only-of-type {\n",
       "        vertical-align: middle;\n",
       "    }\n",
       "\n",
       "    .dataframe tbody tr th {\n",
       "        vertical-align: top;\n",
       "    }\n",
       "\n",
       "    .dataframe thead th {\n",
       "        text-align: right;\n",
       "    }\n",
       "</style>\n",
       "<table border=\"1\" class=\"dataframe\">\n",
       "  <thead>\n",
       "    <tr style=\"text-align: right;\">\n",
       "      <th></th>\n",
       "      <th>count</th>\n",
       "      <th>unique</th>\n",
       "      <th>top</th>\n",
       "      <th>freq</th>\n",
       "      <th>mean</th>\n",
       "      <th>std</th>\n",
       "      <th>min</th>\n",
       "      <th>25%</th>\n",
       "      <th>50%</th>\n",
       "      <th>75%</th>\n",
       "      <th>max</th>\n",
       "    </tr>\n",
       "  </thead>\n",
       "  <tbody>\n",
       "    <tr>\n",
       "      <th>Title</th>\n",
       "      <td>6237</td>\n",
       "      <td>5568</td>\n",
       "      <td>A Game of Thrones (A Song of Ice and Fire)</td>\n",
       "      <td>4</td>\n",
       "      <td>NaN</td>\n",
       "      <td>NaN</td>\n",
       "      <td>NaN</td>\n",
       "      <td>NaN</td>\n",
       "      <td>NaN</td>\n",
       "      <td>NaN</td>\n",
       "      <td>NaN</td>\n",
       "    </tr>\n",
       "    <tr>\n",
       "      <th>Author</th>\n",
       "      <td>6237</td>\n",
       "      <td>3679</td>\n",
       "      <td>Agatha Christie</td>\n",
       "      <td>69</td>\n",
       "      <td>NaN</td>\n",
       "      <td>NaN</td>\n",
       "      <td>NaN</td>\n",
       "      <td>NaN</td>\n",
       "      <td>NaN</td>\n",
       "      <td>NaN</td>\n",
       "      <td>NaN</td>\n",
       "    </tr>\n",
       "    <tr>\n",
       "      <th>Edition</th>\n",
       "      <td>6237</td>\n",
       "      <td>3370</td>\n",
       "      <td>Paperback,– 5 Oct 2017</td>\n",
       "      <td>48</td>\n",
       "      <td>NaN</td>\n",
       "      <td>NaN</td>\n",
       "      <td>NaN</td>\n",
       "      <td>NaN</td>\n",
       "      <td>NaN</td>\n",
       "      <td>NaN</td>\n",
       "      <td>NaN</td>\n",
       "    </tr>\n",
       "    <tr>\n",
       "      <th>Reviews</th>\n",
       "      <td>6237</td>\n",
       "      <td>36</td>\n",
       "      <td>5.0 out of 5 stars</td>\n",
       "      <td>1375</td>\n",
       "      <td>NaN</td>\n",
       "      <td>NaN</td>\n",
       "      <td>NaN</td>\n",
       "      <td>NaN</td>\n",
       "      <td>NaN</td>\n",
       "      <td>NaN</td>\n",
       "      <td>NaN</td>\n",
       "    </tr>\n",
       "    <tr>\n",
       "      <th>Ratings</th>\n",
       "      <td>6237</td>\n",
       "      <td>342</td>\n",
       "      <td>1 customer review</td>\n",
       "      <td>1040</td>\n",
       "      <td>NaN</td>\n",
       "      <td>NaN</td>\n",
       "      <td>NaN</td>\n",
       "      <td>NaN</td>\n",
       "      <td>NaN</td>\n",
       "      <td>NaN</td>\n",
       "      <td>NaN</td>\n",
       "    </tr>\n",
       "    <tr>\n",
       "      <th>Synopsis</th>\n",
       "      <td>6237</td>\n",
       "      <td>5549</td>\n",
       "      <td>A Tinkle Double Digest is two Tinkle Digests i...</td>\n",
       "      <td>8</td>\n",
       "      <td>NaN</td>\n",
       "      <td>NaN</td>\n",
       "      <td>NaN</td>\n",
       "      <td>NaN</td>\n",
       "      <td>NaN</td>\n",
       "      <td>NaN</td>\n",
       "      <td>NaN</td>\n",
       "    </tr>\n",
       "    <tr>\n",
       "      <th>Genre</th>\n",
       "      <td>6237</td>\n",
       "      <td>345</td>\n",
       "      <td>Action &amp; Adventure (Books)</td>\n",
       "      <td>947</td>\n",
       "      <td>NaN</td>\n",
       "      <td>NaN</td>\n",
       "      <td>NaN</td>\n",
       "      <td>NaN</td>\n",
       "      <td>NaN</td>\n",
       "      <td>NaN</td>\n",
       "      <td>NaN</td>\n",
       "    </tr>\n",
       "    <tr>\n",
       "      <th>BookCategory</th>\n",
       "      <td>6237</td>\n",
       "      <td>11</td>\n",
       "      <td>Action &amp; Adventure</td>\n",
       "      <td>818</td>\n",
       "      <td>NaN</td>\n",
       "      <td>NaN</td>\n",
       "      <td>NaN</td>\n",
       "      <td>NaN</td>\n",
       "      <td>NaN</td>\n",
       "      <td>NaN</td>\n",
       "      <td>NaN</td>\n",
       "    </tr>\n",
       "    <tr>\n",
       "      <th>Price</th>\n",
       "      <td>6237.0</td>\n",
       "      <td>NaN</td>\n",
       "      <td>NaN</td>\n",
       "      <td>NaN</td>\n",
       "      <td>560.707516</td>\n",
       "      <td>690.110657</td>\n",
       "      <td>25.0</td>\n",
       "      <td>249.18</td>\n",
       "      <td>373.0</td>\n",
       "      <td>599.0</td>\n",
       "      <td>14100.0</td>\n",
       "    </tr>\n",
       "  </tbody>\n",
       "</table>\n",
       "</div>"
      ],
      "text/plain": [
       "               count unique  \\\n",
       "Title           6237   5568   \n",
       "Author          6237   3679   \n",
       "Edition         6237   3370   \n",
       "Reviews         6237     36   \n",
       "Ratings         6237    342   \n",
       "Synopsis        6237   5549   \n",
       "Genre           6237    345   \n",
       "BookCategory    6237     11   \n",
       "Price         6237.0    NaN   \n",
       "\n",
       "                                                            top  freq  \\\n",
       "Title                A Game of Thrones (A Song of Ice and Fire)     4   \n",
       "Author                                          Agatha Christie    69   \n",
       "Edition                                  Paperback,– 5 Oct 2017    48   \n",
       "Reviews                                      5.0 out of 5 stars  1375   \n",
       "Ratings                                       1 customer review  1040   \n",
       "Synopsis      A Tinkle Double Digest is two Tinkle Digests i...     8   \n",
       "Genre                                Action & Adventure (Books)   947   \n",
       "BookCategory                                 Action & Adventure   818   \n",
       "Price                                                       NaN   NaN   \n",
       "\n",
       "                    mean         std   min     25%    50%    75%      max  \n",
       "Title                NaN         NaN   NaN     NaN    NaN    NaN      NaN  \n",
       "Author               NaN         NaN   NaN     NaN    NaN    NaN      NaN  \n",
       "Edition              NaN         NaN   NaN     NaN    NaN    NaN      NaN  \n",
       "Reviews              NaN         NaN   NaN     NaN    NaN    NaN      NaN  \n",
       "Ratings              NaN         NaN   NaN     NaN    NaN    NaN      NaN  \n",
       "Synopsis             NaN         NaN   NaN     NaN    NaN    NaN      NaN  \n",
       "Genre                NaN         NaN   NaN     NaN    NaN    NaN      NaN  \n",
       "BookCategory         NaN         NaN   NaN     NaN    NaN    NaN      NaN  \n",
       "Price         560.707516  690.110657  25.0  249.18  373.0  599.0  14100.0  "
      ]
     },
     "execution_count": 6,
     "metadata": {},
     "output_type": "execute_result"
    }
   ],
   "source": [
    "df_train.describe(include=\"all\").T"
   ]
  },
  {
   "cell_type": "code",
   "execution_count": 7,
   "id": "48152804",
   "metadata": {},
   "outputs": [
    {
     "name": "stdout",
     "output_type": "stream",
     "text": [
      "<class 'pandas.core.frame.DataFrame'>\n",
      "RangeIndex: 1560 entries, 0 to 1559\n",
      "Data columns (total 8 columns):\n",
      " #   Column        Non-Null Count  Dtype \n",
      "---  ------        --------------  ----- \n",
      " 0   Title         1560 non-null   object\n",
      " 1   Author        1560 non-null   object\n",
      " 2   Edition       1560 non-null   object\n",
      " 3   Reviews       1560 non-null   object\n",
      " 4   Ratings       1560 non-null   object\n",
      " 5   Synopsis      1560 non-null   object\n",
      " 6   Genre         1560 non-null   object\n",
      " 7   BookCategory  1560 non-null   object\n",
      "dtypes: object(8)\n",
      "memory usage: 97.6+ KB\n"
     ]
    }
   ],
   "source": [
    "df_test.info()"
   ]
  },
  {
   "cell_type": "code",
   "execution_count": 8,
   "id": "7ea58ad3",
   "metadata": {},
   "outputs": [
    {
     "data": {
      "text/html": [
       "<div>\n",
       "<style scoped>\n",
       "    .dataframe tbody tr th:only-of-type {\n",
       "        vertical-align: middle;\n",
       "    }\n",
       "\n",
       "    .dataframe tbody tr th {\n",
       "        vertical-align: top;\n",
       "    }\n",
       "\n",
       "    .dataframe thead th {\n",
       "        text-align: right;\n",
       "    }\n",
       "</style>\n",
       "<table border=\"1\" class=\"dataframe\">\n",
       "  <thead>\n",
       "    <tr style=\"text-align: right;\">\n",
       "      <th></th>\n",
       "      <th>count</th>\n",
       "      <th>unique</th>\n",
       "      <th>top</th>\n",
       "      <th>freq</th>\n",
       "    </tr>\n",
       "  </thead>\n",
       "  <tbody>\n",
       "    <tr>\n",
       "      <th>Title</th>\n",
       "      <td>1560</td>\n",
       "      <td>1521</td>\n",
       "      <td>The Five Greatest Warriors (Jack West Series)</td>\n",
       "      <td>3</td>\n",
       "    </tr>\n",
       "    <tr>\n",
       "      <th>Author</th>\n",
       "      <td>1560</td>\n",
       "      <td>1224</td>\n",
       "      <td>Agatha Christie</td>\n",
       "      <td>18</td>\n",
       "    </tr>\n",
       "    <tr>\n",
       "      <th>Edition</th>\n",
       "      <td>1560</td>\n",
       "      <td>1259</td>\n",
       "      <td>Paperback,– 5 Oct 2017</td>\n",
       "      <td>12</td>\n",
       "    </tr>\n",
       "    <tr>\n",
       "      <th>Reviews</th>\n",
       "      <td>1560</td>\n",
       "      <td>30</td>\n",
       "      <td>5.0 out of 5 stars</td>\n",
       "      <td>376</td>\n",
       "    </tr>\n",
       "    <tr>\n",
       "      <th>Ratings</th>\n",
       "      <td>1560</td>\n",
       "      <td>163</td>\n",
       "      <td>1 customer review</td>\n",
       "      <td>288</td>\n",
       "    </tr>\n",
       "    <tr>\n",
       "      <th>Synopsis</th>\n",
       "      <td>1560</td>\n",
       "      <td>1519</td>\n",
       "      <td>The end is approaching ... Can Jack West unrav...</td>\n",
       "      <td>3</td>\n",
       "    </tr>\n",
       "    <tr>\n",
       "      <th>Genre</th>\n",
       "      <td>1560</td>\n",
       "      <td>225</td>\n",
       "      <td>Action &amp; Adventure (Books)</td>\n",
       "      <td>236</td>\n",
       "    </tr>\n",
       "    <tr>\n",
       "      <th>BookCategory</th>\n",
       "      <td>1560</td>\n",
       "      <td>11</td>\n",
       "      <td>Action &amp; Adventure</td>\n",
       "      <td>218</td>\n",
       "    </tr>\n",
       "  </tbody>\n",
       "</table>\n",
       "</div>"
      ],
      "text/plain": [
       "             count unique                                                top  \\\n",
       "Title         1560   1521      The Five Greatest Warriors (Jack West Series)   \n",
       "Author        1560   1224                                    Agatha Christie   \n",
       "Edition       1560   1259                             Paperback,– 5 Oct 2017   \n",
       "Reviews       1560     30                                 5.0 out of 5 stars   \n",
       "Ratings       1560    163                                  1 customer review   \n",
       "Synopsis      1560   1519  The end is approaching ... Can Jack West unrav...   \n",
       "Genre         1560    225                         Action & Adventure (Books)   \n",
       "BookCategory  1560     11                                 Action & Adventure   \n",
       "\n",
       "             freq  \n",
       "Title           3  \n",
       "Author         18  \n",
       "Edition        12  \n",
       "Reviews       376  \n",
       "Ratings       288  \n",
       "Synopsis        3  \n",
       "Genre         236  \n",
       "BookCategory  218  "
      ]
     },
     "execution_count": 8,
     "metadata": {},
     "output_type": "execute_result"
    }
   ],
   "source": [
    "df_test.describe(include=\"all\").T"
   ]
  },
  {
   "cell_type": "code",
   "execution_count": 9,
   "id": "e7487ae5",
   "metadata": {},
   "outputs": [
    {
     "data": {
      "text/plain": [
       "Index(['Title', 'Author', 'Edition', 'Reviews', 'Ratings', 'Synopsis', 'Genre',\n",
       "       'BookCategory', 'Price'],\n",
       "      dtype='object')"
      ]
     },
     "execution_count": 9,
     "metadata": {},
     "output_type": "execute_result"
    }
   ],
   "source": [
    "df_train.columns"
   ]
  },
  {
   "cell_type": "code",
   "execution_count": 10,
   "id": "506e8298",
   "metadata": {},
   "outputs": [],
   "source": [
    "df_train_original = df_train.copy()\n",
    "df_test_original = df_test.copy()"
   ]
  },
  {
   "cell_type": "code",
   "execution_count": 11,
   "id": "1045ea4e",
   "metadata": {},
   "outputs": [
    {
     "name": "stdout",
     "output_type": "stream",
     "text": [
      "Duplicate Rows :\n"
     ]
    },
    {
     "data": {
      "text/html": [
       "<div>\n",
       "<style scoped>\n",
       "    .dataframe tbody tr th:only-of-type {\n",
       "        vertical-align: middle;\n",
       "    }\n",
       "\n",
       "    .dataframe tbody tr th {\n",
       "        vertical-align: top;\n",
       "    }\n",
       "\n",
       "    .dataframe thead th {\n",
       "        text-align: right;\n",
       "    }\n",
       "</style>\n",
       "<table border=\"1\" class=\"dataframe\">\n",
       "  <thead>\n",
       "    <tr style=\"text-align: right;\">\n",
       "      <th></th>\n",
       "      <th>Title</th>\n",
       "      <th>Author</th>\n",
       "      <th>Edition</th>\n",
       "      <th>Reviews</th>\n",
       "      <th>Ratings</th>\n",
       "      <th>Synopsis</th>\n",
       "      <th>Genre</th>\n",
       "      <th>BookCategory</th>\n",
       "      <th>Price</th>\n",
       "    </tr>\n",
       "  </thead>\n",
       "  <tbody>\n",
       "  </tbody>\n",
       "</table>\n",
       "</div>"
      ],
      "text/plain": [
       "Empty DataFrame\n",
       "Columns: [Title, Author, Edition, Reviews, Ratings, Synopsis, Genre, BookCategory, Price]\n",
       "Index: []"
      ]
     },
     "execution_count": 11,
     "metadata": {},
     "output_type": "execute_result"
    }
   ],
   "source": [
    "duplicate = df_train[df_train.duplicated()]\n",
    " \n",
    "print(\"Duplicate Rows :\")\n",
    " \n",
    "# Print the resultant Dataframe\n",
    "duplicate"
   ]
  },
  {
   "cell_type": "code",
   "execution_count": 12,
   "id": "6be61428",
   "metadata": {},
   "outputs": [
    {
     "data": {
      "text/plain": [
       "Series([], dtype: int64)"
      ]
     },
     "execution_count": 12,
     "metadata": {},
     "output_type": "execute_result"
    }
   ],
   "source": [
    "### Examine missing values\n",
    "df_na = df_train.isna().sum()\n",
    "df_na[df_na.values > 0].sort_values(ascending=False) # Find out all variables that contain missing values"
   ]
  },
  {
   "cell_type": "code",
   "execution_count": 13,
   "id": "45c1cdb4",
   "metadata": {},
   "outputs": [
    {
     "data": {
      "text/plain": [
       "Title           0.0\n",
       "Author          0.0\n",
       "Edition         0.0\n",
       "Reviews         0.0\n",
       "Ratings         0.0\n",
       "Synopsis        0.0\n",
       "Genre           0.0\n",
       "BookCategory    0.0\n",
       "Price           0.0\n",
       "dtype: float64"
      ]
     },
     "execution_count": 13,
     "metadata": {},
     "output_type": "execute_result"
    }
   ],
   "source": [
    "df_train.isnull().sum().sort_values(ascending = False)/df_train.index.size"
   ]
  },
  {
   "cell_type": "code",
   "execution_count": 14,
   "id": "779a87e5",
   "metadata": {},
   "outputs": [],
   "source": [
    "df_train['Reviews'] = df_train['Reviews'].str[:3]"
   ]
  },
  {
   "cell_type": "code",
   "execution_count": 15,
   "id": "b03a4d12",
   "metadata": {},
   "outputs": [
    {
     "data": {
      "text/html": [
       "<div>\n",
       "<style scoped>\n",
       "    .dataframe tbody tr th:only-of-type {\n",
       "        vertical-align: middle;\n",
       "    }\n",
       "\n",
       "    .dataframe tbody tr th {\n",
       "        vertical-align: top;\n",
       "    }\n",
       "\n",
       "    .dataframe thead th {\n",
       "        text-align: right;\n",
       "    }\n",
       "</style>\n",
       "<table border=\"1\" class=\"dataframe\">\n",
       "  <thead>\n",
       "    <tr style=\"text-align: right;\">\n",
       "      <th></th>\n",
       "      <th>Title</th>\n",
       "      <th>Author</th>\n",
       "      <th>Edition</th>\n",
       "      <th>Reviews</th>\n",
       "      <th>Ratings</th>\n",
       "      <th>Synopsis</th>\n",
       "      <th>Genre</th>\n",
       "      <th>BookCategory</th>\n",
       "      <th>Price</th>\n",
       "    </tr>\n",
       "  </thead>\n",
       "  <tbody>\n",
       "    <tr>\n",
       "      <th>0</th>\n",
       "      <td>The Prisoner's Gold (The Hunters 3)</td>\n",
       "      <td>Chris Kuzneski</td>\n",
       "      <td>Paperback,– 10 Mar 2016</td>\n",
       "      <td>4.0</td>\n",
       "      <td>8 customer reviews</td>\n",
       "      <td>THE HUNTERS return in their third brilliant no...</td>\n",
       "      <td>Action &amp; Adventure (Books)</td>\n",
       "      <td>Action &amp; Adventure</td>\n",
       "      <td>220.00</td>\n",
       "    </tr>\n",
       "    <tr>\n",
       "      <th>1</th>\n",
       "      <td>Guru Dutt: A Tragedy in Three Acts</td>\n",
       "      <td>Arun Khopkar</td>\n",
       "      <td>Paperback,– 7 Nov 2012</td>\n",
       "      <td>3.9</td>\n",
       "      <td>14 customer reviews</td>\n",
       "      <td>A layered portrait of a troubled genius for wh...</td>\n",
       "      <td>Cinema &amp; Broadcast (Books)</td>\n",
       "      <td>Biographies, Diaries &amp; True Accounts</td>\n",
       "      <td>202.93</td>\n",
       "    </tr>\n",
       "    <tr>\n",
       "      <th>2</th>\n",
       "      <td>Leviathan (Penguin Classics)</td>\n",
       "      <td>Thomas Hobbes</td>\n",
       "      <td>Paperback,– 25 Feb 1982</td>\n",
       "      <td>4.8</td>\n",
       "      <td>6 customer reviews</td>\n",
       "      <td>\"During the time men live without a common Pow...</td>\n",
       "      <td>International Relations</td>\n",
       "      <td>Humour</td>\n",
       "      <td>299.00</td>\n",
       "    </tr>\n",
       "    <tr>\n",
       "      <th>3</th>\n",
       "      <td>A Pocket Full of Rye (Miss Marple)</td>\n",
       "      <td>Agatha Christie</td>\n",
       "      <td>Paperback,– 5 Oct 2017</td>\n",
       "      <td>4.1</td>\n",
       "      <td>13 customer reviews</td>\n",
       "      <td>A handful of grain is found in the pocket of a...</td>\n",
       "      <td>Contemporary Fiction (Books)</td>\n",
       "      <td>Crime, Thriller &amp; Mystery</td>\n",
       "      <td>180.00</td>\n",
       "    </tr>\n",
       "    <tr>\n",
       "      <th>4</th>\n",
       "      <td>LIFE 70 Years of Extraordinary Photography</td>\n",
       "      <td>Editors of Life</td>\n",
       "      <td>Hardcover,– 10 Oct 2006</td>\n",
       "      <td>5.0</td>\n",
       "      <td>1 customer review</td>\n",
       "      <td>For seven decades, \"Life\" has been thrilling t...</td>\n",
       "      <td>Photography Textbooks</td>\n",
       "      <td>Arts, Film &amp; Photography</td>\n",
       "      <td>965.62</td>\n",
       "    </tr>\n",
       "    <tr>\n",
       "      <th>...</th>\n",
       "      <td>...</td>\n",
       "      <td>...</td>\n",
       "      <td>...</td>\n",
       "      <td>...</td>\n",
       "      <td>...</td>\n",
       "      <td>...</td>\n",
       "      <td>...</td>\n",
       "      <td>...</td>\n",
       "      <td>...</td>\n",
       "    </tr>\n",
       "    <tr>\n",
       "      <th>6232</th>\n",
       "      <td>Humans: A Brief History of How We F*cked It Al...</td>\n",
       "      <td>Tom Phillips</td>\n",
       "      <td>Paperback,– 8 Aug 2018</td>\n",
       "      <td>5.0</td>\n",
       "      <td>2 customer reviews</td>\n",
       "      <td>'F*cking brilliant' Sarah Knight\\n'Very funny'...</td>\n",
       "      <td>Anthropology (Books)</td>\n",
       "      <td>Humour</td>\n",
       "      <td>322.00</td>\n",
       "    </tr>\n",
       "    <tr>\n",
       "      <th>6233</th>\n",
       "      <td>The Chemist</td>\n",
       "      <td>Stephenie Meyer</td>\n",
       "      <td>Paperback,– 21 Nov 2016</td>\n",
       "      <td>3.3</td>\n",
       "      <td>9 customer reviews</td>\n",
       "      <td>In this gripping page-turner, an ex-agent on t...</td>\n",
       "      <td>Contemporary Fiction (Books)</td>\n",
       "      <td>Crime, Thriller &amp; Mystery</td>\n",
       "      <td>421.00</td>\n",
       "    </tr>\n",
       "    <tr>\n",
       "      <th>6234</th>\n",
       "      <td>The Duke And I: Number 1 in series (Bridgerton...</td>\n",
       "      <td>Julia Quinn</td>\n",
       "      <td>Paperback,– 8 Jun 2006</td>\n",
       "      <td>3.8</td>\n",
       "      <td>3 customer reviews</td>\n",
       "      <td>'The most refreshing and radiant love story yo...</td>\n",
       "      <td>Romance (Books)</td>\n",
       "      <td>Romance</td>\n",
       "      <td>399.00</td>\n",
       "    </tr>\n",
       "    <tr>\n",
       "      <th>6235</th>\n",
       "      <td>Frostfire (Kanin Chronicles)</td>\n",
       "      <td>Amanda Hocking</td>\n",
       "      <td>Paperback,– 15 Jan 2015</td>\n",
       "      <td>3.5</td>\n",
       "      <td>4 customer reviews</td>\n",
       "      <td>Frostfire by Amanda Hocking is the stunning fi...</td>\n",
       "      <td>Action &amp; Adventure (Books)</td>\n",
       "      <td>Action &amp; Adventure</td>\n",
       "      <td>319.00</td>\n",
       "    </tr>\n",
       "    <tr>\n",
       "      <th>6236</th>\n",
       "      <td>The First Order (Sam Capra)</td>\n",
       "      <td>Jeff Abbott</td>\n",
       "      <td>Paperback,– 21 Dec 2016</td>\n",
       "      <td>3.9</td>\n",
       "      <td>2 customer reviews</td>\n",
       "      <td>Six years ago, Sam Capra watched his brother, ...</td>\n",
       "      <td>Action &amp; Adventure (Books)</td>\n",
       "      <td>Action &amp; Adventure</td>\n",
       "      <td>452.00</td>\n",
       "    </tr>\n",
       "  </tbody>\n",
       "</table>\n",
       "<p>6237 rows × 9 columns</p>\n",
       "</div>"
      ],
      "text/plain": [
       "                                                  Title           Author  \\\n",
       "0                   The Prisoner's Gold (The Hunters 3)   Chris Kuzneski   \n",
       "1                    Guru Dutt: A Tragedy in Three Acts     Arun Khopkar   \n",
       "2                          Leviathan (Penguin Classics)    Thomas Hobbes   \n",
       "3                    A Pocket Full of Rye (Miss Marple)  Agatha Christie   \n",
       "4            LIFE 70 Years of Extraordinary Photography  Editors of Life   \n",
       "...                                                 ...              ...   \n",
       "6232  Humans: A Brief History of How We F*cked It Al...     Tom Phillips   \n",
       "6233                                        The Chemist  Stephenie Meyer   \n",
       "6234  The Duke And I: Number 1 in series (Bridgerton...      Julia Quinn   \n",
       "6235                       Frostfire (Kanin Chronicles)   Amanda Hocking   \n",
       "6236                        The First Order (Sam Capra)      Jeff Abbott   \n",
       "\n",
       "                      Edition Reviews              Ratings  \\\n",
       "0     Paperback,– 10 Mar 2016     4.0   8 customer reviews   \n",
       "1      Paperback,– 7 Nov 2012     3.9  14 customer reviews   \n",
       "2     Paperback,– 25 Feb 1982     4.8   6 customer reviews   \n",
       "3      Paperback,– 5 Oct 2017     4.1  13 customer reviews   \n",
       "4     Hardcover,– 10 Oct 2006     5.0    1 customer review   \n",
       "...                       ...     ...                  ...   \n",
       "6232   Paperback,– 8 Aug 2018     5.0   2 customer reviews   \n",
       "6233  Paperback,– 21 Nov 2016     3.3   9 customer reviews   \n",
       "6234   Paperback,– 8 Jun 2006     3.8   3 customer reviews   \n",
       "6235  Paperback,– 15 Jan 2015     3.5   4 customer reviews   \n",
       "6236  Paperback,– 21 Dec 2016     3.9   2 customer reviews   \n",
       "\n",
       "                                               Synopsis  \\\n",
       "0     THE HUNTERS return in their third brilliant no...   \n",
       "1     A layered portrait of a troubled genius for wh...   \n",
       "2     \"During the time men live without a common Pow...   \n",
       "3     A handful of grain is found in the pocket of a...   \n",
       "4     For seven decades, \"Life\" has been thrilling t...   \n",
       "...                                                 ...   \n",
       "6232  'F*cking brilliant' Sarah Knight\\n'Very funny'...   \n",
       "6233  In this gripping page-turner, an ex-agent on t...   \n",
       "6234  'The most refreshing and radiant love story yo...   \n",
       "6235  Frostfire by Amanda Hocking is the stunning fi...   \n",
       "6236  Six years ago, Sam Capra watched his brother, ...   \n",
       "\n",
       "                             Genre                          BookCategory  \\\n",
       "0       Action & Adventure (Books)                    Action & Adventure   \n",
       "1       Cinema & Broadcast (Books)  Biographies, Diaries & True Accounts   \n",
       "2          International Relations                                Humour   \n",
       "3     Contemporary Fiction (Books)             Crime, Thriller & Mystery   \n",
       "4            Photography Textbooks              Arts, Film & Photography   \n",
       "...                            ...                                   ...   \n",
       "6232          Anthropology (Books)                                Humour   \n",
       "6233  Contemporary Fiction (Books)             Crime, Thriller & Mystery   \n",
       "6234               Romance (Books)                               Romance   \n",
       "6235    Action & Adventure (Books)                    Action & Adventure   \n",
       "6236    Action & Adventure (Books)                    Action & Adventure   \n",
       "\n",
       "       Price  \n",
       "0     220.00  \n",
       "1     202.93  \n",
       "2     299.00  \n",
       "3     180.00  \n",
       "4     965.62  \n",
       "...      ...  \n",
       "6232  322.00  \n",
       "6233  421.00  \n",
       "6234  399.00  \n",
       "6235  319.00  \n",
       "6236  452.00  \n",
       "\n",
       "[6237 rows x 9 columns]"
      ]
     },
     "execution_count": 15,
     "metadata": {},
     "output_type": "execute_result"
    }
   ],
   "source": [
    "df_train"
   ]
  },
  {
   "cell_type": "code",
   "execution_count": 16,
   "id": "c59f319f",
   "metadata": {},
   "outputs": [
    {
     "data": {
      "text/plain": [
       "5.0    1375\n",
       "4.0     570\n",
       "4.5     507\n",
       "4.6     394\n",
       "4.4     389\n",
       "4.3     359\n",
       "4.7     343\n",
       "4.2     324\n",
       "4.1     310\n",
       "3.9     241\n",
       "4.8     222\n",
       "3.8     190\n",
       "3.7     167\n",
       "3.0     138\n",
       "3.5     115\n",
       "3.6     110\n",
       "4.9      75\n",
       "3.4      75\n",
       "3.3      57\n",
       "1.0      49\n",
       "3.1      49\n",
       "3.2      41\n",
       "2.0      39\n",
       "2.9      26\n",
       "2.5      18\n",
       "2.7      16\n",
       "2.8      10\n",
       "2.3       7\n",
       "1.5       5\n",
       "2.6       4\n",
       "2.4       4\n",
       "2.2       3\n",
       "1.4       2\n",
       "1.7       1\n",
       "2.1       1\n",
       "1.6       1\n",
       "Name: Reviews, dtype: int64"
      ]
     },
     "execution_count": 16,
     "metadata": {},
     "output_type": "execute_result"
    }
   ],
   "source": [
    "df_train.Reviews.value_counts()"
   ]
  },
  {
   "cell_type": "code",
   "execution_count": null,
   "id": "776bd847",
   "metadata": {},
   "outputs": [],
   "source": []
  },
  {
   "cell_type": "code",
   "execution_count": 17,
   "id": "3e878666",
   "metadata": {},
   "outputs": [
    {
     "name": "stderr",
     "output_type": "stream",
     "text": [
      "<ipython-input-17-bb28ea0cf3e9>:4: UserWarning: FixedFormatter should only be used together with FixedLocator\n",
      "  ax.set_xticklabels(ax.get_xticklabels(), rotation=90, ha=\"right\")\n"
     ]
    },
    {
     "data": {
      "image/png": "[encoded data removed]",
      "text/plain": [
       "<Figure size 2088x1440 with 1 Axes>"
      ]
     },
     "metadata": {
      "needs_background": "light"
     },
     "output_type": "display_data"
    }
   ],
   "source": [
    "plt.figure(figsize=(29,20))\n",
    "ax = sns.countplot(y=\"Reviews\", data=df_train, order = df_train['Reviews'].value_counts().index)\n",
    "plt.yticks(fontsize=30)\n",
    "ax.set_xticklabels(ax.get_xticklabels(), rotation=90, ha=\"right\")\n",
    "\n",
    "\n",
    "\n",
    "plt.tight_layout()\n",
    "plt.show()"
   ]
  },
  {
   "cell_type": "code",
   "execution_count": 18,
   "id": "1ea452af",
   "metadata": {},
   "outputs": [],
   "source": [
    "df_train['Ratings'] = df_train['Ratings'].astype('str').str.extractall('(\\d+)').unstack().fillna('').sum(axis=1).astype(int)"
   ]
  },
  {
   "cell_type": "code",
   "execution_count": 19,
   "id": "989c2e9a",
   "metadata": {},
   "outputs": [
    {
     "data": {
      "image/png": "[encoded data removed]",
      "text/plain": [
       "<Figure size 432x288 with 1 Axes>"
      ]
     },
     "metadata": {
      "needs_background": "light"
     },
     "output_type": "display_data"
    }
   ],
   "source": [
    "ax = sns.countplot(x=\"Ratings\", data=df_train)"
   ]
  },
  {
   "cell_type": "code",
   "execution_count": 20,
   "id": "d96486fa",
   "metadata": {},
   "outputs": [
    {
     "data": {
      "text/plain": [
       "Action & Adventure                      818\n",
       "Crime, Thriller & Mystery               723\n",
       "Biographies, Diaries & True Accounts    596\n",
       "Language, Linguistics & Writing         594\n",
       "Comics & Mangas                         583\n",
       "Romance                                 560\n",
       "Humour                                  540\n",
       "Arts, Film & Photography                517\n",
       "Computing, Internet & Digital Media     510\n",
       "Sports                                  471\n",
       "Politics                                325\n",
       "Name: BookCategory, dtype: int64"
      ]
     },
     "execution_count": 20,
     "metadata": {},
     "output_type": "execute_result"
    }
   ],
   "source": [
    "df_train.BookCategory.value_counts()"
   ]
  },
  {
   "cell_type": "code",
   "execution_count": 21,
   "id": "658d1b60",
   "metadata": {},
   "outputs": [],
   "source": [
    "df_train[\"Print\"]=np.where(df_train[\"Edition\"].str.contains(r'Paperback'),'Paperback','Hardcover')"
   ]
  },
  {
   "cell_type": "code",
   "execution_count": 22,
   "id": "09307108",
   "metadata": {},
   "outputs": [],
   "source": [
    "df_train['Year'] = df_train['Edition'].str[-4:]"
   ]
  },
  {
   "cell_type": "code",
   "execution_count": 23,
   "id": "ce6dfd3c",
   "metadata": {},
   "outputs": [
    {
     "data": {
      "text/html": [
       "<div>\n",
       "<style scoped>\n",
       "    .dataframe tbody tr th:only-of-type {\n",
       "        vertical-align: middle;\n",
       "    }\n",
       "\n",
       "    .dataframe tbody tr th {\n",
       "        vertical-align: top;\n",
       "    }\n",
       "\n",
       "    .dataframe thead th {\n",
       "        text-align: right;\n",
       "    }\n",
       "</style>\n",
       "<table border=\"1\" class=\"dataframe\">\n",
       "  <thead>\n",
       "    <tr style=\"text-align: right;\">\n",
       "      <th></th>\n",
       "      <th>Title</th>\n",
       "      <th>Author</th>\n",
       "      <th>Edition</th>\n",
       "      <th>Reviews</th>\n",
       "      <th>Ratings</th>\n",
       "      <th>Synopsis</th>\n",
       "      <th>Genre</th>\n",
       "      <th>BookCategory</th>\n",
       "      <th>Price</th>\n",
       "      <th>Print</th>\n",
       "      <th>Year</th>\n",
       "    </tr>\n",
       "  </thead>\n",
       "  <tbody>\n",
       "    <tr>\n",
       "      <th>0</th>\n",
       "      <td>The Prisoner's Gold (The Hunters 3)</td>\n",
       "      <td>Chris Kuzneski</td>\n",
       "      <td>Paperback,– 10 Mar 2016</td>\n",
       "      <td>4.0</td>\n",
       "      <td>8</td>\n",
       "      <td>THE HUNTERS return in their third brilliant no...</td>\n",
       "      <td>Action &amp; Adventure (Books)</td>\n",
       "      <td>Action &amp; Adventure</td>\n",
       "      <td>220.00</td>\n",
       "      <td>Paperback</td>\n",
       "      <td>2016</td>\n",
       "    </tr>\n",
       "    <tr>\n",
       "      <th>1</th>\n",
       "      <td>Guru Dutt: A Tragedy in Three Acts</td>\n",
       "      <td>Arun Khopkar</td>\n",
       "      <td>Paperback,– 7 Nov 2012</td>\n",
       "      <td>3.9</td>\n",
       "      <td>14</td>\n",
       "      <td>A layered portrait of a troubled genius for wh...</td>\n",
       "      <td>Cinema &amp; Broadcast (Books)</td>\n",
       "      <td>Biographies, Diaries &amp; True Accounts</td>\n",
       "      <td>202.93</td>\n",
       "      <td>Paperback</td>\n",
       "      <td>2012</td>\n",
       "    </tr>\n",
       "    <tr>\n",
       "      <th>2</th>\n",
       "      <td>Leviathan (Penguin Classics)</td>\n",
       "      <td>Thomas Hobbes</td>\n",
       "      <td>Paperback,– 25 Feb 1982</td>\n",
       "      <td>4.8</td>\n",
       "      <td>6</td>\n",
       "      <td>\"During the time men live without a common Pow...</td>\n",
       "      <td>International Relations</td>\n",
       "      <td>Humour</td>\n",
       "      <td>299.00</td>\n",
       "      <td>Paperback</td>\n",
       "      <td>1982</td>\n",
       "    </tr>\n",
       "    <tr>\n",
       "      <th>3</th>\n",
       "      <td>A Pocket Full of Rye (Miss Marple)</td>\n",
       "      <td>Agatha Christie</td>\n",
       "      <td>Paperback,– 5 Oct 2017</td>\n",
       "      <td>4.1</td>\n",
       "      <td>13</td>\n",
       "      <td>A handful of grain is found in the pocket of a...</td>\n",
       "      <td>Contemporary Fiction (Books)</td>\n",
       "      <td>Crime, Thriller &amp; Mystery</td>\n",
       "      <td>180.00</td>\n",
       "      <td>Paperback</td>\n",
       "      <td>2017</td>\n",
       "    </tr>\n",
       "    <tr>\n",
       "      <th>4</th>\n",
       "      <td>LIFE 70 Years of Extraordinary Photography</td>\n",
       "      <td>Editors of Life</td>\n",
       "      <td>Hardcover,– 10 Oct 2006</td>\n",
       "      <td>5.0</td>\n",
       "      <td>1</td>\n",
       "      <td>For seven decades, \"Life\" has been thrilling t...</td>\n",
       "      <td>Photography Textbooks</td>\n",
       "      <td>Arts, Film &amp; Photography</td>\n",
       "      <td>965.62</td>\n",
       "      <td>Hardcover</td>\n",
       "      <td>2006</td>\n",
       "    </tr>\n",
       "    <tr>\n",
       "      <th>...</th>\n",
       "      <td>...</td>\n",
       "      <td>...</td>\n",
       "      <td>...</td>\n",
       "      <td>...</td>\n",
       "      <td>...</td>\n",
       "      <td>...</td>\n",
       "      <td>...</td>\n",
       "      <td>...</td>\n",
       "      <td>...</td>\n",
       "      <td>...</td>\n",
       "      <td>...</td>\n",
       "    </tr>\n",
       "    <tr>\n",
       "      <th>6232</th>\n",
       "      <td>Humans: A Brief History of How We F*cked It Al...</td>\n",
       "      <td>Tom Phillips</td>\n",
       "      <td>Paperback,– 8 Aug 2018</td>\n",
       "      <td>5.0</td>\n",
       "      <td>2</td>\n",
       "      <td>'F*cking brilliant' Sarah Knight\\n'Very funny'...</td>\n",
       "      <td>Anthropology (Books)</td>\n",
       "      <td>Humour</td>\n",
       "      <td>322.00</td>\n",
       "      <td>Paperback</td>\n",
       "      <td>2018</td>\n",
       "    </tr>\n",
       "    <tr>\n",
       "      <th>6233</th>\n",
       "      <td>The Chemist</td>\n",
       "      <td>Stephenie Meyer</td>\n",
       "      <td>Paperback,– 21 Nov 2016</td>\n",
       "      <td>3.3</td>\n",
       "      <td>9</td>\n",
       "      <td>In this gripping page-turner, an ex-agent on t...</td>\n",
       "      <td>Contemporary Fiction (Books)</td>\n",
       "      <td>Crime, Thriller &amp; Mystery</td>\n",
       "      <td>421.00</td>\n",
       "      <td>Paperback</td>\n",
       "      <td>2016</td>\n",
       "    </tr>\n",
       "    <tr>\n",
       "      <th>6234</th>\n",
       "      <td>The Duke And I: Number 1 in series (Bridgerton...</td>\n",
       "      <td>Julia Quinn</td>\n",
       "      <td>Paperback,– 8 Jun 2006</td>\n",
       "      <td>3.8</td>\n",
       "      <td>3</td>\n",
       "      <td>'The most refreshing and radiant love story yo...</td>\n",
       "      <td>Romance (Books)</td>\n",
       "      <td>Romance</td>\n",
       "      <td>399.00</td>\n",
       "      <td>Paperback</td>\n",
       "      <td>2006</td>\n",
       "    </tr>\n",
       "    <tr>\n",
       "      <th>6235</th>\n",
       "      <td>Frostfire (Kanin Chronicles)</td>\n",
       "      <td>Amanda Hocking</td>\n",
       "      <td>Paperback,– 15 Jan 2015</td>\n",
       "      <td>3.5</td>\n",
       "      <td>4</td>\n",
       "      <td>Frostfire by Amanda Hocking is the stunning fi...</td>\n",
       "      <td>Action &amp; Adventure (Books)</td>\n",
       "      <td>Action &amp; Adventure</td>\n",
       "      <td>319.00</td>\n",
       "      <td>Paperback</td>\n",
       "      <td>2015</td>\n",
       "    </tr>\n",
       "    <tr>\n",
       "      <th>6236</th>\n",
       "      <td>The First Order (Sam Capra)</td>\n",
       "      <td>Jeff Abbott</td>\n",
       "      <td>Paperback,– 21 Dec 2016</td>\n",
       "      <td>3.9</td>\n",
       "      <td>2</td>\n",
       "      <td>Six years ago, Sam Capra watched his brother, ...</td>\n",
       "      <td>Action &amp; Adventure (Books)</td>\n",
       "      <td>Action &amp; Adventure</td>\n",
       "      <td>452.00</td>\n",
       "      <td>Paperback</td>\n",
       "      <td>2016</td>\n",
       "    </tr>\n",
       "  </tbody>\n",
       "</table>\n",
       "<p>6237 rows × 11 columns</p>\n",
       "</div>"
      ],
      "text/plain": [
       "                                                  Title           Author  \\\n",
       "0                   The Prisoner's Gold (The Hunters 3)   Chris Kuzneski   \n",
       "1                    Guru Dutt: A Tragedy in Three Acts     Arun Khopkar   \n",
       "2                          Leviathan (Penguin Classics)    Thomas Hobbes   \n",
       "3                    A Pocket Full of Rye (Miss Marple)  Agatha Christie   \n",
       "4            LIFE 70 Years of Extraordinary Photography  Editors of Life   \n",
       "...                                                 ...              ...   \n",
       "6232  Humans: A Brief History of How We F*cked It Al...     Tom Phillips   \n",
       "6233                                        The Chemist  Stephenie Meyer   \n",
       "6234  The Duke And I: Number 1 in series (Bridgerton...      Julia Quinn   \n",
       "6235                       Frostfire (Kanin Chronicles)   Amanda Hocking   \n",
       "6236                        The First Order (Sam Capra)      Jeff Abbott   \n",
       "\n",
       "                      Edition Reviews  Ratings  \\\n",
       "0     Paperback,– 10 Mar 2016     4.0        8   \n",
       "1      Paperback,– 7 Nov 2012     3.9       14   \n",
       "2     Paperback,– 25 Feb 1982     4.8        6   \n",
       "3      Paperback,– 5 Oct 2017     4.1       13   \n",
       "4     Hardcover,– 10 Oct 2006     5.0        1   \n",
       "...                       ...     ...      ...   \n",
       "6232   Paperback,– 8 Aug 2018     5.0        2   \n",
       "6233  Paperback,– 21 Nov 2016     3.3        9   \n",
       "6234   Paperback,– 8 Jun 2006     3.8        3   \n",
       "6235  Paperback,– 15 Jan 2015     3.5        4   \n",
       "6236  Paperback,– 21 Dec 2016     3.9        2   \n",
       "\n",
       "                                               Synopsis  \\\n",
       "0     THE HUNTERS return in their third brilliant no...   \n",
       "1     A layered portrait of a troubled genius for wh...   \n",
       "2     \"During the time men live without a common Pow...   \n",
       "3     A handful of grain is found in the pocket of a...   \n",
       "4     For seven decades, \"Life\" has been thrilling t...   \n",
       "...                                                 ...   \n",
       "6232  'F*cking brilliant' Sarah Knight\\n'Very funny'...   \n",
       "6233  In this gripping page-turner, an ex-agent on t...   \n",
       "6234  'The most refreshing and radiant love story yo...   \n",
       "6235  Frostfire by Amanda Hocking is the stunning fi...   \n",
       "6236  Six years ago, Sam Capra watched his brother, ...   \n",
       "\n",
       "                             Genre                          BookCategory  \\\n",
       "0       Action & Adventure (Books)                    Action & Adventure   \n",
       "1       Cinema & Broadcast (Books)  Biographies, Diaries & True Accounts   \n",
       "2          International Relations                                Humour   \n",
       "3     Contemporary Fiction (Books)             Crime, Thriller & Mystery   \n",
       "4            Photography Textbooks              Arts, Film & Photography   \n",
       "...                            ...                                   ...   \n",
       "6232          Anthropology (Books)                                Humour   \n",
       "6233  Contemporary Fiction (Books)             Crime, Thriller & Mystery   \n",
       "6234               Romance (Books)                               Romance   \n",
       "6235    Action & Adventure (Books)                    Action & Adventure   \n",
       "6236    Action & Adventure (Books)                    Action & Adventure   \n",
       "\n",
       "       Price      Print  Year  \n",
       "0     220.00  Paperback  2016  \n",
       "1     202.93  Paperback  2012  \n",
       "2     299.00  Paperback  1982  \n",
       "3     180.00  Paperback  2017  \n",
       "4     965.62  Hardcover  2006  \n",
       "...      ...        ...   ...  \n",
       "6232  322.00  Paperback  2018  \n",
       "6233  421.00  Paperback  2016  \n",
       "6234  399.00  Paperback  2006  \n",
       "6235  319.00  Paperback  2015  \n",
       "6236  452.00  Paperback  2016  \n",
       "\n",
       "[6237 rows x 11 columns]"
      ]
     },
     "execution_count": 23,
     "metadata": {},
     "output_type": "execute_result"
    }
   ],
   "source": [
    "df_train"
   ]
  },
  {
   "cell_type": "code",
   "execution_count": 24,
   "id": "ae8204d5",
   "metadata": {},
   "outputs": [],
   "source": [
    "# Import label encoder\n",
    "from sklearn import preprocessing\n",
    " \n",
    "# label_encoder object knows how to understand word labels.\n",
    "label_encoder = preprocessing.LabelEncoder()\n",
    " \n",
    "# Encode labels in column 'species'.\n",
    "df_train['Title']= label_encoder.fit_transform(df_train['Title'])\n",
    "df_train['Author']= label_encoder.fit_transform(df_train['Author'])\n",
    "df_train['Edition']= label_encoder.fit_transform(df_train['Edition'])\n",
    "df_train['Genre']= label_encoder.fit_transform(df_train['Genre'])\n",
    "df_train['BookCategory']= label_encoder.fit_transform(df_train['BookCategory'])\n",
    "df_train['Print']= label_encoder.fit_transform(df_train['Print'])\n",
    "df_train['Year']= label_encoder.fit_transform(df_train['Year'])\n",
    "\n",
    "\n"
   ]
  },
  {
   "cell_type": "code",
   "execution_count": 25,
   "id": "8b4fac38",
   "metadata": {},
   "outputs": [],
   "source": [
    "df_train.drop('Synopsis', axis=1, inplace=True)"
   ]
  },
  {
   "cell_type": "code",
   "execution_count": 26,
   "id": "0ea7d056",
   "metadata": {},
   "outputs": [
    {
     "name": "stdout",
     "output_type": "stream",
     "text": [
      "<class 'pandas.core.frame.DataFrame'>\n",
      "RangeIndex: 6237 entries, 0 to 6236\n",
      "Data columns (total 10 columns):\n",
      " #   Column        Non-Null Count  Dtype  \n",
      "---  ------        --------------  -----  \n",
      " 0   Title         6237 non-null   int32  \n",
      " 1   Author        6237 non-null   int32  \n",
      " 2   Edition       6237 non-null   int32  \n",
      " 3   Reviews       6237 non-null   object \n",
      " 4   Ratings       6237 non-null   int32  \n",
      " 5   Genre         6237 non-null   int32  \n",
      " 6   BookCategory  6237 non-null   int32  \n",
      " 7   Price         6237 non-null   float64\n",
      " 8   Print         6237 non-null   int32  \n",
      " 9   Year          6237 non-null   int32  \n",
      "dtypes: float64(1), int32(8), object(1)\n",
      "memory usage: 292.5+ KB\n"
     ]
    }
   ],
   "source": [
    "df_train.info()"
   ]
  },
  {
   "cell_type": "code",
   "execution_count": 27,
   "id": "ae448c13",
   "metadata": {},
   "outputs": [],
   "source": [
    "df_train['Reviews'] = pd.to_numeric(df_train['Reviews'], errors='coerce')"
   ]
  },
  {
   "cell_type": "code",
   "execution_count": 28,
   "id": "f742b52d",
   "metadata": {},
   "outputs": [],
   "source": [
    "Q1 = df_train.quantile(0.25)\n",
    "Q3 = df_train.quantile(0.75)\n",
    "IQR = Q3 - Q1\n",
    "UL = Q3 + 1.5*IQR\n",
    "LL = Q1 - 1.5*IQR"
   ]
  },
  {
   "cell_type": "code",
   "execution_count": 29,
   "id": "d811f39c",
   "metadata": {},
   "outputs": [
    {
     "data": {
      "text/plain": [
       "Title             0\n",
       "Author            0\n",
       "Edition           0\n",
       "Reviews         160\n",
       "Ratings         756\n",
       "Genre             0\n",
       "BookCategory      0\n",
       "Price           597\n",
       "Print           884\n",
       "Year            439\n",
       "dtype: int64"
      ]
     },
     "execution_count": 29,
     "metadata": {},
     "output_type": "execute_result"
    }
   ],
   "source": [
    "((df_train > UL) | (df_train < LL)).sum()"
   ]
  },
  {
   "cell_type": "code",
   "execution_count": 30,
   "id": "dbe9f108",
   "metadata": {},
   "outputs": [],
   "source": [
    "def univariateAnalysis_numeric(column,nbins):\n",
    "    print(\"Description of \" + column)\n",
    "    print(\"----------------------------------------------------------------------------\")\n",
    "    print(df_train[column].describe(),end=' ')\n",
    "    \n",
    "    \n",
    "    plt.figure(figsize=(4,4))\n",
    "    print(\"Distribution of \" + column)\n",
    "    print(\"----------------------------------------------------------------------------\")\n",
    "    plt.hist(x=df_train[column])\n",
    "    plt.show()\n",
    "    \n",
    "    plt.figure(figsize=(4,4))\n",
    "    print(\"BoxPlot of \" + column)\n",
    "    print(\"----------------------------------------------------------------------------\")\n",
    "    ax = sns.boxplot(x=df_train[column])\n",
    "\n",
    "    plt.show()"
   ]
  },
  {
   "cell_type": "code",
   "execution_count": 31,
   "id": "897e16fc",
   "metadata": {},
   "outputs": [
    {
     "data": {
      "text/plain": [
       "10"
      ]
     },
     "execution_count": 31,
     "metadata": {},
     "output_type": "execute_result"
    }
   ],
   "source": [
    "df_num2 = df_train.select_dtypes(include = ['float64', 'int64','int32'])\n",
    "lstnumericcolumns = list(df_num2.columns.values)\n",
    "len(lstnumericcolumns)"
   ]
  },
  {
   "cell_type": "code",
   "execution_count": 32,
   "id": "6fd98407",
   "metadata": {},
   "outputs": [
    {
     "name": "stdout",
     "output_type": "stream",
     "text": [
      "Description of Title\n",
      "----------------------------------------------------------------------------\n",
      "count    6237.000000\n",
      "mean     2782.260061\n",
      "std      1614.438441\n",
      "min         0.000000\n",
      "25%      1374.000000\n",
      "50%      2797.000000\n",
      "75%      4178.000000\n",
      "max      5567.000000\n",
      "Name: Title, dtype: float64 Distribution of Title\n",
      "----------------------------------------------------------------------------\n"
     ]
    },
    {
     "data": {
      "image/png": "[encoded data removed]",
      "text/plain": [
       "<Figure size 288x288 with 1 Axes>"
      ]
     },
     "metadata": {
      "needs_background": "light"
     },
     "output_type": "display_data"
    },
    {
     "name": "stdout",
     "output_type": "stream",
     "text": [
      "BoxPlot of Title\n",
      "----------------------------------------------------------------------------\n"
     ]
    },
    {
     "data": {
      "image/png": "[encoded data removed]",
      "text/plain": [
       "<Figure size 288x288 with 1 Axes>"
      ]
     },
     "metadata": {
      "needs_background": "light"
     },
     "output_type": "display_data"
    },
    {
     "name": "stdout",
     "output_type": "stream",
     "text": [
      "Description of Author\n",
      "----------------------------------------------------------------------------\n",
      "count    6237.000000\n",
      "mean     1795.325317\n",
      "std      1058.152146\n",
      "min         0.000000\n",
      "25%       893.000000\n",
      "50%      1787.000000\n",
      "75%      2699.000000\n",
      "max      3678.000000\n",
      "Name: Author, dtype: float64 Distribution of Author\n",
      "----------------------------------------------------------------------------\n"
     ]
    },
    {
     "data": {
      "image/png": "[encoded data removed]",
      "text/plain": [
       "<Figure size 288x288 with 1 Axes>"
      ]
     },
     "metadata": {
      "needs_background": "light"
     },
     "output_type": "display_data"
    },
    {
     "name": "stdout",
     "output_type": "stream",
     "text": [
      "BoxPlot of Author\n",
      "----------------------------------------------------------------------------\n"
     ]
    },
    {
     "data": {
      "image/png": "[encoded data removed]",
      "text/plain": [
       "<Figure size 288x288 with 1 Axes>"
      ]
     },
     "metadata": {
      "needs_background": "light"
     },
     "output_type": "display_data"
    },
    {
     "name": "stdout",
     "output_type": "stream",
     "text": [
      "Description of Edition\n",
      "----------------------------------------------------------------------------\n",
      "count    6237.000000\n",
      "mean     1734.837101\n",
      "std       901.926928\n",
      "min         0.000000\n",
      "25%       992.000000\n",
      "50%      1749.000000\n",
      "75%      2485.000000\n",
      "max      3369.000000\n",
      "Name: Edition, dtype: float64 Distribution of Edition\n",
      "----------------------------------------------------------------------------\n"
     ]
    },
    {
     "data": {
      "image/png": "[encoded data removed]",
      "text/plain": [
       "<Figure size 288x288 with 1 Axes>"
      ]
     },
     "metadata": {
      "needs_background": "light"
     },
     "output_type": "display_data"
    },
    {
     "name": "stdout",
     "output_type": "stream",
     "text": [
      "BoxPlot of Edition\n",
      "----------------------------------------------------------------------------\n"
     ]
    },
    {
     "data": {
      "image/png": "[encoded data removed]",
      "text/plain": [
       "<Figure size 288x288 with 1 Axes>"
      ]
     },
     "metadata": {
      "needs_background": "light"
     },
     "output_type": "display_data"
    },
    {
     "name": "stdout",
     "output_type": "stream",
     "text": [
      "Description of Reviews\n",
      "----------------------------------------------------------------------------\n",
      "count    6237.000000\n",
      "mean        4.293202\n",
      "std         0.662501\n",
      "min         1.000000\n",
      "25%         4.000000\n",
      "50%         4.400000\n",
      "75%         4.800000\n",
      "max         5.000000\n",
      "Name: Reviews, dtype: float64 Distribution of Reviews\n",
      "----------------------------------------------------------------------------\n"
     ]
    },
    {
     "data": {
      "image/png": "[encoded data removed]",
      "text/plain": [
       "<Figure size 288x288 with 1 Axes>"
      ]
     },
     "metadata": {
      "needs_background": "light"
     },
     "output_type": "display_data"
    },
    {
     "name": "stdout",
     "output_type": "stream",
     "text": [
      "BoxPlot of Reviews\n",
      "----------------------------------------------------------------------------\n"
     ]
    },
    {
     "data": {
      "image/png": "[encoded data removed]",
      "text/plain": [
       "<Figure size 288x288 with 1 Axes>"
      ]
     },
     "metadata": {
      "needs_background": "light"
     },
     "output_type": "display_data"
    },
    {
     "name": "stdout",
     "output_type": "stream",
     "text": [
      "Description of Ratings\n",
      "----------------------------------------------------------------------------\n",
      "count    6237.000000\n",
      "mean       35.984287\n",
      "std       149.995031\n",
      "min         1.000000\n",
      "25%         2.000000\n",
      "50%         7.000000\n",
      "75%        22.000000\n",
      "max      6090.000000\n",
      "Name: Ratings, dtype: float64 Distribution of Ratings\n",
      "----------------------------------------------------------------------------\n"
     ]
    },
    {
     "data": {
      "image/png": "[encoded data removed]",
      "text/plain": [
       "<Figure size 288x288 with 1 Axes>"
      ]
     },
     "metadata": {
      "needs_background": "light"
     },
     "output_type": "display_data"
    },
    {
     "name": "stdout",
     "output_type": "stream",
     "text": [
      "BoxPlot of Ratings\n",
      "----------------------------------------------------------------------------\n"
     ]
    },
    {
     "data": {
      "image/png": "[encoded data removed]",
      "text/plain": [
       "<Figure size 288x288 with 1 Axes>"
      ]
     },
     "metadata": {
      "needs_background": "light"
     },
     "output_type": "display_data"
    },
    {
     "name": "stdout",
     "output_type": "stream",
     "text": [
      "Description of Genre\n",
      "----------------------------------------------------------------------------\n",
      "count    6237.000000\n",
      "mean      136.275453\n",
      "std       103.891373\n",
      "min         0.000000\n",
      "25%        34.000000\n",
      "50%       103.000000\n",
      "75%       218.000000\n",
      "max       344.000000\n",
      "Name: Genre, dtype: float64 Distribution of Genre\n",
      "----------------------------------------------------------------------------\n"
     ]
    },
    {
     "data": {
      "image/png": "[encoded data removed]",
      "text/plain": [
       "<Figure size 288x288 with 1 Axes>"
      ]
     },
     "metadata": {
      "needs_background": "light"
     },
     "output_type": "display_data"
    },
    {
     "name": "stdout",
     "output_type": "stream",
     "text": [
      "BoxPlot of Genre\n",
      "----------------------------------------------------------------------------\n"
     ]
    },
    {
     "data": {
      "image/png": "[encoded data removed]",
      "text/plain": [
       "<Figure size 288x288 with 1 Axes>"
      ]
     },
     "metadata": {
      "needs_background": "light"
     },
     "output_type": "display_data"
    },
    {
     "name": "stdout",
     "output_type": "stream",
     "text": [
      "Description of BookCategory\n",
      "----------------------------------------------------------------------------\n",
      "count    6237.000000\n",
      "mean        4.627385\n",
      "std         3.169320\n",
      "min         0.000000\n",
      "25%         2.000000\n",
      "50%         5.000000\n",
      "75%         7.000000\n",
      "max        10.000000\n",
      "Name: BookCategory, dtype: float64 Distribution of BookCategory\n",
      "----------------------------------------------------------------------------\n"
     ]
    },
    {
     "data": {
      "image/png": "[encoded data removed]",
      "text/plain": [
       "<Figure size 288x288 with 1 Axes>"
      ]
     },
     "metadata": {
      "needs_background": "light"
     },
     "output_type": "display_data"
    },
    {
     "name": "stdout",
     "output_type": "stream",
     "text": [
      "BoxPlot of BookCategory\n",
      "----------------------------------------------------------------------------\n"
     ]
    },
    {
     "data": {
      "image/png": "[encoded data removed]",
      "text/plain": [
       "<Figure size 288x288 with 1 Axes>"
      ]
     },
     "metadata": {
      "needs_background": "light"
     },
     "output_type": "display_data"
    },
    {
     "name": "stdout",
     "output_type": "stream",
     "text": [
      "Description of Price\n",
      "----------------------------------------------------------------------------\n",
      "count     6237.000000\n",
      "mean       560.707516\n",
      "std        690.110657\n",
      "min         25.000000\n",
      "25%        249.180000\n",
      "50%        373.000000\n",
      "75%        599.000000\n",
      "max      14100.000000\n",
      "Name: Price, dtype: float64 Distribution of Price\n",
      "----------------------------------------------------------------------------\n"
     ]
    },
    {
     "data": {
      "image/png": "[encoded data removed]",
      "text/plain": [
       "<Figure size 288x288 with 1 Axes>"
      ]
     },
     "metadata": {
      "needs_background": "light"
     },
     "output_type": "display_data"
    },
    {
     "name": "stdout",
     "output_type": "stream",
     "text": [
      "BoxPlot of Price\n",
      "----------------------------------------------------------------------------\n"
     ]
    },
    {
     "data": {
      "image/png": "[encoded data removed]",
      "text/plain": [
       "<Figure size 288x288 with 1 Axes>"
      ]
     },
     "metadata": {
      "needs_background": "light"
     },
     "output_type": "display_data"
    },
    {
     "name": "stdout",
     "output_type": "stream",
     "text": [
      "Description of Print\n",
      "----------------------------------------------------------------------------\n",
      "count    6237.000000\n",
      "mean        0.858265\n",
      "std         0.348806\n",
      "min         0.000000\n",
      "25%         1.000000\n",
      "50%         1.000000\n",
      "75%         1.000000\n",
      "max         1.000000\n",
      "Name: Print, dtype: float64 Distribution of Print\n",
      "----------------------------------------------------------------------------\n"
     ]
    },
    {
     "data": {
      "image/png": "[encoded data removed]",
      "text/plain": [
       "<Figure size 288x288 with 1 Axes>"
      ]
     },
     "metadata": {
      "needs_background": "light"
     },
     "output_type": "display_data"
    },
    {
     "name": "stdout",
     "output_type": "stream",
     "text": [
      "BoxPlot of Print\n",
      "----------------------------------------------------------------------------\n"
     ]
    },
    {
     "data": {
      "image/png": "[encoded data removed]",
      "text/plain": [
       "<Figure size 288x288 with 1 Axes>"
      ]
     },
     "metadata": {
      "needs_background": "light"
     },
     "output_type": "display_data"
    },
    {
     "name": "stdout",
     "output_type": "stream",
     "text": [
      "Description of Year\n",
      "----------------------------------------------------------------------------\n",
      "count    6237.000000\n",
      "mean       48.900112\n",
      "std         7.759006\n",
      "min         0.000000\n",
      "25%        47.000000\n",
      "50%        52.000000\n",
      "75%        54.000000\n",
      "max        63.000000\n",
      "Name: Year, dtype: float64 Distribution of Year\n",
      "----------------------------------------------------------------------------\n"
     ]
    },
    {
     "data": {
      "image/png": "[encoded data removed]",
      "text/plain": [
       "<Figure size 288x288 with 1 Axes>"
      ]
     },
     "metadata": {
      "needs_background": "light"
     },
     "output_type": "display_data"
    },
    {
     "name": "stdout",
     "output_type": "stream",
     "text": [
      "BoxPlot of Year\n",
      "----------------------------------------------------------------------------\n"
     ]
    },
    {
     "data": {
      "image/png": "[encoded data removed]",
      "text/plain": [
       "<Figure size 288x288 with 1 Axes>"
      ]
     },
     "metadata": {
      "needs_background": "light"
     },
     "output_type": "display_data"
    }
   ],
   "source": [
    "for x in lstnumericcolumns:\n",
    "    univariateAnalysis_numeric(x,20)"
   ]
  },
  {
   "cell_type": "code",
   "execution_count": 33,
   "id": "25359cda",
   "metadata": {},
   "outputs": [
    {
     "data": {
      "text/plain": [
       "<AxesSubplot:>"
      ]
     },
     "execution_count": 33,
     "metadata": {},
     "output_type": "execute_result"
    },
    {
     "data": {
      "image/png": "[encoded data removed]",
      "text/plain": [
       "<Figure size 792x648 with 2 Axes>"
      ]
     },
     "metadata": {},
     "output_type": "display_data"
    }
   ],
   "source": [
    "#sns.heatmap(df_imputed.corr(),annot=True);\n",
    "#ax = sns.heatmap(df_imputed.corr(), annot=True, fmt=\"f\")\n",
    "\n",
    "\n",
    "from string import ascii_letters\n",
    "\n",
    "\n",
    "sns.set_theme(style=\"white\")\n",
    "\n",
    "# Generate a large random dataset\n",
    "#rs = np.random.RandomState(33)\n",
    "#d = pd.DataFrame(data=rs.normal(size=(100, 26)),\n",
    "#                 columns=list(ascii_letters[26:]))\n",
    "\n",
    "# Compute the correlation matrix\n",
    "corr = df_train.corr()\n",
    "\n",
    "# Generate a mask for the upper triangle\n",
    "mask = np.triu(np.ones_like(corr, dtype=bool))\n",
    "\n",
    "# Set up the matplotlib figure\n",
    "f, ax = plt.subplots(figsize=(11, 9))\n",
    "\n",
    "# Generate a custom diverging colormap\n",
    "cmap = sns.diverging_palette(230, 20, as_cmap=True)\n",
    "\n",
    "# Draw the heatmap with the mask and correct aspect ratio\n",
    "sns.heatmap(corr, mask=mask, cmap=cmap, vmax=.3, center=0,\n",
    "            square=True, linewidths=.5, cbar_kws={\"shrink\": .5})"
   ]
  },
  {
   "cell_type": "code",
   "execution_count": 34,
   "id": "f428267a",
   "metadata": {},
   "outputs": [
    {
     "data": {
      "image/png": "[encoded data removed]",
      "text/plain": [
       "<Figure size 2088x2088 with 2 Axes>"
      ]
     },
     "metadata": {},
     "output_type": "display_data"
    }
   ],
   "source": [
    "#calculate column correlations and make a seaborn heatmap - Before standardisation\n",
    "corr = df_train.corr()\n",
    "kot = corr[corr>=0.4]\n",
    "plt.figure(figsize=(29,29))\n",
    "#p.set(font_scale=2)\n",
    "# setting the size of figure to 12 by 10\n",
    "#p=sns.heatmap(kot, annot=True,square=True,annot_kws={'size':16})\n",
    "#sns.color_palette(\"light:#5A9\", as_cmap=True)\n",
    "sns.set(font_scale=2)\n",
    "heat_map = sns.heatmap(kot, annot=True)\n",
    "plt.show()\n"
   ]
  },
  {
   "cell_type": "code",
   "execution_count": 35,
   "id": "302d8e2a",
   "metadata": {},
   "outputs": [
    {
     "data": {
      "image/png": "[encoded data removed]",
      "text/plain": [
       "<Figure size 1440x576 with 1 Axes>"
      ]
     },
     "metadata": {},
     "output_type": "display_data"
    }
   ],
   "source": [
    "df_train.boxplot(figsize=(20,8))\n",
    "plt.xticks(rotation=90)\n",
    "plt.show()"
   ]
  },
  {
   "cell_type": "code",
   "execution_count": 36,
   "id": "6fe333d1",
   "metadata": {},
   "outputs": [
    {
     "data": {
      "text/html": [
       "<div>\n",
       "<style scoped>\n",
       "    .dataframe tbody tr th:only-of-type {\n",
       "        vertical-align: middle;\n",
       "    }\n",
       "\n",
       "    .dataframe tbody tr th {\n",
       "        vertical-align: top;\n",
       "    }\n",
       "\n",
       "    .dataframe thead th {\n",
       "        text-align: right;\n",
       "    }\n",
       "</style>\n",
       "<table border=\"1\" class=\"dataframe\">\n",
       "  <thead>\n",
       "    <tr style=\"text-align: right;\">\n",
       "      <th></th>\n",
       "      <th>Title</th>\n",
       "      <th>Author</th>\n",
       "      <th>Edition</th>\n",
       "      <th>Reviews</th>\n",
       "      <th>Ratings</th>\n",
       "      <th>Synopsis</th>\n",
       "      <th>Genre</th>\n",
       "      <th>BookCategory</th>\n",
       "    </tr>\n",
       "  </thead>\n",
       "  <tbody>\n",
       "    <tr>\n",
       "      <th>0</th>\n",
       "      <td>The Complete Sherlock Holmes: 2 Boxes sets</td>\n",
       "      <td>Sir Arthur Conan Doyle</td>\n",
       "      <td>Mass Market Paperback,– 1 Oct 1986</td>\n",
       "      <td>4.4 out of 5 stars</td>\n",
       "      <td>960 customer reviews</td>\n",
       "      <td>A collection of entire body of work of the She...</td>\n",
       "      <td>Short Stories (Books)</td>\n",
       "      <td>Crime, Thriller &amp; Mystery</td>\n",
       "    </tr>\n",
       "    <tr>\n",
       "      <th>1</th>\n",
       "      <td>Learn Docker - Fundamentals of Docker 18.x: Ev...</td>\n",
       "      <td>Gabriel N. Schenker</td>\n",
       "      <td>Paperback,– Import, 26 Apr 2018</td>\n",
       "      <td>5.0 out of 5 stars</td>\n",
       "      <td>1 customer review</td>\n",
       "      <td>Enhance your software deployment workflow usin...</td>\n",
       "      <td>Operating Systems Textbooks</td>\n",
       "      <td>Computing, Internet &amp; Digital Media</td>\n",
       "    </tr>\n",
       "    <tr>\n",
       "      <th>2</th>\n",
       "      <td>Big Girl</td>\n",
       "      <td>Danielle Steel</td>\n",
       "      <td>Paperback,– 17 Mar 2011</td>\n",
       "      <td>5.0 out of 5 stars</td>\n",
       "      <td>4 customer reviews</td>\n",
       "      <td>'Watch out, world. Here I come!'\\nFor Victoria...</td>\n",
       "      <td>Romance (Books)</td>\n",
       "      <td>Romance</td>\n",
       "    </tr>\n",
       "    <tr>\n",
       "      <th>3</th>\n",
       "      <td>Think Python: How to Think Like a Computer Sci...</td>\n",
       "      <td>Allen B. Downey</td>\n",
       "      <td>Paperback,– 2016</td>\n",
       "      <td>4.1 out of 5 stars</td>\n",
       "      <td>11 customer reviews</td>\n",
       "      <td>If you want to learn how to program, working w...</td>\n",
       "      <td>Programming &amp; Software Development (Books)</td>\n",
       "      <td>Computing, Internet &amp; Digital Media</td>\n",
       "    </tr>\n",
       "    <tr>\n",
       "      <th>4</th>\n",
       "      <td>Oxford Word Skills: Advanced - Idioms &amp; Phrasa...</td>\n",
       "      <td>Redman Gairns</td>\n",
       "      <td>Paperback,– 26 Dec 2011</td>\n",
       "      <td>4.4 out of 5 stars</td>\n",
       "      <td>9 customer reviews</td>\n",
       "      <td>Learn and practise the verbs, prepositions and...</td>\n",
       "      <td>Linguistics (Books)</td>\n",
       "      <td>Language, Linguistics &amp; Writing</td>\n",
       "    </tr>\n",
       "    <tr>\n",
       "      <th>...</th>\n",
       "      <td>...</td>\n",
       "      <td>...</td>\n",
       "      <td>...</td>\n",
       "      <td>...</td>\n",
       "      <td>...</td>\n",
       "      <td>...</td>\n",
       "      <td>...</td>\n",
       "      <td>...</td>\n",
       "    </tr>\n",
       "    <tr>\n",
       "      <th>1555</th>\n",
       "      <td>100 Things Every Designer Needs to Know About ...</td>\n",
       "      <td>Susan Weinschenk</td>\n",
       "      <td>Paperback,– 14 Apr 2011</td>\n",
       "      <td>5.0 out of 5 stars</td>\n",
       "      <td>4 customer reviews</td>\n",
       "      <td>We design to elicit responses from people. We ...</td>\n",
       "      <td>Design</td>\n",
       "      <td>Computing, Internet &amp; Digital Media</td>\n",
       "    </tr>\n",
       "    <tr>\n",
       "      <th>1556</th>\n",
       "      <td>Modern Letter Writing Course: Personal, Busine...</td>\n",
       "      <td>ARUN SAGAR</td>\n",
       "      <td>Paperback,– 8 May 2013</td>\n",
       "      <td>3.6 out of 5 stars</td>\n",
       "      <td>13 customer reviews</td>\n",
       "      <td>A 30-day course to write simple, sharp and att...</td>\n",
       "      <td>Children's Reference (Books)</td>\n",
       "      <td>Biographies, Diaries &amp; True Accounts</td>\n",
       "    </tr>\n",
       "    <tr>\n",
       "      <th>1557</th>\n",
       "      <td>The Kite Runner Graphic Novel</td>\n",
       "      <td>Khaled Hosseini</td>\n",
       "      <td>Paperback,– 6 Sep 2011</td>\n",
       "      <td>4.0 out of 5 stars</td>\n",
       "      <td>5 customer reviews</td>\n",
       "      <td>The perennial bestseller-now available as a se...</td>\n",
       "      <td>Humour (Books)</td>\n",
       "      <td>Humour</td>\n",
       "    </tr>\n",
       "    <tr>\n",
       "      <th>1558</th>\n",
       "      <td>Panzer Leader (Penguin World War II Collection)</td>\n",
       "      <td>Heinz Guderian</td>\n",
       "      <td>Paperback,– 22 Sep 2009</td>\n",
       "      <td>3.5 out of 5 stars</td>\n",
       "      <td>3 customer reviews</td>\n",
       "      <td>Heinz Guderian - master of the Blitzkrieg and ...</td>\n",
       "      <td>United States History</td>\n",
       "      <td>Biographies, Diaries &amp; True Accounts</td>\n",
       "    </tr>\n",
       "    <tr>\n",
       "      <th>1559</th>\n",
       "      <td>Complete Spanish Step-by-Step</td>\n",
       "      <td>Barbara Bregstein</td>\n",
       "      <td>Paperback,– 16 Sep 2016</td>\n",
       "      <td>4.5 out of 5 stars</td>\n",
       "      <td>2 customer reviews</td>\n",
       "      <td>Learn Spanish with the most convenient and eff...</td>\n",
       "      <td>Dictionaries</td>\n",
       "      <td>Language, Linguistics &amp; Writing</td>\n",
       "    </tr>\n",
       "  </tbody>\n",
       "</table>\n",
       "<p>1560 rows × 8 columns</p>\n",
       "</div>"
      ],
      "text/plain": [
       "                                                  Title  \\\n",
       "0            The Complete Sherlock Holmes: 2 Boxes sets   \n",
       "1     Learn Docker - Fundamentals of Docker 18.x: Ev...   \n",
       "2                                              Big Girl   \n",
       "3     Think Python: How to Think Like a Computer Sci...   \n",
       "4     Oxford Word Skills: Advanced - Idioms & Phrasa...   \n",
       "...                                                 ...   \n",
       "1555  100 Things Every Designer Needs to Know About ...   \n",
       "1556  Modern Letter Writing Course: Personal, Busine...   \n",
       "1557                      The Kite Runner Graphic Novel   \n",
       "1558    Panzer Leader (Penguin World War II Collection)   \n",
       "1559                      Complete Spanish Step-by-Step   \n",
       "\n",
       "                      Author                             Edition  \\\n",
       "0     Sir Arthur Conan Doyle  Mass Market Paperback,– 1 Oct 1986   \n",
       "1        Gabriel N. Schenker     Paperback,– Import, 26 Apr 2018   \n",
       "2             Danielle Steel             Paperback,– 17 Mar 2011   \n",
       "3            Allen B. Downey                    Paperback,– 2016   \n",
       "4              Redman Gairns             Paperback,– 26 Dec 2011   \n",
       "...                      ...                                 ...   \n",
       "1555        Susan Weinschenk             Paperback,– 14 Apr 2011   \n",
       "1556              ARUN SAGAR              Paperback,– 8 May 2013   \n",
       "1557         Khaled Hosseini              Paperback,– 6 Sep 2011   \n",
       "1558          Heinz Guderian             Paperback,– 22 Sep 2009   \n",
       "1559       Barbara Bregstein             Paperback,– 16 Sep 2016   \n",
       "\n",
       "                 Reviews               Ratings  \\\n",
       "0     4.4 out of 5 stars  960 customer reviews   \n",
       "1     5.0 out of 5 stars     1 customer review   \n",
       "2     5.0 out of 5 stars    4 customer reviews   \n",
       "3     4.1 out of 5 stars   11 customer reviews   \n",
       "4     4.4 out of 5 stars    9 customer reviews   \n",
       "...                  ...                   ...   \n",
       "1555  5.0 out of 5 stars    4 customer reviews   \n",
       "1556  3.6 out of 5 stars   13 customer reviews   \n",
       "1557  4.0 out of 5 stars    5 customer reviews   \n",
       "1558  3.5 out of 5 stars    3 customer reviews   \n",
       "1559  4.5 out of 5 stars    2 customer reviews   \n",
       "\n",
       "                                               Synopsis  \\\n",
       "0     A collection of entire body of work of the She...   \n",
       "1     Enhance your software deployment workflow usin...   \n",
       "2     'Watch out, world. Here I come!'\\nFor Victoria...   \n",
       "3     If you want to learn how to program, working w...   \n",
       "4     Learn and practise the verbs, prepositions and...   \n",
       "...                                                 ...   \n",
       "1555  We design to elicit responses from people. We ...   \n",
       "1556  A 30-day course to write simple, sharp and att...   \n",
       "1557  The perennial bestseller-now available as a se...   \n",
       "1558  Heinz Guderian - master of the Blitzkrieg and ...   \n",
       "1559  Learn Spanish with the most convenient and eff...   \n",
       "\n",
       "                                           Genre  \\\n",
       "0                          Short Stories (Books)   \n",
       "1                    Operating Systems Textbooks   \n",
       "2                                Romance (Books)   \n",
       "3     Programming & Software Development (Books)   \n",
       "4                            Linguistics (Books)   \n",
       "...                                          ...   \n",
       "1555                                      Design   \n",
       "1556                Children's Reference (Books)   \n",
       "1557                              Humour (Books)   \n",
       "1558                       United States History   \n",
       "1559                                Dictionaries   \n",
       "\n",
       "                              BookCategory  \n",
       "0                Crime, Thriller & Mystery  \n",
       "1      Computing, Internet & Digital Media  \n",
       "2                                  Romance  \n",
       "3      Computing, Internet & Digital Media  \n",
       "4          Language, Linguistics & Writing  \n",
       "...                                    ...  \n",
       "1555   Computing, Internet & Digital Media  \n",
       "1556  Biographies, Diaries & True Accounts  \n",
       "1557                                Humour  \n",
       "1558  Biographies, Diaries & True Accounts  \n",
       "1559       Language, Linguistics & Writing  \n",
       "\n",
       "[1560 rows x 8 columns]"
      ]
     },
     "execution_count": 36,
     "metadata": {},
     "output_type": "execute_result"
    }
   ],
   "source": [
    "df_test"
   ]
  },
  {
   "cell_type": "code",
   "execution_count": 37,
   "id": "4e6efbdd",
   "metadata": {},
   "outputs": [
    {
     "name": "stdout",
     "output_type": "stream",
     "text": [
      "Duplicate Rows :\n"
     ]
    },
    {
     "data": {
      "text/html": [
       "<div>\n",
       "<style scoped>\n",
       "    .dataframe tbody tr th:only-of-type {\n",
       "        vertical-align: middle;\n",
       "    }\n",
       "\n",
       "    .dataframe tbody tr th {\n",
       "        vertical-align: top;\n",
       "    }\n",
       "\n",
       "    .dataframe thead th {\n",
       "        text-align: right;\n",
       "    }\n",
       "</style>\n",
       "<table border=\"1\" class=\"dataframe\">\n",
       "  <thead>\n",
       "    <tr style=\"text-align: right;\">\n",
       "      <th></th>\n",
       "      <th>Title</th>\n",
       "      <th>Author</th>\n",
       "      <th>Edition</th>\n",
       "      <th>Reviews</th>\n",
       "      <th>Ratings</th>\n",
       "      <th>Synopsis</th>\n",
       "      <th>Genre</th>\n",
       "      <th>BookCategory</th>\n",
       "    </tr>\n",
       "  </thead>\n",
       "  <tbody>\n",
       "    <tr>\n",
       "      <th>1090</th>\n",
       "      <td>The Rustlers of the West Fork (Hopalong Cassidy)</td>\n",
       "      <td>Louis L'Amour</td>\n",
       "      <td>Mass Market Paperback,– 1 Apr 1992</td>\n",
       "      <td>5.0 out of 5 stars</td>\n",
       "      <td>2 customer reviews</td>\n",
       "      <td>In this first of four classic frontier novels,...</td>\n",
       "      <td>Action &amp; Adventure (Books)</td>\n",
       "      <td>Action &amp; Adventure</td>\n",
       "    </tr>\n",
       "    <tr>\n",
       "      <th>1095</th>\n",
       "      <td>The Princess Bride: S. Morgenstern's Classic T...</td>\n",
       "      <td>William Goldman</td>\n",
       "      <td>Mass Market Paperback,– 26 Mar 2010</td>\n",
       "      <td>3.8 out of 5 stars</td>\n",
       "      <td>6 customer reviews</td>\n",
       "      <td>William Goldman's modern fantasy classic is a ...</td>\n",
       "      <td>Action &amp; Adventure (Books)</td>\n",
       "      <td>Action &amp; Adventure</td>\n",
       "    </tr>\n",
       "    <tr>\n",
       "      <th>1103</th>\n",
       "      <td>Everybody Lies: The New York Times Bestseller</td>\n",
       "      <td>Seth Stephens-Davidowitz</td>\n",
       "      <td>Paperback,– 18 Apr 2018</td>\n",
       "      <td>4.3 out of 5 stars</td>\n",
       "      <td>27 customer reviews</td>\n",
       "      <td>THE NEW YORK TIMES BESTSELLER\\nAN ECONOMIST BO...</td>\n",
       "      <td>Political Structure &amp; Processes (Books)</td>\n",
       "      <td>Action &amp; Adventure</td>\n",
       "    </tr>\n",
       "    <tr>\n",
       "      <th>1253</th>\n",
       "      <td>Flint</td>\n",
       "      <td>Louis L'Amour</td>\n",
       "      <td>Mass Market Paperback,– 3 Nov 1997</td>\n",
       "      <td>4.3 out of 5 stars</td>\n",
       "      <td>4 customer reviews</td>\n",
       "      <td>He left the West at the age of seventeen, leav...</td>\n",
       "      <td>Action &amp; Adventure (Books)</td>\n",
       "      <td>Action &amp; Adventure</td>\n",
       "    </tr>\n",
       "    <tr>\n",
       "      <th>1316</th>\n",
       "      <td>The Five Greatest Warriors (Jack West Series)</td>\n",
       "      <td>Matthew Reilly</td>\n",
       "      <td>Paperback,– 25 Nov 2010</td>\n",
       "      <td>4.4 out of 5 stars</td>\n",
       "      <td>12 customer reviews</td>\n",
       "      <td>The end is approaching ... Can Jack West unrav...</td>\n",
       "      <td>Action &amp; Adventure (Books)</td>\n",
       "      <td>Action &amp; Adventure</td>\n",
       "    </tr>\n",
       "    <tr>\n",
       "      <th>1340</th>\n",
       "      <td>Alita: Battle Angel – The Official Movie Novel...</td>\n",
       "      <td>Pat Cadigan</td>\n",
       "      <td>Paperback,– 14 Feb 2019</td>\n",
       "      <td>3.9 out of 5 stars</td>\n",
       "      <td>7 customer reviews</td>\n",
       "      <td>The ofﬁcial novelization to the highly anticip...</td>\n",
       "      <td>Action &amp; Adventure (Books)</td>\n",
       "      <td>Action &amp; Adventure</td>\n",
       "    </tr>\n",
       "    <tr>\n",
       "      <th>1407</th>\n",
       "      <td>The Curious Incident of the Dog in the Night-t...</td>\n",
       "      <td>Mark Haddon</td>\n",
       "      <td>Paperback,– 2 Aug 2012</td>\n",
       "      <td>4.0 out of 5 stars</td>\n",
       "      <td>96 customer reviews</td>\n",
       "      <td>A Children’s Bookshelf Selection: Each month o...</td>\n",
       "      <td>Action &amp; Adventure (Books)</td>\n",
       "      <td>Action &amp; Adventure</td>\n",
       "    </tr>\n",
       "    <tr>\n",
       "      <th>1453</th>\n",
       "      <td>Storm and Silence: Volume 1 (Storm and Silence...</td>\n",
       "      <td>Robert Thier</td>\n",
       "      <td>Paperback,– 19 Mar 2016</td>\n",
       "      <td>5.0 out of 5 stars</td>\n",
       "      <td>59 customer reviews</td>\n",
       "      <td>Freedom - that is what Lilly Linton wants most...</td>\n",
       "      <td>Action &amp; Adventure (Books)</td>\n",
       "      <td>Action &amp; Adventure</td>\n",
       "    </tr>\n",
       "  </tbody>\n",
       "</table>\n",
       "</div>"
      ],
      "text/plain": [
       "                                                  Title  \\\n",
       "1090   The Rustlers of the West Fork (Hopalong Cassidy)   \n",
       "1095  The Princess Bride: S. Morgenstern's Classic T...   \n",
       "1103      Everybody Lies: The New York Times Bestseller   \n",
       "1253                                              Flint   \n",
       "1316      The Five Greatest Warriors (Jack West Series)   \n",
       "1340  Alita: Battle Angel – The Official Movie Novel...   \n",
       "1407  The Curious Incident of the Dog in the Night-t...   \n",
       "1453  Storm and Silence: Volume 1 (Storm and Silence...   \n",
       "\n",
       "                        Author                              Edition  \\\n",
       "1090             Louis L'Amour   Mass Market Paperback,– 1 Apr 1992   \n",
       "1095           William Goldman  Mass Market Paperback,– 26 Mar 2010   \n",
       "1103  Seth Stephens-Davidowitz              Paperback,– 18 Apr 2018   \n",
       "1253             Louis L'Amour   Mass Market Paperback,– 3 Nov 1997   \n",
       "1316            Matthew Reilly              Paperback,– 25 Nov 2010   \n",
       "1340               Pat Cadigan              Paperback,– 14 Feb 2019   \n",
       "1407               Mark Haddon               Paperback,– 2 Aug 2012   \n",
       "1453              Robert Thier              Paperback,– 19 Mar 2016   \n",
       "\n",
       "                 Reviews              Ratings  \\\n",
       "1090  5.0 out of 5 stars   2 customer reviews   \n",
       "1095  3.8 out of 5 stars   6 customer reviews   \n",
       "1103  4.3 out of 5 stars  27 customer reviews   \n",
       "1253  4.3 out of 5 stars   4 customer reviews   \n",
       "1316  4.4 out of 5 stars  12 customer reviews   \n",
       "1340  3.9 out of 5 stars   7 customer reviews   \n",
       "1407  4.0 out of 5 stars  96 customer reviews   \n",
       "1453  5.0 out of 5 stars  59 customer reviews   \n",
       "\n",
       "                                               Synopsis  \\\n",
       "1090  In this first of four classic frontier novels,...   \n",
       "1095  William Goldman's modern fantasy classic is a ...   \n",
       "1103  THE NEW YORK TIMES BESTSELLER\\nAN ECONOMIST BO...   \n",
       "1253  He left the West at the age of seventeen, leav...   \n",
       "1316  The end is approaching ... Can Jack West unrav...   \n",
       "1340  The ofﬁcial novelization to the highly anticip...   \n",
       "1407  A Children’s Bookshelf Selection: Each month o...   \n",
       "1453  Freedom - that is what Lilly Linton wants most...   \n",
       "\n",
       "                                        Genre        BookCategory  \n",
       "1090               Action & Adventure (Books)  Action & Adventure  \n",
       "1095               Action & Adventure (Books)  Action & Adventure  \n",
       "1103  Political Structure & Processes (Books)  Action & Adventure  \n",
       "1253               Action & Adventure (Books)  Action & Adventure  \n",
       "1316               Action & Adventure (Books)  Action & Adventure  \n",
       "1340               Action & Adventure (Books)  Action & Adventure  \n",
       "1407               Action & Adventure (Books)  Action & Adventure  \n",
       "1453               Action & Adventure (Books)  Action & Adventure  "
      ]
     },
     "execution_count": 37,
     "metadata": {},
     "output_type": "execute_result"
    }
   ],
   "source": [
    "duplicate = df_test[df_test.duplicated()]\n",
    " \n",
    "print(\"Duplicate Rows :\")\n",
    " \n",
    "# Print the resultant Dataframe\n",
    "duplicate"
   ]
  },
  {
   "cell_type": "code",
   "execution_count": 38,
   "id": "85054ebf",
   "metadata": {},
   "outputs": [
    {
     "data": {
      "text/plain": [
       "Series([], dtype: int64)"
      ]
     },
     "execution_count": 38,
     "metadata": {},
     "output_type": "execute_result"
    }
   ],
   "source": [
    "### Examine missing values\n",
    "df_na = df_test.isna().sum()\n",
    "df_na[df_na.values > 0].sort_values(ascending=False) # Find out all variables that contain missing values"
   ]
  },
  {
   "cell_type": "code",
   "execution_count": 39,
   "id": "6167dd1f",
   "metadata": {},
   "outputs": [
    {
     "data": {
      "text/plain": [
       "Title           0.0\n",
       "Author          0.0\n",
       "Edition         0.0\n",
       "Reviews         0.0\n",
       "Ratings         0.0\n",
       "Synopsis        0.0\n",
       "Genre           0.0\n",
       "BookCategory    0.0\n",
       "dtype: float64"
      ]
     },
     "execution_count": 39,
     "metadata": {},
     "output_type": "execute_result"
    }
   ],
   "source": [
    "df_test.isnull().sum().sort_values(ascending = False)/df_train.index.size"
   ]
  },
  {
   "cell_type": "code",
   "execution_count": 40,
   "id": "16669a17",
   "metadata": {},
   "outputs": [],
   "source": [
    "df_test['Reviews'] = df_test['Reviews'].str[:3]"
   ]
  },
  {
   "cell_type": "code",
   "execution_count": 42,
   "id": "2428184b",
   "metadata": {},
   "outputs": [],
   "source": [
    "df_test['Year'] = df_test['Edition'].str[-4:]"
   ]
  },
  {
   "cell_type": "code",
   "execution_count": 43,
   "id": "769c7249",
   "metadata": {},
   "outputs": [],
   "source": [
    "df_test['Ratings'] = df_test['Ratings'].astype('str').str.extractall('(\\d+)').unstack().fillna('').sum(axis=1).astype(int)"
   ]
  },
  {
   "cell_type": "code",
   "execution_count": 44,
   "id": "b153794e",
   "metadata": {},
   "outputs": [],
   "source": [
    "df_test[\"Print\"]=np.where(df_test[\"Edition\"].str.contains(r'Paperback'),'Paperback','Hardcover')"
   ]
  },
  {
   "cell_type": "code",
   "execution_count": 45,
   "id": "cc0e6e85",
   "metadata": {},
   "outputs": [],
   "source": [
    "# Import label encoder\n",
    "from sklearn import preprocessing\n",
    " \n",
    "# label_encoder object knows how to understand word labels.\n",
    "label_encoder = preprocessing.LabelEncoder()\n",
    " \n",
    "# Encode labels in column 'species'.\n",
    "df_test['Title']= label_encoder.fit_transform(df_test['Title'])\n",
    "df_test['Author']= label_encoder.fit_transform(df_test['Author'])\n",
    "df_test['Edition']= label_encoder.fit_transform(df_test['Edition'])\n",
    "df_test['Genre']= label_encoder.fit_transform(df_test['Genre'])\n",
    "df_test['BookCategory']= label_encoder.fit_transform(df_test['BookCategory'])\n",
    "df_test['Print']= label_encoder.fit_transform(df_test['Print'])\n",
    "df_test['Year']= label_encoder.fit_transform(df_test['Year'])\n",
    "\n",
    "\n"
   ]
  },
  {
   "cell_type": "code",
   "execution_count": 46,
   "id": "1cb9947c",
   "metadata": {},
   "outputs": [],
   "source": [
    "df_test.drop('Synopsis', axis=1, inplace=True)"
   ]
  },
  {
   "cell_type": "code",
   "execution_count": 47,
   "id": "c7195854",
   "metadata": {},
   "outputs": [
    {
     "name": "stdout",
     "output_type": "stream",
     "text": [
      "<class 'pandas.core.frame.DataFrame'>\n",
      "RangeIndex: 1560 entries, 0 to 1559\n",
      "Data columns (total 9 columns):\n",
      " #   Column        Non-Null Count  Dtype \n",
      "---  ------        --------------  ----- \n",
      " 0   Title         1560 non-null   int32 \n",
      " 1   Author        1560 non-null   int32 \n",
      " 2   Edition       1560 non-null   int32 \n",
      " 3   Reviews       1560 non-null   object\n",
      " 4   Ratings       1560 non-null   int32 \n",
      " 5   Genre         1560 non-null   int32 \n",
      " 6   BookCategory  1560 non-null   int32 \n",
      " 7   Year          1560 non-null   int32 \n",
      " 8   Print         1560 non-null   int32 \n",
      "dtypes: int32(8), object(1)\n",
      "memory usage: 61.1+ KB\n"
     ]
    }
   ],
   "source": [
    "df_test.info()"
   ]
  },
  {
   "cell_type": "code",
   "execution_count": 48,
   "id": "9db881e2",
   "metadata": {},
   "outputs": [],
   "source": [
    "df_test['Reviews'] = pd.to_numeric(df_test['Reviews'], errors='coerce')"
   ]
  },
  {
   "cell_type": "code",
   "execution_count": 49,
   "id": "bf5a2147",
   "metadata": {},
   "outputs": [],
   "source": [
    "Q1 = df_train.quantile(0.25)\n",
    "Q3 = df_train.quantile(0.75)\n",
    "IQR = Q3 - Q1\n",
    "UL = Q3 + 1.5*IQR\n",
    "LL = Q1 - 1.5*IQR"
   ]
  },
  {
   "cell_type": "code",
   "execution_count": 50,
   "id": "ba60950b",
   "metadata": {},
   "outputs": [
    {
     "name": "stderr",
     "output_type": "stream",
     "text": [
      "<ipython-input-50-31bdc84346c4>:1: FutureWarning: Automatic reindexing on DataFrame vs Series comparisons is deprecated and will raise ValueError in a future version.  Do `left, right = left.align(right, axis=1, copy=False)` before e.g. `left == right`\n",
      "  ((df_test > UL) | (df_test < LL)).sum()\n",
      "<ipython-input-50-31bdc84346c4>:1: FutureWarning: Automatic reindexing on DataFrame vs Series comparisons is deprecated and will raise ValueError in a future version.  Do `left, right = left.align(right, axis=1, copy=False)` before e.g. `left == right`\n",
      "  ((df_test > UL) | (df_test < LL)).sum()\n"
     ]
    },
    {
     "data": {
      "text/plain": [
       "Author            0\n",
       "BookCategory      0\n",
       "Edition           0\n",
       "Genre             0\n",
       "Price             0\n",
       "Print           249\n",
       "Ratings         166\n",
       "Reviews          33\n",
       "Title             0\n",
       "Year            605\n",
       "dtype: int64"
      ]
     },
     "execution_count": 50,
     "metadata": {},
     "output_type": "execute_result"
    }
   ],
   "source": [
    "((df_test > UL) | (df_test < LL)).sum()"
   ]
  },
  {
   "cell_type": "code",
   "execution_count": 51,
   "id": "460efbc8",
   "metadata": {},
   "outputs": [
    {
     "name": "stdout",
     "output_type": "stream",
     "text": [
      "<class 'pandas.core.frame.DataFrame'>\n",
      "RangeIndex: 1560 entries, 0 to 1559\n",
      "Data columns (total 9 columns):\n",
      " #   Column        Non-Null Count  Dtype  \n",
      "---  ------        --------------  -----  \n",
      " 0   Title         1560 non-null   int32  \n",
      " 1   Author        1560 non-null   int32  \n",
      " 2   Edition       1560 non-null   int32  \n",
      " 3   Reviews       1560 non-null   float64\n",
      " 4   Ratings       1560 non-null   int32  \n",
      " 5   Genre         1560 non-null   int32  \n",
      " 6   BookCategory  1560 non-null   int32  \n",
      " 7   Year          1560 non-null   int32  \n",
      " 8   Print         1560 non-null   int32  \n",
      "dtypes: float64(1), int32(8)\n",
      "memory usage: 61.1 KB\n"
     ]
    }
   ],
   "source": [
    "df_test.info()"
   ]
  },
  {
   "cell_type": "code",
   "execution_count": 52,
   "id": "5f48bc1a",
   "metadata": {},
   "outputs": [],
   "source": [
    "# Copy all the predictor variables into X dataframe\n",
    "X_train = df_train.drop('Price', axis=1)\n",
    "\n",
    "# Copy target into the y dataframe.  \n",
    "y_train = df_train['Price']"
   ]
  },
  {
   "cell_type": "code",
   "execution_count": 53,
   "id": "f3f2cb6d",
   "metadata": {},
   "outputs": [],
   "source": [
    "X_test = df_test"
   ]
  },
  {
   "cell_type": "code",
   "execution_count": 54,
   "id": "44135e57",
   "metadata": {},
   "outputs": [
    {
     "data": {
      "text/plain": [
       "ExtraTreesRegressor()"
      ]
     },
     "execution_count": 54,
     "metadata": {},
     "output_type": "execute_result"
    }
   ],
   "source": [
    "from sklearn.ensemble import ExtraTreesRegressor\n",
    "model = ExtraTreesRegressor()\n",
    "model.fit(X_train,y_train)"
   ]
  },
  {
   "cell_type": "code",
   "execution_count": 55,
   "id": "f0a457d4",
   "metadata": {},
   "outputs": [
    {
     "data": {
      "text/plain": [
       "array([0.11302878, 0.12247086, 0.14305252, 0.09084391, 0.09550647,\n",
       "       0.12586158, 0.11434985, 0.06245697, 0.13242906])"
      ]
     },
     "execution_count": 55,
     "metadata": {},
     "output_type": "execute_result"
    }
   ],
   "source": [
    "model.feature_importances_"
   ]
  },
  {
   "cell_type": "code",
   "execution_count": 56,
   "id": "ad2acab0",
   "metadata": {},
   "outputs": [],
   "source": [
    "n_estimators = [int(x) for x in np.linspace(start = 100, stop = 1200,num = 12)]\n",
    "max_features = ['auto','sqrt']\n",
    "max_depth = [int(x) for x in np.linspace(5,30,num = 6)]\n",
    "min_samples_split = [2,5,10,15,100]\n",
    "min_samples_leaf  = [1,2,5,10]"
   ]
  },
  {
   "cell_type": "code",
   "execution_count": 57,
   "id": "15a1a79b",
   "metadata": {},
   "outputs": [
    {
     "name": "stdout",
     "output_type": "stream",
     "text": [
      "{'n_estimators': [100, 200, 300, 400, 500, 600, 700, 800, 900, 1000, 1100, 1200], 'max_features': ['auto', 'sqrt'], 'max_depth': [5, 10, 15, 20, 25, 30], 'min_samples_split': [2, 5, 10, 15, 100], 'min_samples_leaf': [1, 2, 5, 10]}\n"
     ]
    }
   ],
   "source": [
    "grid = {'n_estimators': n_estimators,\n",
    "        'max_features': max_features,\n",
    "        'max_depth': max_depth,\n",
    "        'min_samples_split': min_samples_split,\n",
    "       'min_samples_leaf': min_samples_leaf}\n",
    "print(grid)"
   ]
  },
  {
   "cell_type": "code",
   "execution_count": 58,
   "id": "b4fe6fb9",
   "metadata": {},
   "outputs": [
    {
     "name": "stdout",
     "output_type": "stream",
     "text": [
      "Fitting 5 folds for each of 10 candidates, totalling 50 fits\n",
      "[CV] END max_depth=10, max_features=sqrt, min_samples_leaf=5, min_samples_split=5, n_estimators=900; total time=   9.8s\n",
      "[CV] END max_depth=10, max_features=sqrt, min_samples_leaf=5, min_samples_split=5, n_estimators=900; total time=  11.3s\n",
      "[CV] END max_depth=10, max_features=sqrt, min_samples_leaf=5, min_samples_split=5, n_estimators=900; total time=   9.3s\n",
      "[CV] END max_depth=10, max_features=sqrt, min_samples_leaf=5, min_samples_split=5, n_estimators=900; total time=   9.4s\n",
      "[CV] END max_depth=10, max_features=sqrt, min_samples_leaf=5, min_samples_split=5, n_estimators=900; total time=   9.1s\n",
      "[CV] END max_depth=15, max_features=sqrt, min_samples_leaf=2, min_samples_split=10, n_estimators=1100; total time=  16.1s\n",
      "[CV] END max_depth=15, max_features=sqrt, min_samples_leaf=2, min_samples_split=10, n_estimators=1100; total time=  19.5s\n",
      "[CV] END max_depth=15, max_features=sqrt, min_samples_leaf=2, min_samples_split=10, n_estimators=1100; total time=  19.9s\n",
      "[CV] END max_depth=15, max_features=sqrt, min_samples_leaf=2, min_samples_split=10, n_estimators=1100; total time=  18.1s\n",
      "[CV] END max_depth=15, max_features=sqrt, min_samples_leaf=2, min_samples_split=10, n_estimators=1100; total time=  19.6s\n",
      "[CV] END max_depth=15, max_features=auto, min_samples_leaf=5, min_samples_split=100, n_estimators=300; total time=  11.8s\n",
      "[CV] END max_depth=15, max_features=auto, min_samples_leaf=5, min_samples_split=100, n_estimators=300; total time=   8.4s\n",
      "[CV] END max_depth=15, max_features=auto, min_samples_leaf=5, min_samples_split=100, n_estimators=300; total time=   8.4s\n",
      "[CV] END max_depth=15, max_features=auto, min_samples_leaf=5, min_samples_split=100, n_estimators=300; total time=   7.4s\n",
      "[CV] END max_depth=15, max_features=auto, min_samples_leaf=5, min_samples_split=100, n_estimators=300; total time=   7.6s\n",
      "[CV] END max_depth=15, max_features=auto, min_samples_leaf=5, min_samples_split=5, n_estimators=400; total time=   6.9s\n",
      "[CV] END max_depth=15, max_features=auto, min_samples_leaf=5, min_samples_split=5, n_estimators=400; total time=   6.0s\n",
      "[CV] END max_depth=15, max_features=auto, min_samples_leaf=5, min_samples_split=5, n_estimators=400; total time=   5.9s\n",
      "[CV] END max_depth=15, max_features=auto, min_samples_leaf=5, min_samples_split=5, n_estimators=400; total time=   7.0s\n",
      "[CV] END max_depth=15, max_features=auto, min_samples_leaf=5, min_samples_split=5, n_estimators=400; total time=   6.6s\n",
      "[CV] END max_depth=20, max_features=auto, min_samples_leaf=10, min_samples_split=5, n_estimators=700; total time=  10.4s\n",
      "[CV] END max_depth=20, max_features=auto, min_samples_leaf=10, min_samples_split=5, n_estimators=700; total time=  10.7s\n",
      "[CV] END max_depth=20, max_features=auto, min_samples_leaf=10, min_samples_split=5, n_estimators=700; total time=  11.2s\n",
      "[CV] END max_depth=20, max_features=auto, min_samples_leaf=10, min_samples_split=5, n_estimators=700; total time=   9.9s\n",
      "[CV] END max_depth=20, max_features=auto, min_samples_leaf=10, min_samples_split=5, n_estimators=700; total time=   9.4s\n",
      "[CV] END max_depth=25, max_features=sqrt, min_samples_leaf=1, min_samples_split=2, n_estimators=1000; total time=  10.5s\n",
      "[CV] END max_depth=25, max_features=sqrt, min_samples_leaf=1, min_samples_split=2, n_estimators=1000; total time=  10.2s\n",
      "[CV] END max_depth=25, max_features=sqrt, min_samples_leaf=1, min_samples_split=2, n_estimators=1000; total time=  10.5s\n",
      "[CV] END max_depth=25, max_features=sqrt, min_samples_leaf=1, min_samples_split=2, n_estimators=1000; total time=   9.9s\n",
      "[CV] END max_depth=25, max_features=sqrt, min_samples_leaf=1, min_samples_split=2, n_estimators=1000; total time=  10.0s\n",
      "[CV] END max_depth=5, max_features=sqrt, min_samples_leaf=10, min_samples_split=15, n_estimators=1100; total time=   3.7s\n",
      "[CV] END max_depth=5, max_features=sqrt, min_samples_leaf=10, min_samples_split=15, n_estimators=1100; total time=   3.9s\n",
      "[CV] END max_depth=5, max_features=sqrt, min_samples_leaf=10, min_samples_split=15, n_estimators=1100; total time=   3.9s\n",
      "[CV] END max_depth=5, max_features=sqrt, min_samples_leaf=10, min_samples_split=15, n_estimators=1100; total time=   4.0s\n",
      "[CV] END max_depth=5, max_features=sqrt, min_samples_leaf=10, min_samples_split=15, n_estimators=1100; total time=   3.8s\n",
      "[CV] END max_depth=15, max_features=sqrt, min_samples_leaf=1, min_samples_split=15, n_estimators=300; total time=   1.9s\n",
      "[CV] END max_depth=15, max_features=sqrt, min_samples_leaf=1, min_samples_split=15, n_estimators=300; total time=   1.9s\n",
      "[CV] END max_depth=15, max_features=sqrt, min_samples_leaf=1, min_samples_split=15, n_estimators=300; total time=   1.9s\n",
      "[CV] END max_depth=15, max_features=sqrt, min_samples_leaf=1, min_samples_split=15, n_estimators=300; total time=   1.9s\n",
      "[CV] END max_depth=15, max_features=sqrt, min_samples_leaf=1, min_samples_split=15, n_estimators=300; total time=   1.9s\n",
      "[CV] END max_depth=5, max_features=sqrt, min_samples_leaf=2, min_samples_split=10, n_estimators=700; total time=   2.5s\n",
      "[CV] END max_depth=5, max_features=sqrt, min_samples_leaf=2, min_samples_split=10, n_estimators=700; total time=   2.6s\n",
      "[CV] END max_depth=5, max_features=sqrt, min_samples_leaf=2, min_samples_split=10, n_estimators=700; total time=   2.8s\n",
      "[CV] END max_depth=5, max_features=sqrt, min_samples_leaf=2, min_samples_split=10, n_estimators=700; total time=   3.4s\n",
      "[CV] END max_depth=5, max_features=sqrt, min_samples_leaf=2, min_samples_split=10, n_estimators=700; total time=   3.5s\n",
      "[CV] END max_depth=20, max_features=auto, min_samples_leaf=1, min_samples_split=15, n_estimators=700; total time=  16.2s\n",
      "[CV] END max_depth=20, max_features=auto, min_samples_leaf=1, min_samples_split=15, n_estimators=700; total time=  15.5s\n",
      "[CV] END max_depth=20, max_features=auto, min_samples_leaf=1, min_samples_split=15, n_estimators=700; total time=  13.8s\n",
      "[CV] END max_depth=20, max_features=auto, min_samples_leaf=1, min_samples_split=15, n_estimators=700; total time=  15.3s\n",
      "[CV] END max_depth=20, max_features=auto, min_samples_leaf=1, min_samples_split=15, n_estimators=700; total time=  13.7s\n"
     ]
    },
    {
     "data": {
      "text/plain": [
       "RandomizedSearchCV(cv=5, estimator=RandomForestRegressor(), n_jobs=1,\n",
       "                   param_distributions={'max_depth': [5, 10, 15, 20, 25, 30],\n",
       "                                        'max_features': ['auto', 'sqrt'],\n",
       "                                        'min_samples_leaf': [1, 2, 5, 10],\n",
       "                                        'min_samples_split': [2, 5, 10, 15,\n",
       "                                                              100],\n",
       "                                        'n_estimators': [100, 200, 300, 400,\n",
       "                                                         500, 600, 700, 800,\n",
       "                                                         900, 1000, 1100,\n",
       "                                                         1200]},\n",
       "                   random_state=42, scoring='neg_mean_squared_error',\n",
       "                   verbose=2)"
      ]
     },
     "execution_count": 58,
     "metadata": {},
     "output_type": "execute_result"
    }
   ],
   "source": [
    "from sklearn.ensemble import RandomForestRegressor \n",
    "from sklearn.model_selection import RandomizedSearchCV\n",
    "\n",
    "model = RandomForestRegressor() \n",
    "hyp = RandomizedSearchCV(estimator = model,\n",
    "                        param_distributions=grid,\n",
    "                        n_iter=10,\n",
    "                       scoring= 'neg_mean_squared_error',\n",
    "                        cv=5,verbose = 2,\n",
    "                        random_state = 42,n_jobs = 1) \n",
    "hyp.fit(X_train,y_train)"
   ]
  },
  {
   "cell_type": "code",
   "execution_count": 59,
   "id": "ff42215d",
   "metadata": {},
   "outputs": [
    {
     "data": {
      "text/plain": [
       "array([1054.13495667, 1873.009997  , 1352.94637   , ..., 1856.55046017,\n",
       "       2303.34076158, 1660.00985   ])"
      ]
     },
     "execution_count": 59,
     "metadata": {},
     "output_type": "execute_result"
    }
   ],
   "source": [
    "y_pred = hyp.predict(X_test)\n",
    "y_pred"
   ]
  },
  {
   "cell_type": "code",
   "execution_count": 60,
   "id": "6172c40f",
   "metadata": {},
   "outputs": [
    {
     "data": {
      "image/png": "[encoded data removed]",
      "text/plain": [
       "<Figure size 432x288 with 1 Axes>"
      ]
     },
     "metadata": {},
     "output_type": "display_data"
    }
   ],
   "source": [
    "x = y_pred\n",
    "y = np.sort(x)\n",
    "\n",
    "plt.title(\"Line graph\")\n",
    "plt.plot(x, y, color=\"red\")\n",
    "\n",
    "plt.show()"
   ]
  },
  {
   "cell_type": "code",
   "execution_count": 61,
   "id": "c2132990",
   "metadata": {},
   "outputs": [
    {
     "data": {
      "image/png": "[encoded data removed]",
      "text/plain": [
       "<Figure size 432x288 with 1 Axes>"
      ]
     },
     "metadata": {},
     "output_type": "display_data"
    }
   ],
   "source": [
    "plt.hist(y_pred, color = 'green',\n",
    "        histtype = 'bar', rwidth = 0.8)\n",
    "plt.show()"
   ]
  },
  {
   "cell_type": "code",
   "execution_count": 62,
   "id": "d30fa3b1",
   "metadata": {},
   "outputs": [],
   "source": [
    "array = y_pred\n",
    "dataframe = pd.DataFrame(array) \n",
    "#dataframe.to_csv(r\"C:\\Users\\athisya\\Downloads\\Great Learning\\hackathon\\Predict The Price Of Books\\Participants_Data\\data1.csv\")"
   ]
  },
  {
   "cell_type": "code",
   "execution_count": 63,
   "id": "583b3172",
   "metadata": {},
   "outputs": [],
   "source": [
    "#res[\"Survived\"] = pd.DataFrame(ytest_predict)\n",
    "\n",
    "res = pd.DataFrame(y_pred)\n",
    "res.columns = [\"Price\"]\n"
   ]
  },
  {
   "cell_type": "code",
   "execution_count": 64,
   "id": "e3e57c51",
   "metadata": {},
   "outputs": [
    {
     "data": {
      "text/html": [
       "<div>\n",
       "<style scoped>\n",
       "    .dataframe tbody tr th:only-of-type {\n",
       "        vertical-align: middle;\n",
       "    }\n",
       "\n",
       "    .dataframe tbody tr th {\n",
       "        vertical-align: top;\n",
       "    }\n",
       "\n",
       "    .dataframe thead th {\n",
       "        text-align: right;\n",
       "    }\n",
       "</style>\n",
       "<table border=\"1\" class=\"dataframe\">\n",
       "  <thead>\n",
       "    <tr style=\"text-align: right;\">\n",
       "      <th></th>\n",
       "      <th>Price</th>\n",
       "    </tr>\n",
       "  </thead>\n",
       "  <tbody>\n",
       "    <tr>\n",
       "      <th>0</th>\n",
       "      <td>1054.134957</td>\n",
       "    </tr>\n",
       "    <tr>\n",
       "      <th>1</th>\n",
       "      <td>1873.009997</td>\n",
       "    </tr>\n",
       "    <tr>\n",
       "      <th>2</th>\n",
       "      <td>1352.946370</td>\n",
       "    </tr>\n",
       "    <tr>\n",
       "      <th>3</th>\n",
       "      <td>1653.003310</td>\n",
       "    </tr>\n",
       "    <tr>\n",
       "      <th>4</th>\n",
       "      <td>1089.509308</td>\n",
       "    </tr>\n",
       "    <tr>\n",
       "      <th>...</th>\n",
       "      <td>...</td>\n",
       "    </tr>\n",
       "    <tr>\n",
       "      <th>1555</th>\n",
       "      <td>1712.790829</td>\n",
       "    </tr>\n",
       "    <tr>\n",
       "      <th>1556</th>\n",
       "      <td>860.223150</td>\n",
       "    </tr>\n",
       "    <tr>\n",
       "      <th>1557</th>\n",
       "      <td>1856.550460</td>\n",
       "    </tr>\n",
       "    <tr>\n",
       "      <th>1558</th>\n",
       "      <td>2303.340762</td>\n",
       "    </tr>\n",
       "    <tr>\n",
       "      <th>1559</th>\n",
       "      <td>1660.009850</td>\n",
       "    </tr>\n",
       "  </tbody>\n",
       "</table>\n",
       "<p>1560 rows × 1 columns</p>\n",
       "</div>"
      ],
      "text/plain": [
       "            Price\n",
       "0     1054.134957\n",
       "1     1873.009997\n",
       "2     1352.946370\n",
       "3     1653.003310\n",
       "4     1089.509308\n",
       "...           ...\n",
       "1555  1712.790829\n",
       "1556   860.223150\n",
       "1557  1856.550460\n",
       "1558  2303.340762\n",
       "1559  1660.009850\n",
       "\n",
       "[1560 rows x 1 columns]"
      ]
     },
     "execution_count": 64,
     "metadata": {},
     "output_type": "execute_result"
    }
   ],
   "source": [
    "res"
   ]
  },
  {
   "cell_type": "code",
   "execution_count": 65,
   "id": "1fc5bc5f",
   "metadata": {},
   "outputs": [],
   "source": [
    "#res.set_index('Price')\n",
    "res = res.set_index('Price')\n",
    "res.to_csv(\"prediction_results.csv\")"
   ]
  },
  {
   "cell_type": "code",
   "execution_count": 66,
   "id": "c7096f7d",
   "metadata": {},
   "outputs": [
    {
     "data": {
      "text/html": [
       "<div>\n",
       "<style scoped>\n",
       "    .dataframe tbody tr th:only-of-type {\n",
       "        vertical-align: middle;\n",
       "    }\n",
       "\n",
       "    .dataframe tbody tr th {\n",
       "        vertical-align: top;\n",
       "    }\n",
       "\n",
       "    .dataframe thead th {\n",
       "        text-align: right;\n",
       "    }\n",
       "</style>\n",
       "<table border=\"1\" class=\"dataframe\">\n",
       "  <thead>\n",
       "    <tr style=\"text-align: right;\">\n",
       "      <th></th>\n",
       "    </tr>\n",
       "    <tr>\n",
       "      <th>Price</th>\n",
       "    </tr>\n",
       "  </thead>\n",
       "  <tbody>\n",
       "    <tr>\n",
       "      <th>1054.134957</th>\n",
       "    </tr>\n",
       "    <tr>\n",
       "      <th>1873.009997</th>\n",
       "    </tr>\n",
       "    <tr>\n",
       "      <th>1352.946370</th>\n",
       "    </tr>\n",
       "    <tr>\n",
       "      <th>1653.003310</th>\n",
       "    </tr>\n",
       "    <tr>\n",
       "      <th>1089.509308</th>\n",
       "    </tr>\n",
       "    <tr>\n",
       "      <th>...</th>\n",
       "    </tr>\n",
       "    <tr>\n",
       "      <th>1712.790829</th>\n",
       "    </tr>\n",
       "    <tr>\n",
       "      <th>860.223150</th>\n",
       "    </tr>\n",
       "    <tr>\n",
       "      <th>1856.550460</th>\n",
       "    </tr>\n",
       "    <tr>\n",
       "      <th>2303.340762</th>\n",
       "    </tr>\n",
       "    <tr>\n",
       "      <th>1660.009850</th>\n",
       "    </tr>\n",
       "  </tbody>\n",
       "</table>\n",
       "<p>1560 rows × 0 columns</p>\n",
       "</div>"
      ],
      "text/plain": [
       "Empty DataFrame\n",
       "Columns: []\n",
       "Index: [1054.1349566666674, 1873.0099970048298, 1352.9463700000006, 1653.0033099999994, 1089.5093082572491, 1503.495676000001, 1826.054338671497, 656.9996238888887, 1027.8420700000013, 1838.883603285714, 833.8369649999995, 1337.4465199999997, 836.4159208569023, 1519.77523, 2101.397029999999, 2495.474898205128, 1233.7234549999994, 1654.1812150000012, 2109.3392520238094, 1727.0261999999989, 1380.6912410000011, 1082.0883042857151, 1749.0779585714279, 1317.5080366666648, 1724.4496299999976, 1729.1380399999978, 910.5545864825156, 705.3327804682533, 1515.5829561904732, 1728.3043270000007, 1873.446978666667, 627.3380135922588, 1750.8598174819138, 897.5688995, 1743.3896666666665, 1661.7794156666655, 1251.3514700000003, 891.6389899999982, 2314.4074699999974, 1294.3040890000002, 1532.9063963333347, 1292.5750000000003, 1465.7097514285713, 1016.8417977011494, 1263.7161431416357, 661.7096142365898, 2598.491210000002, 2029.1545199999966, 1832.2718666666678, 1696.2539931174092, 1591.8896866666664, 2062.099109999996, 2055.821101333333, 1207.6189618095243, 2130.4098653333285, 1142.7813029365077, 1585.666366666664, 2509.351830000002, 1225.569271121212, 2410.8263050000005, 1106.0162572222225, 1303.1631683333326, 1633.8127299999985, 1842.2602269696968, 2335.809420000001, 1126.9469145555554, 1470.1758399999985, 1240.6967465555556, 686.8780713351155, 1330.9633853809512, 1958.8757552216746, 834.7800556910541, 1554.717296666667, 1425.499219999998, 1328.5083857142847, 1626.1694174999998, 1496.1114099999993, 1922.7969299999975, 1215.1495166666666, 2135.57016, 2759.1868499999955, 1322.0460101587296, 1015.1296399999997, 1946.3390999999983, 1311.947663307692, 1884.3859816666688, 1293.23730827921, 672.1792272237993, 1395.6890533333337, 1118.4627865601049, 1868.541281578945, 1602.8525522142836, 1008.5072577777789, 895.6886218571425, 1492.4472150952406, 1015.3238249999984, 1722.182939000001, 674.1374999999999, 1066.5471841666688, 1172.693283655914, ...]\n",
       "\n",
       "[1560 rows x 0 columns]"
      ]
     },
     "execution_count": 66,
     "metadata": {},
     "output_type": "execute_result"
    }
   ],
   "source": [
    "res"
   ]
  },
  {
   "cell_type": "code",
   "execution_count": null,
   "id": "ac4fe793",
   "metadata": {},
   "outputs": [],
   "source": []
  },
  {
   "cell_type": "code",
   "execution_count": null,
   "id": "8019a537",
   "metadata": {},
   "outputs": [],
   "source": []
  },
  {
   "cell_type": "code",
   "execution_count": null,
   "id": "623e0f11",
   "metadata": {},
   "outputs": [],
   "source": []
  }
 ],
 "metadata": {
  "kernelspec": {
   "display_name": "Python 3",
   "language": "python",
   "name": "python3"
  },
  "language_info": {
   "codemirror_mode": {
    "name": "ipython",
    "version": 3
   },
   "file_extension": ".py",
   "mimetype": "text/x-python",
   "name": "python",
   "nbconvert_exporter": "python",
   "pygments_lexer": "ipython3",
   "version": "3.8.5"
  }
 },
 "nbformat": 4,
 "nbformat_minor": 5
}
