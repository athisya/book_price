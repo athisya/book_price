{
 "cells": [
  {
   "cell_type": "code",
   "execution_count": 1,
   "id": "91eaf451",
   "metadata": {},
   "outputs": [],
   "source": [
    "import numpy as np\n",
    "import pandas as pd\n",
    "import seaborn as sns\n",
    "import matplotlib.pyplot as plt"
   ]
  },
  {
   "cell_type": "code",
   "execution_count": 2,
   "id": "327edee6",
   "metadata": {},
   "outputs": [],
   "source": [
    "df_train = pd.read_excel(\"Data_Train.xlsx\")\n",
    "df_test = pd.read_excel(\"Data_Test.xlsx\")"
   ]
  },
  {
   "cell_type": "code",
   "execution_count": 3,
   "id": "5c81548e",
   "metadata": {},
   "outputs": [
    {
     "data": {
      "text/plain": [
       "(6237, 9)"
      ]
     },
     "execution_count": 3,
     "metadata": {},
     "output_type": "execute_result"
    }
   ],
   "source": [
    "df_train.shape"
   ]
  },
  {
   "cell_type": "code",
   "execution_count": 4,
   "id": "8d4662c3",
   "metadata": {},
   "outputs": [
    {
     "data": {
      "text/plain": [
       "(1560, 8)"
      ]
     },
     "execution_count": 4,
     "metadata": {},
     "output_type": "execute_result"
    }
   ],
   "source": [
    "df_test.shape"
   ]
  },
  {
   "cell_type": "code",
   "execution_count": 5,
   "id": "ac00110a",
   "metadata": {},
   "outputs": [],
   "source": [
    "df = [df_train, df_test]\n",
    "  \n",
    "df_books = pd.concat(df)"
   ]
  },
  {
   "cell_type": "code",
   "execution_count": 6,
   "id": "64f968e5",
   "metadata": {},
   "outputs": [
    {
     "data": {
      "text/plain": [
       "(7797, 9)"
      ]
     },
     "execution_count": 6,
     "metadata": {},
     "output_type": "execute_result"
    }
   ],
   "source": [
    "df_books.shape"
   ]
  },
  {
   "cell_type": "code",
   "execution_count": 7,
   "id": "0326a3e9",
   "metadata": {},
   "outputs": [],
   "source": [
    "df_books.reset_index(inplace = True, drop = True)"
   ]
  },
  {
   "cell_type": "code",
   "execution_count": 8,
   "id": "8b496d8e",
   "metadata": {},
   "outputs": [
    {
     "name": "stdout",
     "output_type": "stream",
     "text": [
      "<class 'pandas.core.frame.DataFrame'>\n",
      "RangeIndex: 7797 entries, 0 to 7796\n",
      "Data columns (total 9 columns):\n",
      " #   Column        Non-Null Count  Dtype  \n",
      "---  ------        --------------  -----  \n",
      " 0   Title         7797 non-null   object \n",
      " 1   Author        7797 non-null   object \n",
      " 2   Edition       7797 non-null   object \n",
      " 3   Reviews       7797 non-null   object \n",
      " 4   Ratings       7797 non-null   object \n",
      " 5   Synopsis      7797 non-null   object \n",
      " 6   Genre         7797 non-null   object \n",
      " 7   BookCategory  7797 non-null   object \n",
      " 8   Price         6237 non-null   float64\n",
      "dtypes: float64(1), object(8)\n",
      "memory usage: 548.4+ KB\n"
     ]
    }
   ],
   "source": [
    "df_books.info()"
   ]
  },
  {
   "cell_type": "code",
   "execution_count": 9,
   "id": "0884ea5c",
   "metadata": {},
   "outputs": [
    {
     "data": {
      "text/html": [
       "<div>\n",
       "<style scoped>\n",
       "    .dataframe tbody tr th:only-of-type {\n",
       "        vertical-align: middle;\n",
       "    }\n",
       "\n",
       "    .dataframe tbody tr th {\n",
       "        vertical-align: top;\n",
       "    }\n",
       "\n",
       "    .dataframe thead th {\n",
       "        text-align: right;\n",
       "    }\n",
       "</style>\n",
       "<table border=\"1\" class=\"dataframe\">\n",
       "  <thead>\n",
       "    <tr style=\"text-align: right;\">\n",
       "      <th></th>\n",
       "      <th>count</th>\n",
       "      <th>unique</th>\n",
       "      <th>top</th>\n",
       "      <th>freq</th>\n",
       "      <th>mean</th>\n",
       "      <th>std</th>\n",
       "      <th>min</th>\n",
       "      <th>25%</th>\n",
       "      <th>50%</th>\n",
       "      <th>75%</th>\n",
       "      <th>max</th>\n",
       "    </tr>\n",
       "  </thead>\n",
       "  <tbody>\n",
       "    <tr>\n",
       "      <th>Title</th>\n",
       "      <td>7797</td>\n",
       "      <td>6787</td>\n",
       "      <td>Complete Guide to Digital Photography</td>\n",
       "      <td>4</td>\n",
       "      <td>NaN</td>\n",
       "      <td>NaN</td>\n",
       "      <td>NaN</td>\n",
       "      <td>NaN</td>\n",
       "      <td>NaN</td>\n",
       "      <td>NaN</td>\n",
       "      <td>NaN</td>\n",
       "    </tr>\n",
       "    <tr>\n",
       "      <th>Author</th>\n",
       "      <td>7797</td>\n",
       "      <td>4372</td>\n",
       "      <td>Agatha Christie</td>\n",
       "      <td>87</td>\n",
       "      <td>NaN</td>\n",
       "      <td>NaN</td>\n",
       "      <td>NaN</td>\n",
       "      <td>NaN</td>\n",
       "      <td>NaN</td>\n",
       "      <td>NaN</td>\n",
       "      <td>NaN</td>\n",
       "    </tr>\n",
       "    <tr>\n",
       "      <th>Edition</th>\n",
       "      <td>7797</td>\n",
       "      <td>3882</td>\n",
       "      <td>Paperback,– 5 Oct 2017</td>\n",
       "      <td>60</td>\n",
       "      <td>NaN</td>\n",
       "      <td>NaN</td>\n",
       "      <td>NaN</td>\n",
       "      <td>NaN</td>\n",
       "      <td>NaN</td>\n",
       "      <td>NaN</td>\n",
       "      <td>NaN</td>\n",
       "    </tr>\n",
       "    <tr>\n",
       "      <th>Reviews</th>\n",
       "      <td>7797</td>\n",
       "      <td>36</td>\n",
       "      <td>5.0 out of 5 stars</td>\n",
       "      <td>1751</td>\n",
       "      <td>NaN</td>\n",
       "      <td>NaN</td>\n",
       "      <td>NaN</td>\n",
       "      <td>NaN</td>\n",
       "      <td>NaN</td>\n",
       "      <td>NaN</td>\n",
       "      <td>NaN</td>\n",
       "    </tr>\n",
       "    <tr>\n",
       "      <th>Ratings</th>\n",
       "      <td>7797</td>\n",
       "      <td>368</td>\n",
       "      <td>1 customer review</td>\n",
       "      <td>1328</td>\n",
       "      <td>NaN</td>\n",
       "      <td>NaN</td>\n",
       "      <td>NaN</td>\n",
       "      <td>NaN</td>\n",
       "      <td>NaN</td>\n",
       "      <td>NaN</td>\n",
       "      <td>NaN</td>\n",
       "    </tr>\n",
       "    <tr>\n",
       "      <th>Synopsis</th>\n",
       "      <td>7797</td>\n",
       "      <td>6771</td>\n",
       "      <td>A Tinkle Double Digest is two Tinkle Digests i...</td>\n",
       "      <td>8</td>\n",
       "      <td>NaN</td>\n",
       "      <td>NaN</td>\n",
       "      <td>NaN</td>\n",
       "      <td>NaN</td>\n",
       "      <td>NaN</td>\n",
       "      <td>NaN</td>\n",
       "      <td>NaN</td>\n",
       "    </tr>\n",
       "    <tr>\n",
       "      <th>Genre</th>\n",
       "      <td>7797</td>\n",
       "      <td>363</td>\n",
       "      <td>Action &amp; Adventure (Books)</td>\n",
       "      <td>1183</td>\n",
       "      <td>NaN</td>\n",
       "      <td>NaN</td>\n",
       "      <td>NaN</td>\n",
       "      <td>NaN</td>\n",
       "      <td>NaN</td>\n",
       "      <td>NaN</td>\n",
       "      <td>NaN</td>\n",
       "    </tr>\n",
       "    <tr>\n",
       "      <th>BookCategory</th>\n",
       "      <td>7797</td>\n",
       "      <td>11</td>\n",
       "      <td>Action &amp; Adventure</td>\n",
       "      <td>1036</td>\n",
       "      <td>NaN</td>\n",
       "      <td>NaN</td>\n",
       "      <td>NaN</td>\n",
       "      <td>NaN</td>\n",
       "      <td>NaN</td>\n",
       "      <td>NaN</td>\n",
       "      <td>NaN</td>\n",
       "    </tr>\n",
       "    <tr>\n",
       "      <th>Price</th>\n",
       "      <td>6237.0</td>\n",
       "      <td>NaN</td>\n",
       "      <td>NaN</td>\n",
       "      <td>NaN</td>\n",
       "      <td>560.707516</td>\n",
       "      <td>690.110657</td>\n",
       "      <td>25.0</td>\n",
       "      <td>249.18</td>\n",
       "      <td>373.0</td>\n",
       "      <td>599.0</td>\n",
       "      <td>14100.0</td>\n",
       "    </tr>\n",
       "  </tbody>\n",
       "</table>\n",
       "</div>"
      ],
      "text/plain": [
       "               count unique  \\\n",
       "Title           7797   6787   \n",
       "Author          7797   4372   \n",
       "Edition         7797   3882   \n",
       "Reviews         7797     36   \n",
       "Ratings         7797    368   \n",
       "Synopsis        7797   6771   \n",
       "Genre           7797    363   \n",
       "BookCategory    7797     11   \n",
       "Price         6237.0    NaN   \n",
       "\n",
       "                                                            top  freq  \\\n",
       "Title                     Complete Guide to Digital Photography     4   \n",
       "Author                                          Agatha Christie    87   \n",
       "Edition                                  Paperback,– 5 Oct 2017    60   \n",
       "Reviews                                      5.0 out of 5 stars  1751   \n",
       "Ratings                                       1 customer review  1328   \n",
       "Synopsis      A Tinkle Double Digest is two Tinkle Digests i...     8   \n",
       "Genre                                Action & Adventure (Books)  1183   \n",
       "BookCategory                                 Action & Adventure  1036   \n",
       "Price                                                       NaN   NaN   \n",
       "\n",
       "                    mean         std   min     25%    50%    75%      max  \n",
       "Title                NaN         NaN   NaN     NaN    NaN    NaN      NaN  \n",
       "Author               NaN         NaN   NaN     NaN    NaN    NaN      NaN  \n",
       "Edition              NaN         NaN   NaN     NaN    NaN    NaN      NaN  \n",
       "Reviews              NaN         NaN   NaN     NaN    NaN    NaN      NaN  \n",
       "Ratings              NaN         NaN   NaN     NaN    NaN    NaN      NaN  \n",
       "Synopsis             NaN         NaN   NaN     NaN    NaN    NaN      NaN  \n",
       "Genre                NaN         NaN   NaN     NaN    NaN    NaN      NaN  \n",
       "BookCategory         NaN         NaN   NaN     NaN    NaN    NaN      NaN  \n",
       "Price         560.707516  690.110657  25.0  249.18  373.0  599.0  14100.0  "
      ]
     },
     "execution_count": 9,
     "metadata": {},
     "output_type": "execute_result"
    }
   ],
   "source": [
    "df_books.describe(include=\"all\").T"
   ]
  },
  {
   "cell_type": "code",
   "execution_count": null,
   "id": "901674c6",
   "metadata": {},
   "outputs": [],
   "source": []
  },
  {
   "cell_type": "code",
   "execution_count": null,
   "id": "60b6157a",
   "metadata": {},
   "outputs": [],
   "source": []
  },
  {
   "cell_type": "code",
   "execution_count": 10,
   "id": "0ba692ee",
   "metadata": {},
   "outputs": [
    {
     "data": {
      "text/plain": [
       "Index(['Title', 'Author', 'Edition', 'Reviews', 'Ratings', 'Synopsis', 'Genre',\n",
       "       'BookCategory', 'Price'],\n",
       "      dtype='object')"
      ]
     },
     "execution_count": 10,
     "metadata": {},
     "output_type": "execute_result"
    }
   ],
   "source": [
    "df_books.columns"
   ]
  },
  {
   "cell_type": "code",
   "execution_count": null,
   "id": "3030e0b1",
   "metadata": {},
   "outputs": [],
   "source": []
  },
  {
   "cell_type": "code",
   "execution_count": 11,
   "id": "db568128",
   "metadata": {},
   "outputs": [
    {
     "name": "stdout",
     "output_type": "stream",
     "text": [
      "Duplicate Rows :\n"
     ]
    },
    {
     "data": {
      "text/html": [
       "<div>\n",
       "<style scoped>\n",
       "    .dataframe tbody tr th:only-of-type {\n",
       "        vertical-align: middle;\n",
       "    }\n",
       "\n",
       "    .dataframe tbody tr th {\n",
       "        vertical-align: top;\n",
       "    }\n",
       "\n",
       "    .dataframe thead th {\n",
       "        text-align: right;\n",
       "    }\n",
       "</style>\n",
       "<table border=\"1\" class=\"dataframe\">\n",
       "  <thead>\n",
       "    <tr style=\"text-align: right;\">\n",
       "      <th></th>\n",
       "      <th>Title</th>\n",
       "      <th>Author</th>\n",
       "      <th>Edition</th>\n",
       "      <th>Reviews</th>\n",
       "      <th>Ratings</th>\n",
       "      <th>Synopsis</th>\n",
       "      <th>Genre</th>\n",
       "      <th>BookCategory</th>\n",
       "      <th>Price</th>\n",
       "    </tr>\n",
       "  </thead>\n",
       "  <tbody>\n",
       "    <tr>\n",
       "      <th>7327</th>\n",
       "      <td>The Rustlers of the West Fork (Hopalong Cassidy)</td>\n",
       "      <td>Louis L'Amour</td>\n",
       "      <td>Mass Market Paperback,– 1 Apr 1992</td>\n",
       "      <td>5.0 out of 5 stars</td>\n",
       "      <td>2 customer reviews</td>\n",
       "      <td>In this first of four classic frontier novels,...</td>\n",
       "      <td>Action &amp; Adventure (Books)</td>\n",
       "      <td>Action &amp; Adventure</td>\n",
       "      <td>NaN</td>\n",
       "    </tr>\n",
       "    <tr>\n",
       "      <th>7332</th>\n",
       "      <td>The Princess Bride: S. Morgenstern's Classic T...</td>\n",
       "      <td>William Goldman</td>\n",
       "      <td>Mass Market Paperback,– 26 Mar 2010</td>\n",
       "      <td>3.8 out of 5 stars</td>\n",
       "      <td>6 customer reviews</td>\n",
       "      <td>William Goldman's modern fantasy classic is a ...</td>\n",
       "      <td>Action &amp; Adventure (Books)</td>\n",
       "      <td>Action &amp; Adventure</td>\n",
       "      <td>NaN</td>\n",
       "    </tr>\n",
       "    <tr>\n",
       "      <th>7340</th>\n",
       "      <td>Everybody Lies: The New York Times Bestseller</td>\n",
       "      <td>Seth Stephens-Davidowitz</td>\n",
       "      <td>Paperback,– 18 Apr 2018</td>\n",
       "      <td>4.3 out of 5 stars</td>\n",
       "      <td>27 customer reviews</td>\n",
       "      <td>THE NEW YORK TIMES BESTSELLER\\nAN ECONOMIST BO...</td>\n",
       "      <td>Political Structure &amp; Processes (Books)</td>\n",
       "      <td>Action &amp; Adventure</td>\n",
       "      <td>NaN</td>\n",
       "    </tr>\n",
       "    <tr>\n",
       "      <th>7490</th>\n",
       "      <td>Flint</td>\n",
       "      <td>Louis L'Amour</td>\n",
       "      <td>Mass Market Paperback,– 3 Nov 1997</td>\n",
       "      <td>4.3 out of 5 stars</td>\n",
       "      <td>4 customer reviews</td>\n",
       "      <td>He left the West at the age of seventeen, leav...</td>\n",
       "      <td>Action &amp; Adventure (Books)</td>\n",
       "      <td>Action &amp; Adventure</td>\n",
       "      <td>NaN</td>\n",
       "    </tr>\n",
       "    <tr>\n",
       "      <th>7553</th>\n",
       "      <td>The Five Greatest Warriors (Jack West Series)</td>\n",
       "      <td>Matthew Reilly</td>\n",
       "      <td>Paperback,– 25 Nov 2010</td>\n",
       "      <td>4.4 out of 5 stars</td>\n",
       "      <td>12 customer reviews</td>\n",
       "      <td>The end is approaching ... Can Jack West unrav...</td>\n",
       "      <td>Action &amp; Adventure (Books)</td>\n",
       "      <td>Action &amp; Adventure</td>\n",
       "      <td>NaN</td>\n",
       "    </tr>\n",
       "    <tr>\n",
       "      <th>7577</th>\n",
       "      <td>Alita: Battle Angel – The Official Movie Novel...</td>\n",
       "      <td>Pat Cadigan</td>\n",
       "      <td>Paperback,– 14 Feb 2019</td>\n",
       "      <td>3.9 out of 5 stars</td>\n",
       "      <td>7 customer reviews</td>\n",
       "      <td>The ofﬁcial novelization to the highly anticip...</td>\n",
       "      <td>Action &amp; Adventure (Books)</td>\n",
       "      <td>Action &amp; Adventure</td>\n",
       "      <td>NaN</td>\n",
       "    </tr>\n",
       "    <tr>\n",
       "      <th>7644</th>\n",
       "      <td>The Curious Incident of the Dog in the Night-t...</td>\n",
       "      <td>Mark Haddon</td>\n",
       "      <td>Paperback,– 2 Aug 2012</td>\n",
       "      <td>4.0 out of 5 stars</td>\n",
       "      <td>96 customer reviews</td>\n",
       "      <td>A Children’s Bookshelf Selection: Each month o...</td>\n",
       "      <td>Action &amp; Adventure (Books)</td>\n",
       "      <td>Action &amp; Adventure</td>\n",
       "      <td>NaN</td>\n",
       "    </tr>\n",
       "    <tr>\n",
       "      <th>7690</th>\n",
       "      <td>Storm and Silence: Volume 1 (Storm and Silence...</td>\n",
       "      <td>Robert Thier</td>\n",
       "      <td>Paperback,– 19 Mar 2016</td>\n",
       "      <td>5.0 out of 5 stars</td>\n",
       "      <td>59 customer reviews</td>\n",
       "      <td>Freedom - that is what Lilly Linton wants most...</td>\n",
       "      <td>Action &amp; Adventure (Books)</td>\n",
       "      <td>Action &amp; Adventure</td>\n",
       "      <td>NaN</td>\n",
       "    </tr>\n",
       "  </tbody>\n",
       "</table>\n",
       "</div>"
      ],
      "text/plain": [
       "                                                  Title  \\\n",
       "7327   The Rustlers of the West Fork (Hopalong Cassidy)   \n",
       "7332  The Princess Bride: S. Morgenstern's Classic T...   \n",
       "7340      Everybody Lies: The New York Times Bestseller   \n",
       "7490                                              Flint   \n",
       "7553      The Five Greatest Warriors (Jack West Series)   \n",
       "7577  Alita: Battle Angel – The Official Movie Novel...   \n",
       "7644  The Curious Incident of the Dog in the Night-t...   \n",
       "7690  Storm and Silence: Volume 1 (Storm and Silence...   \n",
       "\n",
       "                        Author                              Edition  \\\n",
       "7327             Louis L'Amour   Mass Market Paperback,– 1 Apr 1992   \n",
       "7332           William Goldman  Mass Market Paperback,– 26 Mar 2010   \n",
       "7340  Seth Stephens-Davidowitz              Paperback,– 18 Apr 2018   \n",
       "7490             Louis L'Amour   Mass Market Paperback,– 3 Nov 1997   \n",
       "7553            Matthew Reilly              Paperback,– 25 Nov 2010   \n",
       "7577               Pat Cadigan              Paperback,– 14 Feb 2019   \n",
       "7644               Mark Haddon               Paperback,– 2 Aug 2012   \n",
       "7690              Robert Thier              Paperback,– 19 Mar 2016   \n",
       "\n",
       "                 Reviews              Ratings  \\\n",
       "7327  5.0 out of 5 stars   2 customer reviews   \n",
       "7332  3.8 out of 5 stars   6 customer reviews   \n",
       "7340  4.3 out of 5 stars  27 customer reviews   \n",
       "7490  4.3 out of 5 stars   4 customer reviews   \n",
       "7553  4.4 out of 5 stars  12 customer reviews   \n",
       "7577  3.9 out of 5 stars   7 customer reviews   \n",
       "7644  4.0 out of 5 stars  96 customer reviews   \n",
       "7690  5.0 out of 5 stars  59 customer reviews   \n",
       "\n",
       "                                               Synopsis  \\\n",
       "7327  In this first of four classic frontier novels,...   \n",
       "7332  William Goldman's modern fantasy classic is a ...   \n",
       "7340  THE NEW YORK TIMES BESTSELLER\\nAN ECONOMIST BO...   \n",
       "7490  He left the West at the age of seventeen, leav...   \n",
       "7553  The end is approaching ... Can Jack West unrav...   \n",
       "7577  The ofﬁcial novelization to the highly anticip...   \n",
       "7644  A Children’s Bookshelf Selection: Each month o...   \n",
       "7690  Freedom - that is what Lilly Linton wants most...   \n",
       "\n",
       "                                        Genre        BookCategory  Price  \n",
       "7327               Action & Adventure (Books)  Action & Adventure    NaN  \n",
       "7332               Action & Adventure (Books)  Action & Adventure    NaN  \n",
       "7340  Political Structure & Processes (Books)  Action & Adventure    NaN  \n",
       "7490               Action & Adventure (Books)  Action & Adventure    NaN  \n",
       "7553               Action & Adventure (Books)  Action & Adventure    NaN  \n",
       "7577               Action & Adventure (Books)  Action & Adventure    NaN  \n",
       "7644               Action & Adventure (Books)  Action & Adventure    NaN  \n",
       "7690               Action & Adventure (Books)  Action & Adventure    NaN  "
      ]
     },
     "execution_count": 11,
     "metadata": {},
     "output_type": "execute_result"
    }
   ],
   "source": [
    "duplicate = df_books[df_books.duplicated()]\n",
    " \n",
    "print(\"Duplicate Rows :\")\n",
    " \n",
    "# Print the resultant Dataframe\n",
    "duplicate"
   ]
  },
  {
   "cell_type": "code",
   "execution_count": 12,
   "id": "5d66a963",
   "metadata": {},
   "outputs": [
    {
     "data": {
      "text/plain": [
       "Price    1560\n",
       "dtype: int64"
      ]
     },
     "execution_count": 12,
     "metadata": {},
     "output_type": "execute_result"
    }
   ],
   "source": [
    "### Examine missing values\n",
    "df_na = df_books.isna().sum()\n",
    "df_na[df_na.values > 0].sort_values(ascending=False) # Find out all variables that contain missing values"
   ]
  },
  {
   "cell_type": "code",
   "execution_count": 13,
   "id": "282408f7",
   "metadata": {},
   "outputs": [
    {
     "data": {
      "text/plain": [
       "Price           0.25012\n",
       "Title           0.00000\n",
       "Author          0.00000\n",
       "Edition         0.00000\n",
       "Reviews         0.00000\n",
       "Ratings         0.00000\n",
       "Synopsis        0.00000\n",
       "Genre           0.00000\n",
       "BookCategory    0.00000\n",
       "dtype: float64"
      ]
     },
     "execution_count": 13,
     "metadata": {},
     "output_type": "execute_result"
    }
   ],
   "source": [
    "df_books.isnull().sum().sort_values(ascending = False)/df_train.index.size"
   ]
  },
  {
   "cell_type": "code",
   "execution_count": 14,
   "id": "c3acb586",
   "metadata": {},
   "outputs": [],
   "source": [
    "df_books['Reviews'] = df_books['Reviews'].str[:3]"
   ]
  },
  {
   "cell_type": "code",
   "execution_count": 15,
   "id": "1db46d57",
   "metadata": {},
   "outputs": [
    {
     "data": {
      "text/html": [
       "<div>\n",
       "<style scoped>\n",
       "    .dataframe tbody tr th:only-of-type {\n",
       "        vertical-align: middle;\n",
       "    }\n",
       "\n",
       "    .dataframe tbody tr th {\n",
       "        vertical-align: top;\n",
       "    }\n",
       "\n",
       "    .dataframe thead th {\n",
       "        text-align: right;\n",
       "    }\n",
       "</style>\n",
       "<table border=\"1\" class=\"dataframe\">\n",
       "  <thead>\n",
       "    <tr style=\"text-align: right;\">\n",
       "      <th></th>\n",
       "      <th>Title</th>\n",
       "      <th>Author</th>\n",
       "      <th>Edition</th>\n",
       "      <th>Reviews</th>\n",
       "      <th>Ratings</th>\n",
       "      <th>Synopsis</th>\n",
       "      <th>Genre</th>\n",
       "      <th>BookCategory</th>\n",
       "      <th>Price</th>\n",
       "    </tr>\n",
       "  </thead>\n",
       "  <tbody>\n",
       "    <tr>\n",
       "      <th>0</th>\n",
       "      <td>The Prisoner's Gold (The Hunters 3)</td>\n",
       "      <td>Chris Kuzneski</td>\n",
       "      <td>Paperback,– 10 Mar 2016</td>\n",
       "      <td>4.0</td>\n",
       "      <td>8 customer reviews</td>\n",
       "      <td>THE HUNTERS return in their third brilliant no...</td>\n",
       "      <td>Action &amp; Adventure (Books)</td>\n",
       "      <td>Action &amp; Adventure</td>\n",
       "      <td>220.00</td>\n",
       "    </tr>\n",
       "    <tr>\n",
       "      <th>1</th>\n",
       "      <td>Guru Dutt: A Tragedy in Three Acts</td>\n",
       "      <td>Arun Khopkar</td>\n",
       "      <td>Paperback,– 7 Nov 2012</td>\n",
       "      <td>3.9</td>\n",
       "      <td>14 customer reviews</td>\n",
       "      <td>A layered portrait of a troubled genius for wh...</td>\n",
       "      <td>Cinema &amp; Broadcast (Books)</td>\n",
       "      <td>Biographies, Diaries &amp; True Accounts</td>\n",
       "      <td>202.93</td>\n",
       "    </tr>\n",
       "    <tr>\n",
       "      <th>2</th>\n",
       "      <td>Leviathan (Penguin Classics)</td>\n",
       "      <td>Thomas Hobbes</td>\n",
       "      <td>Paperback,– 25 Feb 1982</td>\n",
       "      <td>4.8</td>\n",
       "      <td>6 customer reviews</td>\n",
       "      <td>\"During the time men live without a common Pow...</td>\n",
       "      <td>International Relations</td>\n",
       "      <td>Humour</td>\n",
       "      <td>299.00</td>\n",
       "    </tr>\n",
       "    <tr>\n",
       "      <th>3</th>\n",
       "      <td>A Pocket Full of Rye (Miss Marple)</td>\n",
       "      <td>Agatha Christie</td>\n",
       "      <td>Paperback,– 5 Oct 2017</td>\n",
       "      <td>4.1</td>\n",
       "      <td>13 customer reviews</td>\n",
       "      <td>A handful of grain is found in the pocket of a...</td>\n",
       "      <td>Contemporary Fiction (Books)</td>\n",
       "      <td>Crime, Thriller &amp; Mystery</td>\n",
       "      <td>180.00</td>\n",
       "    </tr>\n",
       "    <tr>\n",
       "      <th>4</th>\n",
       "      <td>LIFE 70 Years of Extraordinary Photography</td>\n",
       "      <td>Editors of Life</td>\n",
       "      <td>Hardcover,– 10 Oct 2006</td>\n",
       "      <td>5.0</td>\n",
       "      <td>1 customer review</td>\n",
       "      <td>For seven decades, \"Life\" has been thrilling t...</td>\n",
       "      <td>Photography Textbooks</td>\n",
       "      <td>Arts, Film &amp; Photography</td>\n",
       "      <td>965.62</td>\n",
       "    </tr>\n",
       "    <tr>\n",
       "      <th>...</th>\n",
       "      <td>...</td>\n",
       "      <td>...</td>\n",
       "      <td>...</td>\n",
       "      <td>...</td>\n",
       "      <td>...</td>\n",
       "      <td>...</td>\n",
       "      <td>...</td>\n",
       "      <td>...</td>\n",
       "      <td>...</td>\n",
       "    </tr>\n",
       "    <tr>\n",
       "      <th>7792</th>\n",
       "      <td>100 Things Every Designer Needs to Know About ...</td>\n",
       "      <td>Susan Weinschenk</td>\n",
       "      <td>Paperback,– 14 Apr 2011</td>\n",
       "      <td>5.0</td>\n",
       "      <td>4 customer reviews</td>\n",
       "      <td>We design to elicit responses from people. We ...</td>\n",
       "      <td>Design</td>\n",
       "      <td>Computing, Internet &amp; Digital Media</td>\n",
       "      <td>NaN</td>\n",
       "    </tr>\n",
       "    <tr>\n",
       "      <th>7793</th>\n",
       "      <td>Modern Letter Writing Course: Personal, Busine...</td>\n",
       "      <td>ARUN SAGAR</td>\n",
       "      <td>Paperback,– 8 May 2013</td>\n",
       "      <td>3.6</td>\n",
       "      <td>13 customer reviews</td>\n",
       "      <td>A 30-day course to write simple, sharp and att...</td>\n",
       "      <td>Children's Reference (Books)</td>\n",
       "      <td>Biographies, Diaries &amp; True Accounts</td>\n",
       "      <td>NaN</td>\n",
       "    </tr>\n",
       "    <tr>\n",
       "      <th>7794</th>\n",
       "      <td>The Kite Runner Graphic Novel</td>\n",
       "      <td>Khaled Hosseini</td>\n",
       "      <td>Paperback,– 6 Sep 2011</td>\n",
       "      <td>4.0</td>\n",
       "      <td>5 customer reviews</td>\n",
       "      <td>The perennial bestseller-now available as a se...</td>\n",
       "      <td>Humour (Books)</td>\n",
       "      <td>Humour</td>\n",
       "      <td>NaN</td>\n",
       "    </tr>\n",
       "    <tr>\n",
       "      <th>7795</th>\n",
       "      <td>Panzer Leader (Penguin World War II Collection)</td>\n",
       "      <td>Heinz Guderian</td>\n",
       "      <td>Paperback,– 22 Sep 2009</td>\n",
       "      <td>3.5</td>\n",
       "      <td>3 customer reviews</td>\n",
       "      <td>Heinz Guderian - master of the Blitzkrieg and ...</td>\n",
       "      <td>United States History</td>\n",
       "      <td>Biographies, Diaries &amp; True Accounts</td>\n",
       "      <td>NaN</td>\n",
       "    </tr>\n",
       "    <tr>\n",
       "      <th>7796</th>\n",
       "      <td>Complete Spanish Step-by-Step</td>\n",
       "      <td>Barbara Bregstein</td>\n",
       "      <td>Paperback,– 16 Sep 2016</td>\n",
       "      <td>4.5</td>\n",
       "      <td>2 customer reviews</td>\n",
       "      <td>Learn Spanish with the most convenient and eff...</td>\n",
       "      <td>Dictionaries</td>\n",
       "      <td>Language, Linguistics &amp; Writing</td>\n",
       "      <td>NaN</td>\n",
       "    </tr>\n",
       "  </tbody>\n",
       "</table>\n",
       "<p>7797 rows × 9 columns</p>\n",
       "</div>"
      ],
      "text/plain": [
       "                                                  Title             Author  \\\n",
       "0                   The Prisoner's Gold (The Hunters 3)     Chris Kuzneski   \n",
       "1                    Guru Dutt: A Tragedy in Three Acts       Arun Khopkar   \n",
       "2                          Leviathan (Penguin Classics)      Thomas Hobbes   \n",
       "3                    A Pocket Full of Rye (Miss Marple)    Agatha Christie   \n",
       "4            LIFE 70 Years of Extraordinary Photography    Editors of Life   \n",
       "...                                                 ...                ...   \n",
       "7792  100 Things Every Designer Needs to Know About ...   Susan Weinschenk   \n",
       "7793  Modern Letter Writing Course: Personal, Busine...         ARUN SAGAR   \n",
       "7794                      The Kite Runner Graphic Novel    Khaled Hosseini   \n",
       "7795    Panzer Leader (Penguin World War II Collection)     Heinz Guderian   \n",
       "7796                      Complete Spanish Step-by-Step  Barbara Bregstein   \n",
       "\n",
       "                      Edition Reviews              Ratings  \\\n",
       "0     Paperback,– 10 Mar 2016     4.0   8 customer reviews   \n",
       "1      Paperback,– 7 Nov 2012     3.9  14 customer reviews   \n",
       "2     Paperback,– 25 Feb 1982     4.8   6 customer reviews   \n",
       "3      Paperback,– 5 Oct 2017     4.1  13 customer reviews   \n",
       "4     Hardcover,– 10 Oct 2006     5.0    1 customer review   \n",
       "...                       ...     ...                  ...   \n",
       "7792  Paperback,– 14 Apr 2011     5.0   4 customer reviews   \n",
       "7793   Paperback,– 8 May 2013     3.6  13 customer reviews   \n",
       "7794   Paperback,– 6 Sep 2011     4.0   5 customer reviews   \n",
       "7795  Paperback,– 22 Sep 2009     3.5   3 customer reviews   \n",
       "7796  Paperback,– 16 Sep 2016     4.5   2 customer reviews   \n",
       "\n",
       "                                               Synopsis  \\\n",
       "0     THE HUNTERS return in their third brilliant no...   \n",
       "1     A layered portrait of a troubled genius for wh...   \n",
       "2     \"During the time men live without a common Pow...   \n",
       "3     A handful of grain is found in the pocket of a...   \n",
       "4     For seven decades, \"Life\" has been thrilling t...   \n",
       "...                                                 ...   \n",
       "7792  We design to elicit responses from people. We ...   \n",
       "7793  A 30-day course to write simple, sharp and att...   \n",
       "7794  The perennial bestseller-now available as a se...   \n",
       "7795  Heinz Guderian - master of the Blitzkrieg and ...   \n",
       "7796  Learn Spanish with the most convenient and eff...   \n",
       "\n",
       "                             Genre                          BookCategory  \\\n",
       "0       Action & Adventure (Books)                    Action & Adventure   \n",
       "1       Cinema & Broadcast (Books)  Biographies, Diaries & True Accounts   \n",
       "2          International Relations                                Humour   \n",
       "3     Contemporary Fiction (Books)             Crime, Thriller & Mystery   \n",
       "4            Photography Textbooks              Arts, Film & Photography   \n",
       "...                            ...                                   ...   \n",
       "7792                        Design   Computing, Internet & Digital Media   \n",
       "7793  Children's Reference (Books)  Biographies, Diaries & True Accounts   \n",
       "7794                Humour (Books)                                Humour   \n",
       "7795         United States History  Biographies, Diaries & True Accounts   \n",
       "7796                  Dictionaries       Language, Linguistics & Writing   \n",
       "\n",
       "       Price  \n",
       "0     220.00  \n",
       "1     202.93  \n",
       "2     299.00  \n",
       "3     180.00  \n",
       "4     965.62  \n",
       "...      ...  \n",
       "7792     NaN  \n",
       "7793     NaN  \n",
       "7794     NaN  \n",
       "7795     NaN  \n",
       "7796     NaN  \n",
       "\n",
       "[7797 rows x 9 columns]"
      ]
     },
     "execution_count": 15,
     "metadata": {},
     "output_type": "execute_result"
    }
   ],
   "source": [
    "df_books"
   ]
  },
  {
   "cell_type": "code",
   "execution_count": 16,
   "id": "c78ff701",
   "metadata": {},
   "outputs": [
    {
     "data": {
      "text/plain": [
       "5.0    1751\n",
       "4.0     713\n",
       "4.5     626\n",
       "4.6     491\n",
       "4.4     488\n",
       "4.3     450\n",
       "4.7     412\n",
       "4.2     406\n",
       "4.1     381\n",
       "3.9     300\n",
       "4.8     272\n",
       "3.8     239\n",
       "3.7     203\n",
       "3.0     176\n",
       "3.6     145\n",
       "3.5     143\n",
       "4.9      99\n",
       "3.4      92\n",
       "3.3      74\n",
       "1.0      65\n",
       "3.1      57\n",
       "3.2      50\n",
       "2.0      44\n",
       "2.9      36\n",
       "2.5      23\n",
       "2.7      18\n",
       "2.8      12\n",
       "2.3       7\n",
       "1.5       6\n",
       "2.6       5\n",
       "2.4       5\n",
       "2.2       3\n",
       "1.4       2\n",
       "1.6       1\n",
       "1.7       1\n",
       "2.1       1\n",
       "Name: Reviews, dtype: int64"
      ]
     },
     "execution_count": 16,
     "metadata": {},
     "output_type": "execute_result"
    }
   ],
   "source": [
    "df_books.Reviews.value_counts()"
   ]
  },
  {
   "cell_type": "code",
   "execution_count": null,
   "id": "a0762ae0",
   "metadata": {},
   "outputs": [],
   "source": []
  },
  {
   "cell_type": "code",
   "execution_count": 17,
   "id": "973aa2d0",
   "metadata": {},
   "outputs": [
    {
     "name": "stderr",
     "output_type": "stream",
     "text": [
      "<ipython-input-17-7bf1f9e9ab5b>:4: UserWarning: FixedFormatter should only be used together with FixedLocator\n",
      "  ax.set_xticklabels(ax.get_xticklabels(), rotation=90, ha=\"right\")\n"
     ]
    },
    {
     "data": {
      "image/png": "[encoded data removed]",
      "text/plain": [
       "<Figure size 2088x1440 with 1 Axes>"
      ]
     },
     "metadata": {
      "needs_background": "light"
     },
     "output_type": "display_data"
    }
   ],
   "source": [
    "plt.figure(figsize=(29,20))\n",
    "ax = sns.countplot(y=\"Reviews\", data=df_books, order = df_books['Reviews'].value_counts().index)\n",
    "plt.yticks(fontsize=30)\n",
    "ax.set_xticklabels(ax.get_xticklabels(), rotation=90, ha=\"right\")\n",
    "\n",
    "\n",
    "\n",
    "plt.tight_layout()\n",
    "plt.show()"
   ]
  },
  {
   "cell_type": "code",
   "execution_count": 18,
   "id": "91ce4efa",
   "metadata": {},
   "outputs": [],
   "source": [
    "df_books['Ratings'] = df_books['Ratings'].astype('str').str.extractall('(\\d+)').unstack().fillna('').sum(axis=1).astype(int)"
   ]
  },
  {
   "cell_type": "code",
   "execution_count": null,
   "id": "28838dcc",
   "metadata": {},
   "outputs": [],
   "source": []
  },
  {
   "cell_type": "code",
   "execution_count": 19,
   "id": "b552966f",
   "metadata": {},
   "outputs": [
    {
     "data": {
      "text/plain": [
       "Action & Adventure                      1036\n",
       "Crime, Thriller & Mystery                878\n",
       "Comics & Mangas                          744\n",
       "Language, Linguistics & Writing          733\n",
       "Biographies, Diaries & True Accounts     732\n",
       "Romance                                  702\n",
       "Humour                                   670\n",
       "Computing, Internet & Digital Media      648\n",
       "Arts, Film & Photography                 638\n",
       "Sports                                   614\n",
       "Politics                                 402\n",
       "Name: BookCategory, dtype: int64"
      ]
     },
     "execution_count": 19,
     "metadata": {},
     "output_type": "execute_result"
    }
   ],
   "source": [
    "df_books.BookCategory.value_counts()"
   ]
  },
  {
   "cell_type": "code",
   "execution_count": 20,
   "id": "f57aea93",
   "metadata": {},
   "outputs": [],
   "source": [
    "#df_train[\"Print\"]=np.where(df_train[\"Edition\"].str.contains(r'Paperback'),'Paperback','Hardcover')\n",
    "df_books[['Print2', 'Date']] = df_books['Edition'].str.split(',–', 1, expand=True)"
   ]
  },
  {
   "cell_type": "code",
   "execution_count": 21,
   "id": "db20813b",
   "metadata": {},
   "outputs": [],
   "source": [
    "df_books['Year'] = df_books['Edition'].str[-4:]"
   ]
  },
  {
   "cell_type": "code",
   "execution_count": 22,
   "id": "06274927",
   "metadata": {},
   "outputs": [
    {
     "data": {
      "text/plain": [
       "Paperback                6458\n",
       "Hardcover                1056\n",
       "Mass Market Paperback     200\n",
       "Sheet music                32\n",
       "Flexibound                 19\n",
       "Cards                       9\n",
       "Spiral-bound                6\n",
       "Tankobon Softcover          3\n",
       "Loose Leaf                  3\n",
       "Library Binding             1\n",
       "Product Bundle              1\n",
       "Leather Bound               1\n",
       "(German),Paperback          1\n",
       "Plastic Comb                1\n",
       "Board book                  1\n",
       "(French),Paperback          1\n",
       "(Kannada),Paperback         1\n",
       "(Chinese),Paperback         1\n",
       "Perfect Paperback           1\n",
       "(Spanish),Paperback         1\n",
       "Name: Print2, dtype: int64"
      ]
     },
     "execution_count": 22,
     "metadata": {},
     "output_type": "execute_result"
    }
   ],
   "source": [
    "df_books.Print2.value_counts()"
   ]
  },
  {
   "cell_type": "code",
   "execution_count": 23,
   "id": "91bcdb38",
   "metadata": {},
   "outputs": [],
   "source": [
    "# Import label encoder\n",
    "from sklearn import preprocessing\n",
    " \n",
    "# label_encoder object knows how to understand word labels.\n",
    "label_encoder = preprocessing.LabelEncoder()\n",
    " \n",
    "# Encode labels in column 'species'.\n",
    "df_books['Title']= label_encoder.fit_transform(df_books['Title'])\n",
    "df_books['Author']= label_encoder.fit_transform(df_books['Author'])\n",
    "df_books['Edition']= label_encoder.fit_transform(df_books['Edition'])\n",
    "df_books['Genre']= label_encoder.fit_transform(df_books['Genre'])\n",
    "df_books['BookCategory']= label_encoder.fit_transform(df_books['BookCategory'])\n",
    "df_books['Print2']= label_encoder.fit_transform(df_books['Print2'])\n",
    "df_books['Year']= label_encoder.fit_transform(df_books['Year'])\n",
    "\n",
    "\n"
   ]
  },
  {
   "cell_type": "code",
   "execution_count": 24,
   "id": "924860c3",
   "metadata": {},
   "outputs": [],
   "source": [
    "df_books.drop('Synopsis', axis=1, inplace=True)\n",
    "df_books.drop('Date', axis=1, inplace=True)\n"
   ]
  },
  {
   "cell_type": "code",
   "execution_count": 25,
   "id": "8539b44a",
   "metadata": {},
   "outputs": [
    {
     "name": "stdout",
     "output_type": "stream",
     "text": [
      "<class 'pandas.core.frame.DataFrame'>\n",
      "RangeIndex: 7797 entries, 0 to 7796\n",
      "Data columns (total 10 columns):\n",
      " #   Column        Non-Null Count  Dtype  \n",
      "---  ------        --------------  -----  \n",
      " 0   Title         7797 non-null   int32  \n",
      " 1   Author        7797 non-null   int32  \n",
      " 2   Edition       7797 non-null   int32  \n",
      " 3   Reviews       7797 non-null   object \n",
      " 4   Ratings       7797 non-null   int32  \n",
      " 5   Genre         7797 non-null   int32  \n",
      " 6   BookCategory  7797 non-null   int32  \n",
      " 7   Price         6237 non-null   float64\n",
      " 8   Print2        7797 non-null   int32  \n",
      " 9   Year          7797 non-null   int32  \n",
      "dtypes: float64(1), int32(8), object(1)\n",
      "memory usage: 365.6+ KB\n"
     ]
    }
   ],
   "source": [
    "df_books.info()"
   ]
  },
  {
   "cell_type": "code",
   "execution_count": 26,
   "id": "d0526d4c",
   "metadata": {},
   "outputs": [],
   "source": [
    "df_books['Reviews'] = pd.to_numeric(df_books['Reviews'], errors='coerce')"
   ]
  },
  {
   "cell_type": "code",
   "execution_count": 27,
   "id": "fe2efa55",
   "metadata": {},
   "outputs": [],
   "source": [
    "Q1 = df_books.quantile(0.25)\n",
    "Q3 = df_books.quantile(0.75)\n",
    "IQR = Q3 - Q1\n",
    "UL = Q3 + 1.5*IQR\n",
    "LL = Q1 - 1.5*IQR"
   ]
  },
  {
   "cell_type": "code",
   "execution_count": 28,
   "id": "e31faf93",
   "metadata": {},
   "outputs": [
    {
     "data": {
      "text/plain": [
       "Title              0\n",
       "Author             0\n",
       "Edition            0\n",
       "Reviews          193\n",
       "Ratings          978\n",
       "Genre              0\n",
       "BookCategory       0\n",
       "Price            597\n",
       "Print2          1339\n",
       "Year             554\n",
       "dtype: int64"
      ]
     },
     "execution_count": 28,
     "metadata": {},
     "output_type": "execute_result"
    }
   ],
   "source": [
    "((df_books > UL) | (df_books < LL)).sum()"
   ]
  },
  {
   "cell_type": "code",
   "execution_count": 29,
   "id": "02661ec0",
   "metadata": {},
   "outputs": [],
   "source": [
    "def univariateAnalysis_numeric(column,nbins):\n",
    "    print(\"Description of \" + column)\n",
    "    print(\"----------------------------------------------------------------------------\")\n",
    "    print(df_books[column].describe(),end=' ')\n",
    "    \n",
    "    \n",
    "    plt.figure(figsize=(4,4))\n",
    "    print(\"Distribution of \" + column)\n",
    "    print(\"----------------------------------------------------------------------------\")\n",
    "    plt.hist(x=df_books[column])\n",
    "    plt.show()\n",
    "    \n",
    "    plt.figure(figsize=(4,4))\n",
    "    print(\"BoxPlot of \" + column)\n",
    "    print(\"----------------------------------------------------------------------------\")\n",
    "    ax = sns.boxplot(x=df_books[column])\n",
    "\n",
    "    plt.show()"
   ]
  },
  {
   "cell_type": "code",
   "execution_count": 30,
   "id": "4742fb62",
   "metadata": {},
   "outputs": [
    {
     "data": {
      "text/plain": [
       "10"
      ]
     },
     "execution_count": 30,
     "metadata": {},
     "output_type": "execute_result"
    }
   ],
   "source": [
    "df_num2 = df_books.select_dtypes(include = ['float64', 'int64','int32'])\n",
    "lstnumericcolumns = list(df_num2.columns.values)\n",
    "len(lstnumericcolumns)"
   ]
  },
  {
   "cell_type": "code",
   "execution_count": 31,
   "id": "d64fb537",
   "metadata": {},
   "outputs": [
    {
     "name": "stdout",
     "output_type": "stream",
     "text": [
      "Description of Title\n",
      "----------------------------------------------------------------------------\n",
      "count    7797.000000\n",
      "mean     3387.384763\n",
      "std      1970.556159\n",
      "min         0.000000\n",
      "25%      1667.000000\n",
      "50%      3398.000000\n",
      "75%      5097.000000\n",
      "max      6786.000000\n",
      "Name: Title, dtype: float64 Distribution of Title\n",
      "----------------------------------------------------------------------------\n"
     ]
    },
    {
     "data": {
      "image/png": "[encoded data removed]",
      "text/plain": [
       "<Figure size 288x288 with 1 Axes>"
      ]
     },
     "metadata": {
      "needs_background": "light"
     },
     "output_type": "display_data"
    },
    {
     "name": "stdout",
     "output_type": "stream",
     "text": [
      "BoxPlot of Title\n",
      "----------------------------------------------------------------------------\n"
     ]
    },
    {
     "data": {
      "image/png": "[encoded data removed]",
      "text/plain": [
       "<Figure size 288x288 with 1 Axes>"
      ]
     },
     "metadata": {
      "needs_background": "light"
     },
     "output_type": "display_data"
    },
    {
     "name": "stdout",
     "output_type": "stream",
     "text": [
      "Description of Author\n",
      "----------------------------------------------------------------------------\n",
      "count    7797.000000\n",
      "mean     2148.142875\n",
      "std      1257.563270\n",
      "min         0.000000\n",
      "25%      1079.000000\n",
      "50%      2136.000000\n",
      "75%      3226.000000\n",
      "max      4371.000000\n",
      "Name: Author, dtype: float64 Distribution of Author\n",
      "----------------------------------------------------------------------------\n"
     ]
    },
    {
     "data": {
      "image/png": "[encoded data removed]",
      "text/plain": [
       "<Figure size 288x288 with 1 Axes>"
      ]
     },
     "metadata": {
      "needs_background": "light"
     },
     "output_type": "display_data"
    },
    {
     "name": "stdout",
     "output_type": "stream",
     "text": [
      "BoxPlot of Author\n",
      "----------------------------------------------------------------------------\n"
     ]
    },
    {
     "data": {
      "image/png": "[encoded data removed]",
      "text/plain": [
       "<Figure size 288x288 with 1 Axes>"
      ]
     },
     "metadata": {
      "needs_background": "light"
     },
     "output_type": "display_data"
    },
    {
     "name": "stdout",
     "output_type": "stream",
     "text": [
      "Description of Edition\n",
      "----------------------------------------------------------------------------\n",
      "count    7797.000000\n",
      "mean     2010.421059\n",
      "std      1030.025496\n",
      "min         0.000000\n",
      "25%      1176.000000\n",
      "50%      2038.000000\n",
      "75%      2863.000000\n",
      "max      3881.000000\n",
      "Name: Edition, dtype: float64 Distribution of Edition\n",
      "----------------------------------------------------------------------------\n"
     ]
    },
    {
     "data": {
      "image/png": "[encoded data removed]",
      "text/plain": [
       "<Figure size 288x288 with 1 Axes>"
      ]
     },
     "metadata": {
      "needs_background": "light"
     },
     "output_type": "display_data"
    },
    {
     "name": "stdout",
     "output_type": "stream",
     "text": [
      "BoxPlot of Edition\n",
      "----------------------------------------------------------------------------\n"
     ]
    },
    {
     "data": {
      "image/png": "[encoded data removed]",
      "text/plain": [
       "<Figure size 288x288 with 1 Axes>"
      ]
     },
     "metadata": {
      "needs_background": "light"
     },
     "output_type": "display_data"
    },
    {
     "name": "stdout",
     "output_type": "stream",
     "text": [
      "Description of Reviews\n",
      "----------------------------------------------------------------------------\n",
      "count    7797.000000\n",
      "mean        4.295845\n",
      "std         0.663513\n",
      "min         1.000000\n",
      "25%         4.000000\n",
      "50%         4.400000\n",
      "75%         4.800000\n",
      "max         5.000000\n",
      "Name: Reviews, dtype: float64 Distribution of Reviews\n",
      "----------------------------------------------------------------------------\n"
     ]
    },
    {
     "data": {
      "image/png": "[encoded data removed]",
      "text/plain": [
       "<Figure size 288x288 with 1 Axes>"
      ]
     },
     "metadata": {
      "needs_background": "light"
     },
     "output_type": "display_data"
    },
    {
     "name": "stdout",
     "output_type": "stream",
     "text": [
      "BoxPlot of Reviews\n",
      "----------------------------------------------------------------------------\n"
     ]
    },
    {
     "data": {
      "image/png": "[encoded data removed]",
      "text/plain": [
       "<Figure size 288x288 with 1 Axes>"
      ]
     },
     "metadata": {
      "needs_background": "light"
     },
     "output_type": "display_data"
    },
    {
     "name": "stdout",
     "output_type": "stream",
     "text": [
      "Description of Ratings\n",
      "----------------------------------------------------------------------------\n",
      "count    7797.000000\n",
      "mean       35.520841\n",
      "std       153.020897\n",
      "min         1.000000\n",
      "25%         2.000000\n",
      "50%         6.000000\n",
      "75%        21.000000\n",
      "max      6090.000000\n",
      "Name: Ratings, dtype: float64 Distribution of Ratings\n",
      "----------------------------------------------------------------------------\n"
     ]
    },
    {
     "data": {
      "image/png": "[encoded data removed]",
      "text/plain": [
       "<Figure size 288x288 with 1 Axes>"
      ]
     },
     "metadata": {
      "needs_background": "light"
     },
     "output_type": "display_data"
    },
    {
     "name": "stdout",
     "output_type": "stream",
     "text": [
      "BoxPlot of Ratings\n",
      "----------------------------------------------------------------------------\n"
     ]
    },
    {
     "data": {
      "image/png": "[encoded data removed]",
      "text/plain": [
       "<Figure size 288x288 with 1 Axes>"
      ]
     },
     "metadata": {
      "needs_background": "light"
     },
     "output_type": "display_data"
    },
    {
     "name": "stdout",
     "output_type": "stream",
     "text": [
      "Description of Genre\n",
      "----------------------------------------------------------------------------\n",
      "count    7797.000000\n",
      "mean      142.654867\n",
      "std       109.199704\n",
      "min         0.000000\n",
      "25%        35.000000\n",
      "50%       109.000000\n",
      "75%       227.000000\n",
      "max       362.000000\n",
      "Name: Genre, dtype: float64 Distribution of Genre\n",
      "----------------------------------------------------------------------------\n"
     ]
    },
    {
     "data": {
      "image/png": "[encoded data removed]",
      "text/plain": [
       "<Figure size 288x288 with 1 Axes>"
      ]
     },
     "metadata": {
      "needs_background": "light"
     },
     "output_type": "display_data"
    },
    {
     "name": "stdout",
     "output_type": "stream",
     "text": [
      "BoxPlot of Genre\n",
      "----------------------------------------------------------------------------\n"
     ]
    },
    {
     "data": {
      "image/png": "[encoded data removed]",
      "text/plain": [
       "<Figure size 288x288 with 1 Axes>"
      ]
     },
     "metadata": {
      "needs_background": "light"
     },
     "output_type": "display_data"
    },
    {
     "name": "stdout",
     "output_type": "stream",
     "text": [
      "Description of BookCategory\n",
      "----------------------------------------------------------------------------\n",
      "count    7797.000000\n",
      "mean        4.635244\n",
      "std         3.185005\n",
      "min         0.000000\n",
      "25%         2.000000\n",
      "50%         5.000000\n",
      "75%         7.000000\n",
      "max        10.000000\n",
      "Name: BookCategory, dtype: float64 Distribution of BookCategory\n",
      "----------------------------------------------------------------------------\n"
     ]
    },
    {
     "data": {
      "image/png": "[encoded data removed]",
      "text/plain": [
       "<Figure size 288x288 with 1 Axes>"
      ]
     },
     "metadata": {
      "needs_background": "light"
     },
     "output_type": "display_data"
    },
    {
     "name": "stdout",
     "output_type": "stream",
     "text": [
      "BoxPlot of BookCategory\n",
      "----------------------------------------------------------------------------\n"
     ]
    },
    {
     "data": {
      "image/png": "[encoded data removed]",
      "text/plain": [
       "<Figure size 288x288 with 1 Axes>"
      ]
     },
     "metadata": {
      "needs_background": "light"
     },
     "output_type": "display_data"
    },
    {
     "name": "stdout",
     "output_type": "stream",
     "text": [
      "Description of Price\n",
      "----------------------------------------------------------------------------\n",
      "count     6237.000000\n",
      "mean       560.707516\n",
      "std        690.110657\n",
      "min         25.000000\n",
      "25%        249.180000\n",
      "50%        373.000000\n",
      "75%        599.000000\n",
      "max      14100.000000\n",
      "Name: Price, dtype: float64 Distribution of Price\n",
      "----------------------------------------------------------------------------\n"
     ]
    },
    {
     "data": {
      "image/png": "[encoded data removed]",
      "text/plain": [
       "<Figure size 288x288 with 1 Axes>"
      ]
     },
     "metadata": {
      "needs_background": "light"
     },
     "output_type": "display_data"
    },
    {
     "name": "stdout",
     "output_type": "stream",
     "text": [
      "BoxPlot of Price\n",
      "----------------------------------------------------------------------------\n"
     ]
    },
    {
     "data": {
      "image/png": "[encoded data removed]",
      "text/plain": [
       "<Figure size 288x288 with 1 Axes>"
      ]
     },
     "metadata": {
      "needs_background": "light"
     },
     "output_type": "display_data"
    },
    {
     "name": "stdout",
     "output_type": "stream",
     "text": [
      "Description of Print2\n",
      "----------------------------------------------------------------------------\n",
      "count    7797.000000\n",
      "mean       12.288060\n",
      "std         1.800498\n",
      "min         0.000000\n",
      "25%        13.000000\n",
      "50%        13.000000\n",
      "75%        13.000000\n",
      "max        19.000000\n",
      "Name: Print2, dtype: float64 Distribution of Print2\n",
      "----------------------------------------------------------------------------\n"
     ]
    },
    {
     "data": {
      "image/png": "[encoded data removed]",
      "text/plain": [
       "<Figure size 288x288 with 1 Axes>"
      ]
     },
     "metadata": {
      "needs_background": "light"
     },
     "output_type": "display_data"
    },
    {
     "name": "stdout",
     "output_type": "stream",
     "text": [
      "BoxPlot of Print2\n",
      "----------------------------------------------------------------------------\n"
     ]
    },
    {
     "data": {
      "image/png": "[encoded data removed]",
      "text/plain": [
       "<Figure size 288x288 with 1 Axes>"
      ]
     },
     "metadata": {
      "needs_background": "light"
     },
     "output_type": "display_data"
    },
    {
     "name": "stdout",
     "output_type": "stream",
     "text": [
      "Description of Year\n",
      "----------------------------------------------------------------------------\n",
      "count    7797.000000\n",
      "mean       50.913300\n",
      "std         7.751822\n",
      "min         0.000000\n",
      "25%        49.000000\n",
      "50%        54.000000\n",
      "75%        56.000000\n",
      "max        66.000000\n",
      "Name: Year, dtype: float64 Distribution of Year\n",
      "----------------------------------------------------------------------------\n"
     ]
    },
    {
     "data": {
      "image/png": "[encoded data removed]",
      "text/plain": [
       "<Figure size 288x288 with 1 Axes>"
      ]
     },
     "metadata": {
      "needs_background": "light"
     },
     "output_type": "display_data"
    },
    {
     "name": "stdout",
     "output_type": "stream",
     "text": [
      "BoxPlot of Year\n",
      "----------------------------------------------------------------------------\n"
     ]
    },
    {
     "data": {
      "image/png": "[encoded data removed]",
      "text/plain": [
       "<Figure size 288x288 with 1 Axes>"
      ]
     },
     "metadata": {
      "needs_background": "light"
     },
     "output_type": "display_data"
    }
   ],
   "source": [
    "for x in lstnumericcolumns:\n",
    "    univariateAnalysis_numeric(x,20)"
   ]
  },
  {
   "cell_type": "code",
   "execution_count": 32,
   "id": "9f39c066",
   "metadata": {},
   "outputs": [
    {
     "data": {
      "text/plain": [
       "<AxesSubplot:>"
      ]
     },
     "execution_count": 32,
     "metadata": {},
     "output_type": "execute_result"
    },
    {
     "data": {
      "image/png": "[encoded data removed]",
      "text/plain": [
       "<Figure size 792x648 with 2 Axes>"
      ]
     },
     "metadata": {},
     "output_type": "display_data"
    }
   ],
   "source": [
    "#sns.heatmap(df_imputed.corr(),annot=True);\n",
    "#ax = sns.heatmap(df_imputed.corr(), annot=True, fmt=\"f\")\n",
    "\n",
    "\n",
    "from string import ascii_letters\n",
    "\n",
    "\n",
    "sns.set_theme(style=\"white\")\n",
    "\n",
    "# Generate a large random dataset\n",
    "#rs = np.random.RandomState(33)\n",
    "#d = pd.DataFrame(data=rs.normal(size=(100, 26)),\n",
    "#                 columns=list(ascii_letters[26:]))\n",
    "\n",
    "# Compute the correlation matrix\n",
    "corr = df_books.corr()\n",
    "\n",
    "# Generate a mask for the upper triangle\n",
    "mask = np.triu(np.ones_like(corr, dtype=bool))\n",
    "\n",
    "# Set up the matplotlib figure\n",
    "f, ax = plt.subplots(figsize=(11, 9))\n",
    "\n",
    "# Generate a custom diverging colormap\n",
    "cmap = sns.diverging_palette(230, 20, as_cmap=True)\n",
    "\n",
    "# Draw the heatmap with the mask and correct aspect ratio\n",
    "sns.heatmap(corr, mask=mask, cmap=cmap, vmax=.3, center=0,\n",
    "            square=True, linewidths=.5, cbar_kws={\"shrink\": .5})"
   ]
  },
  {
   "cell_type": "code",
   "execution_count": 33,
   "id": "62da3b97",
   "metadata": {},
   "outputs": [
    {
     "data": {
      "image/png": "[encoded data removed]",
      "text/plain": [
       "<Figure size 2088x2088 with 2 Axes>"
      ]
     },
     "metadata": {},
     "output_type": "display_data"
    }
   ],
   "source": [
    "#calculate column correlations and make a seaborn heatmap - Before standardisation\n",
    "corr = df_books.corr()\n",
    "kot = corr[corr>=0.4]\n",
    "plt.figure(figsize=(29,29))\n",
    "#p.set(font_scale=2)\n",
    "# setting the size of figure to 12 by 10\n",
    "#p=sns.heatmap(kot, annot=True,square=True,annot_kws={'size':16})\n",
    "#sns.color_palette(\"light:#5A9\", as_cmap=True)\n",
    "sns.set(font_scale=2)\n",
    "heat_map = sns.heatmap(kot, annot=True)\n",
    "plt.show()\n"
   ]
  },
  {
   "cell_type": "code",
   "execution_count": 34,
   "id": "dd5b6e75",
   "metadata": {},
   "outputs": [
    {
     "data": {
      "image/png": "[encoded data removed]",
      "text/plain": [
       "<Figure size 1440x576 with 1 Axes>"
      ]
     },
     "metadata": {},
     "output_type": "display_data"
    }
   ],
   "source": [
    "df_books.boxplot(figsize=(20,8))\n",
    "plt.xticks(rotation=90)\n",
    "plt.show()"
   ]
  },
  {
   "cell_type": "code",
   "execution_count": 35,
   "id": "69ec9cbc",
   "metadata": {},
   "outputs": [
    {
     "data": {
      "text/html": [
       "<div>\n",
       "<style scoped>\n",
       "    .dataframe tbody tr th:only-of-type {\n",
       "        vertical-align: middle;\n",
       "    }\n",
       "\n",
       "    .dataframe tbody tr th {\n",
       "        vertical-align: top;\n",
       "    }\n",
       "\n",
       "    .dataframe thead th {\n",
       "        text-align: right;\n",
       "    }\n",
       "</style>\n",
       "<table border=\"1\" class=\"dataframe\">\n",
       "  <thead>\n",
       "    <tr style=\"text-align: right;\">\n",
       "      <th></th>\n",
       "      <th>Title</th>\n",
       "      <th>Author</th>\n",
       "      <th>Edition</th>\n",
       "      <th>Reviews</th>\n",
       "      <th>Ratings</th>\n",
       "      <th>Genre</th>\n",
       "      <th>BookCategory</th>\n",
       "      <th>Price</th>\n",
       "      <th>Print2</th>\n",
       "      <th>Year</th>\n",
       "    </tr>\n",
       "  </thead>\n",
       "  <tbody>\n",
       "    <tr>\n",
       "      <th>0</th>\n",
       "      <td>5803</td>\n",
       "      <td>748</td>\n",
       "      <td>1231</td>\n",
       "      <td>4.0</td>\n",
       "      <td>8</td>\n",
       "      <td>1</td>\n",
       "      <td>0</td>\n",
       "      <td>220.00</td>\n",
       "      <td>13</td>\n",
       "      <td>55</td>\n",
       "    </tr>\n",
       "    <tr>\n",
       "      <th>1</th>\n",
       "      <td>2120</td>\n",
       "      <td>370</td>\n",
       "      <td>3164</td>\n",
       "      <td>3.9</td>\n",
       "      <td>14</td>\n",
       "      <td>78</td>\n",
       "      <td>2</td>\n",
       "      <td>202.93</td>\n",
       "      <td>13</td>\n",
       "      <td>51</td>\n",
       "    </tr>\n",
       "    <tr>\n",
       "      <th>2</th>\n",
       "      <td>2982</td>\n",
       "      <td>4045</td>\n",
       "      <td>2272</td>\n",
       "      <td>4.8</td>\n",
       "      <td>6</td>\n",
       "      <td>202</td>\n",
       "      <td>6</td>\n",
       "      <td>299.00</td>\n",
       "      <td>13</td>\n",
       "      <td>21</td>\n",
       "    </tr>\n",
       "    <tr>\n",
       "      <th>3</th>\n",
       "      <td>189</td>\n",
       "      <td>79</td>\n",
       "      <td>3000</td>\n",
       "      <td>4.1</td>\n",
       "      <td>13</td>\n",
       "      <td>96</td>\n",
       "      <td>5</td>\n",
       "      <td>180.00</td>\n",
       "      <td>13</td>\n",
       "      <td>56</td>\n",
       "    </tr>\n",
       "    <tr>\n",
       "      <th>4</th>\n",
       "      <td>2853</td>\n",
       "      <td>1138</td>\n",
       "      <td>99</td>\n",
       "      <td>5.0</td>\n",
       "      <td>1</td>\n",
       "      <td>264</td>\n",
       "      <td>1</td>\n",
       "      <td>965.62</td>\n",
       "      <td>8</td>\n",
       "      <td>45</td>\n",
       "    </tr>\n",
       "    <tr>\n",
       "      <th>...</th>\n",
       "      <td>...</td>\n",
       "      <td>...</td>\n",
       "      <td>...</td>\n",
       "      <td>...</td>\n",
       "      <td>...</td>\n",
       "      <td>...</td>\n",
       "      <td>...</td>\n",
       "      <td>...</td>\n",
       "      <td>...</td>\n",
       "      <td>...</td>\n",
       "    </tr>\n",
       "    <tr>\n",
       "      <th>7792</th>\n",
       "      <td>16</td>\n",
       "      <td>3935</td>\n",
       "      <td>1438</td>\n",
       "      <td>5.0</td>\n",
       "      <td>4</td>\n",
       "      <td>103</td>\n",
       "      <td>4</td>\n",
       "      <td>NaN</td>\n",
       "      <td>13</td>\n",
       "      <td>50</td>\n",
       "    </tr>\n",
       "    <tr>\n",
       "      <th>7793</th>\n",
       "      <td>3313</td>\n",
       "      <td>27</td>\n",
       "      <td>3222</td>\n",
       "      <td>3.6</td>\n",
       "      <td>13</td>\n",
       "      <td>72</td>\n",
       "      <td>2</td>\n",
       "      <td>NaN</td>\n",
       "      <td>13</td>\n",
       "      <td>52</td>\n",
       "    </tr>\n",
       "    <tr>\n",
       "      <th>7794</th>\n",
       "      <td>5483</td>\n",
       "      <td>2159</td>\n",
       "      <td>3086</td>\n",
       "      <td>4.0</td>\n",
       "      <td>5</td>\n",
       "      <td>186</td>\n",
       "      <td>6</td>\n",
       "      <td>NaN</td>\n",
       "      <td>13</td>\n",
       "      <td>50</td>\n",
       "    </tr>\n",
       "    <tr>\n",
       "      <th>7795</th>\n",
       "      <td>3810</td>\n",
       "      <td>1517</td>\n",
       "      <td>2135</td>\n",
       "      <td>3.5</td>\n",
       "      <td>3</td>\n",
       "      <td>347</td>\n",
       "      <td>2</td>\n",
       "      <td>NaN</td>\n",
       "      <td>13</td>\n",
       "      <td>48</td>\n",
       "    </tr>\n",
       "    <tr>\n",
       "      <th>7796</th>\n",
       "      <td>1139</td>\n",
       "      <td>446</td>\n",
       "      <td>1677</td>\n",
       "      <td>4.5</td>\n",
       "      <td>2</td>\n",
       "      <td>109</td>\n",
       "      <td>7</td>\n",
       "      <td>NaN</td>\n",
       "      <td>13</td>\n",
       "      <td>55</td>\n",
       "    </tr>\n",
       "  </tbody>\n",
       "</table>\n",
       "<p>7797 rows × 10 columns</p>\n",
       "</div>"
      ],
      "text/plain": [
       "      Title  Author  Edition  Reviews  Ratings  Genre  BookCategory   Price  \\\n",
       "0      5803     748     1231      4.0        8      1             0  220.00   \n",
       "1      2120     370     3164      3.9       14     78             2  202.93   \n",
       "2      2982    4045     2272      4.8        6    202             6  299.00   \n",
       "3       189      79     3000      4.1       13     96             5  180.00   \n",
       "4      2853    1138       99      5.0        1    264             1  965.62   \n",
       "...     ...     ...      ...      ...      ...    ...           ...     ...   \n",
       "7792     16    3935     1438      5.0        4    103             4     NaN   \n",
       "7793   3313      27     3222      3.6       13     72             2     NaN   \n",
       "7794   5483    2159     3086      4.0        5    186             6     NaN   \n",
       "7795   3810    1517     2135      3.5        3    347             2     NaN   \n",
       "7796   1139     446     1677      4.5        2    109             7     NaN   \n",
       "\n",
       "      Print2  Year  \n",
       "0         13    55  \n",
       "1         13    51  \n",
       "2         13    21  \n",
       "3         13    56  \n",
       "4          8    45  \n",
       "...      ...   ...  \n",
       "7792      13    50  \n",
       "7793      13    52  \n",
       "7794      13    50  \n",
       "7795      13    48  \n",
       "7796      13    55  \n",
       "\n",
       "[7797 rows x 10 columns]"
      ]
     },
     "execution_count": 35,
     "metadata": {},
     "output_type": "execute_result"
    }
   ],
   "source": [
    "df_books"
   ]
  },
  {
   "cell_type": "code",
   "execution_count": null,
   "id": "3432902f",
   "metadata": {},
   "outputs": [],
   "source": []
  },
  {
   "cell_type": "code",
   "execution_count": null,
   "id": "04804382",
   "metadata": {},
   "outputs": [],
   "source": []
  },
  {
   "cell_type": "code",
   "execution_count": null,
   "id": "f2a456f2",
   "metadata": {},
   "outputs": [],
   "source": []
  },
  {
   "cell_type": "code",
   "execution_count": null,
   "id": "af54edad",
   "metadata": {},
   "outputs": [],
   "source": []
  },
  {
   "cell_type": "code",
   "execution_count": null,
   "id": "4c1bcd26",
   "metadata": {},
   "outputs": [],
   "source": []
  },
  {
   "cell_type": "code",
   "execution_count": null,
   "id": "5d6aa830",
   "metadata": {},
   "outputs": [],
   "source": []
  },
  {
   "cell_type": "code",
   "execution_count": null,
   "id": "6efff3ec",
   "metadata": {},
   "outputs": [],
   "source": []
  },
  {
   "cell_type": "code",
   "execution_count": null,
   "id": "3fa98f2e",
   "metadata": {},
   "outputs": [],
   "source": []
  },
  {
   "cell_type": "code",
   "execution_count": null,
   "id": "8bbfa85b",
   "metadata": {},
   "outputs": [],
   "source": []
  },
  {
   "cell_type": "code",
   "execution_count": null,
   "id": "e59eb8c5",
   "metadata": {},
   "outputs": [],
   "source": []
  },
  {
   "cell_type": "code",
   "execution_count": null,
   "id": "ef63d34c",
   "metadata": {},
   "outputs": [],
   "source": []
  },
  {
   "cell_type": "code",
   "execution_count": null,
   "id": "7e0d3235",
   "metadata": {},
   "outputs": [],
   "source": []
  },
  {
   "cell_type": "code",
   "execution_count": null,
   "id": "5c3bdbb4",
   "metadata": {},
   "outputs": [],
   "source": []
  },
  {
   "cell_type": "code",
   "execution_count": null,
   "id": "9917a585",
   "metadata": {},
   "outputs": [],
   "source": []
  },
  {
   "cell_type": "code",
   "execution_count": null,
   "id": "5d582f58",
   "metadata": {},
   "outputs": [],
   "source": []
  },
  {
   "cell_type": "code",
   "execution_count": null,
   "id": "7087d246",
   "metadata": {},
   "outputs": [],
   "source": []
  },
  {
   "cell_type": "code",
   "execution_count": 36,
   "id": "38a9473a",
   "metadata": {},
   "outputs": [],
   "source": [
    "df_train = df_books.iloc[:6237,:]\n",
    "df_test = df_books.iloc[6237:,:]"
   ]
  },
  {
   "cell_type": "code",
   "execution_count": 37,
   "id": "35a99ecc",
   "metadata": {},
   "outputs": [
    {
     "data": {
      "text/plain": [
       "(6237, 10)"
      ]
     },
     "execution_count": 37,
     "metadata": {},
     "output_type": "execute_result"
    }
   ],
   "source": [
    "df_train.shape"
   ]
  },
  {
   "cell_type": "code",
   "execution_count": 38,
   "id": "b358f932",
   "metadata": {},
   "outputs": [
    {
     "data": {
      "text/plain": [
       "(1560, 10)"
      ]
     },
     "execution_count": 38,
     "metadata": {},
     "output_type": "execute_result"
    }
   ],
   "source": [
    "df_test.shape"
   ]
  },
  {
   "cell_type": "code",
   "execution_count": 39,
   "id": "acf3af78",
   "metadata": {},
   "outputs": [],
   "source": [
    "# Copy all the predictor variables into X dataframe\n",
    "X_train = df_train.drop('Price', axis=1)\n",
    "\n",
    "# Copy target into the y dataframe.  \n",
    "y_train = df_train['Price']"
   ]
  },
  {
   "cell_type": "code",
   "execution_count": null,
   "id": "3f8aac7b",
   "metadata": {},
   "outputs": [],
   "source": []
  },
  {
   "cell_type": "code",
   "execution_count": 40,
   "id": "5cf84887",
   "metadata": {},
   "outputs": [],
   "source": [
    "X_test = df_test.drop('Price', axis=1)"
   ]
  },
  {
   "cell_type": "code",
   "execution_count": 41,
   "id": "33eab9e8",
   "metadata": {},
   "outputs": [
    {
     "data": {
      "text/plain": [
       "ExtraTreesRegressor()"
      ]
     },
     "execution_count": 41,
     "metadata": {},
     "output_type": "execute_result"
    }
   ],
   "source": [
    "from sklearn.ensemble import ExtraTreesRegressor\n",
    "model = ExtraTreesRegressor()\n",
    "model.fit(X_train,y_train)"
   ]
  },
  {
   "cell_type": "code",
   "execution_count": 42,
   "id": "8686cb7f",
   "metadata": {},
   "outputs": [
    {
     "data": {
      "text/plain": [
       "array([0.11025005, 0.11699838, 0.14731957, 0.0935931 , 0.09940545,\n",
       "       0.12101228, 0.10858232, 0.07265841, 0.13018042])"
      ]
     },
     "execution_count": 42,
     "metadata": {},
     "output_type": "execute_result"
    }
   ],
   "source": [
    "model.feature_importances_"
   ]
  },
  {
   "cell_type": "code",
   "execution_count": 43,
   "id": "8697212e",
   "metadata": {},
   "outputs": [],
   "source": [
    "n_estimators = [int(x) for x in np.linspace(start = 100, stop = 1200,num = 12)]\n",
    "max_features = ['auto','sqrt']\n",
    "max_depth = [int(x) for x in np.linspace(5,30,num = 6)]\n",
    "min_samples_split = [2,5,10,15,100]\n",
    "min_samples_leaf  = [1,2,5,10]"
   ]
  },
  {
   "cell_type": "code",
   "execution_count": 44,
   "id": "1518cf23",
   "metadata": {},
   "outputs": [
    {
     "name": "stdout",
     "output_type": "stream",
     "text": [
      "{'n_estimators': [100, 200, 300, 400, 500, 600, 700, 800, 900, 1000, 1100, 1200], 'max_features': ['auto', 'sqrt'], 'max_depth': [5, 10, 15, 20, 25, 30], 'min_samples_split': [2, 5, 10, 15, 100], 'min_samples_leaf': [1, 2, 5, 10]}\n"
     ]
    }
   ],
   "source": [
    "grid = {'n_estimators': n_estimators,\n",
    "        'max_features': max_features,\n",
    "        'max_depth': max_depth,\n",
    "        'min_samples_split': min_samples_split,\n",
    "       'min_samples_leaf': min_samples_leaf}\n",
    "print(grid)"
   ]
  },
  {
   "cell_type": "code",
   "execution_count": 45,
   "id": "807b05b6",
   "metadata": {},
   "outputs": [
    {
     "name": "stdout",
     "output_type": "stream",
     "text": [
      "Fitting 5 folds for each of 10 candidates, totalling 50 fits\n",
      "[CV] END max_depth=10, max_features=sqrt, min_samples_leaf=5, min_samples_split=5, n_estimators=900; total time=   5.4s\n",
      "[CV] END max_depth=10, max_features=sqrt, min_samples_leaf=5, min_samples_split=5, n_estimators=900; total time=   4.6s\n",
      "[CV] END max_depth=10, max_features=sqrt, min_samples_leaf=5, min_samples_split=5, n_estimators=900; total time=   4.6s\n",
      "[CV] END max_depth=10, max_features=sqrt, min_samples_leaf=5, min_samples_split=5, n_estimators=900; total time=   5.1s\n",
      "[CV] END max_depth=10, max_features=sqrt, min_samples_leaf=5, min_samples_split=5, n_estimators=900; total time=   5.4s\n",
      "[CV] END max_depth=15, max_features=sqrt, min_samples_leaf=2, min_samples_split=10, n_estimators=1100; total time=   7.8s\n",
      "[CV] END max_depth=15, max_features=sqrt, min_samples_leaf=2, min_samples_split=10, n_estimators=1100; total time=   7.4s\n",
      "[CV] END max_depth=15, max_features=sqrt, min_samples_leaf=2, min_samples_split=10, n_estimators=1100; total time=   7.6s\n",
      "[CV] END max_depth=15, max_features=sqrt, min_samples_leaf=2, min_samples_split=10, n_estimators=1100; total time=   7.3s\n",
      "[CV] END max_depth=15, max_features=sqrt, min_samples_leaf=2, min_samples_split=10, n_estimators=1100; total time=   8.4s\n",
      "[CV] END max_depth=15, max_features=auto, min_samples_leaf=5, min_samples_split=100, n_estimators=300; total time=   3.9s\n",
      "[CV] END max_depth=15, max_features=auto, min_samples_leaf=5, min_samples_split=100, n_estimators=300; total time=   3.3s\n",
      "[CV] END max_depth=15, max_features=auto, min_samples_leaf=5, min_samples_split=100, n_estimators=300; total time=   3.7s\n",
      "[CV] END max_depth=15, max_features=auto, min_samples_leaf=5, min_samples_split=100, n_estimators=300; total time=   3.4s\n",
      "[CV] END max_depth=15, max_features=auto, min_samples_leaf=5, min_samples_split=100, n_estimators=300; total time=   3.4s\n",
      "[CV] END max_depth=15, max_features=auto, min_samples_leaf=5, min_samples_split=5, n_estimators=400; total time=   6.5s\n",
      "[CV] END max_depth=15, max_features=auto, min_samples_leaf=5, min_samples_split=5, n_estimators=400; total time=   6.1s\n",
      "[CV] END max_depth=15, max_features=auto, min_samples_leaf=5, min_samples_split=5, n_estimators=400; total time=   6.1s\n",
      "[CV] END max_depth=15, max_features=auto, min_samples_leaf=5, min_samples_split=5, n_estimators=400; total time=   6.0s\n",
      "[CV] END max_depth=15, max_features=auto, min_samples_leaf=5, min_samples_split=5, n_estimators=400; total time=   6.1s\n",
      "[CV] END max_depth=20, max_features=auto, min_samples_leaf=10, min_samples_split=5, n_estimators=700; total time=   9.4s\n",
      "[CV] END max_depth=20, max_features=auto, min_samples_leaf=10, min_samples_split=5, n_estimators=700; total time=  12.2s\n",
      "[CV] END max_depth=20, max_features=auto, min_samples_leaf=10, min_samples_split=5, n_estimators=700; total time=  12.1s\n",
      "[CV] END max_depth=20, max_features=auto, min_samples_leaf=10, min_samples_split=5, n_estimators=700; total time=   9.5s\n",
      "[CV] END max_depth=20, max_features=auto, min_samples_leaf=10, min_samples_split=5, n_estimators=700; total time=  10.4s\n",
      "[CV] END max_depth=25, max_features=sqrt, min_samples_leaf=1, min_samples_split=2, n_estimators=1000; total time=  14.8s\n",
      "[CV] END max_depth=25, max_features=sqrt, min_samples_leaf=1, min_samples_split=2, n_estimators=1000; total time=  10.7s\n",
      "[CV] END max_depth=25, max_features=sqrt, min_samples_leaf=1, min_samples_split=2, n_estimators=1000; total time=  12.0s\n",
      "[CV] END max_depth=25, max_features=sqrt, min_samples_leaf=1, min_samples_split=2, n_estimators=1000; total time=  14.5s\n",
      "[CV] END max_depth=25, max_features=sqrt, min_samples_leaf=1, min_samples_split=2, n_estimators=1000; total time=  11.5s\n",
      "[CV] END max_depth=5, max_features=sqrt, min_samples_leaf=10, min_samples_split=15, n_estimators=1100; total time=   4.2s\n",
      "[CV] END max_depth=5, max_features=sqrt, min_samples_leaf=10, min_samples_split=15, n_estimators=1100; total time=   4.0s\n",
      "[CV] END max_depth=5, max_features=sqrt, min_samples_leaf=10, min_samples_split=15, n_estimators=1100; total time=   3.7s\n",
      "[CV] END max_depth=5, max_features=sqrt, min_samples_leaf=10, min_samples_split=15, n_estimators=1100; total time=   3.7s\n",
      "[CV] END max_depth=5, max_features=sqrt, min_samples_leaf=10, min_samples_split=15, n_estimators=1100; total time=   3.7s\n",
      "[CV] END max_depth=15, max_features=sqrt, min_samples_leaf=1, min_samples_split=15, n_estimators=300; total time=   1.9s\n",
      "[CV] END max_depth=15, max_features=sqrt, min_samples_leaf=1, min_samples_split=15, n_estimators=300; total time=   1.9s\n",
      "[CV] END max_depth=15, max_features=sqrt, min_samples_leaf=1, min_samples_split=15, n_estimators=300; total time=   2.0s\n",
      "[CV] END max_depth=15, max_features=sqrt, min_samples_leaf=1, min_samples_split=15, n_estimators=300; total time=   2.1s\n",
      "[CV] END max_depth=15, max_features=sqrt, min_samples_leaf=1, min_samples_split=15, n_estimators=300; total time=   1.9s\n",
      "[CV] END max_depth=5, max_features=sqrt, min_samples_leaf=2, min_samples_split=10, n_estimators=700; total time=   2.5s\n",
      "[CV] END max_depth=5, max_features=sqrt, min_samples_leaf=2, min_samples_split=10, n_estimators=700; total time=   2.7s\n",
      "[CV] END max_depth=5, max_features=sqrt, min_samples_leaf=2, min_samples_split=10, n_estimators=700; total time=   2.5s\n",
      "[CV] END max_depth=5, max_features=sqrt, min_samples_leaf=2, min_samples_split=10, n_estimators=700; total time=   2.4s\n",
      "[CV] END max_depth=5, max_features=sqrt, min_samples_leaf=2, min_samples_split=10, n_estimators=700; total time=   2.3s\n",
      "[CV] END max_depth=20, max_features=auto, min_samples_leaf=1, min_samples_split=15, n_estimators=700; total time=  12.2s\n",
      "[CV] END max_depth=20, max_features=auto, min_samples_leaf=1, min_samples_split=15, n_estimators=700; total time=  12.4s\n",
      "[CV] END max_depth=20, max_features=auto, min_samples_leaf=1, min_samples_split=15, n_estimators=700; total time=  12.8s\n",
      "[CV] END max_depth=20, max_features=auto, min_samples_leaf=1, min_samples_split=15, n_estimators=700; total time=  12.0s\n",
      "[CV] END max_depth=20, max_features=auto, min_samples_leaf=1, min_samples_split=15, n_estimators=700; total time=  12.2s\n"
     ]
    },
    {
     "data": {
      "text/plain": [
       "RandomizedSearchCV(cv=5, estimator=RandomForestRegressor(), n_jobs=1,\n",
       "                   param_distributions={'max_depth': [5, 10, 15, 20, 25, 30],\n",
       "                                        'max_features': ['auto', 'sqrt'],\n",
       "                                        'min_samples_leaf': [1, 2, 5, 10],\n",
       "                                        'min_samples_split': [2, 5, 10, 15,\n",
       "                                                              100],\n",
       "                                        'n_estimators': [100, 200, 300, 400,\n",
       "                                                         500, 600, 700, 800,\n",
       "                                                         900, 1000, 1100,\n",
       "                                                         1200]},\n",
       "                   random_state=42, scoring='neg_mean_squared_error',\n",
       "                   verbose=2)"
      ]
     },
     "execution_count": 45,
     "metadata": {},
     "output_type": "execute_result"
    }
   ],
   "source": [
    "from sklearn.ensemble import RandomForestRegressor \n",
    "from sklearn.model_selection import RandomizedSearchCV\n",
    "\n",
    "model = RandomForestRegressor() \n",
    "hyp = RandomizedSearchCV(estimator = model,\n",
    "                        param_distributions=grid,\n",
    "                        n_iter=10,\n",
    "                       scoring= 'neg_mean_squared_error',\n",
    "                        cv=5,verbose = 2,\n",
    "                        random_state = 42,n_jobs = 1) \n",
    "hyp.fit(X_train,y_train)"
   ]
  },
  {
   "cell_type": "code",
   "execution_count": 46,
   "id": "ddc6b5ab",
   "metadata": {},
   "outputs": [
    {
     "data": {
      "text/plain": [
       "array([ 320.20532588, 1311.22451   ,  555.67991887, ...,  501.07852535,\n",
       "        490.85772698,  661.24099944])"
      ]
     },
     "execution_count": 46,
     "metadata": {},
     "output_type": "execute_result"
    }
   ],
   "source": [
    "y_pred = hyp.predict(X_test)\n",
    "y_pred"
   ]
  },
  {
   "cell_type": "code",
   "execution_count": 47,
   "id": "eb650c7e",
   "metadata": {},
   "outputs": [
    {
     "data": {
      "image/png": "[encoded data removed]",
      "text/plain": [
       "<Figure size 432x288 with 1 Axes>"
      ]
     },
     "metadata": {},
     "output_type": "display_data"
    }
   ],
   "source": [
    "x = y_pred\n",
    "y = np.sort(x)\n",
    "\n",
    "plt.title(\"Line graph\")\n",
    "plt.plot(x, y, color=\"red\")\n",
    "\n",
    "plt.show()"
   ]
  },
  {
   "cell_type": "code",
   "execution_count": 48,
   "id": "f6af0e30",
   "metadata": {},
   "outputs": [
    {
     "data": {
      "image/png": "[encoded data removed]",
      "text/plain": [
       "<Figure size 432x288 with 1 Axes>"
      ]
     },
     "metadata": {},
     "output_type": "display_data"
    }
   ],
   "source": [
    "plt.hist(y_pred, color = 'green',\n",
    "        histtype = 'bar', rwidth = 0.8)\n",
    "plt.show()"
   ]
  },
  {
   "cell_type": "code",
   "execution_count": 49,
   "id": "4a1175ed",
   "metadata": {},
   "outputs": [],
   "source": [
    "array = y_pred\n",
    "dataframe = pd.DataFrame(array) \n",
    "#dataframe.to_csv(r\"C:\\Users\\athisya\\Downloads\\Great Learning\\hackathon\\Predict The Price Of Books\\Participants_Data\\data1.csv\")"
   ]
  },
  {
   "cell_type": "code",
   "execution_count": 50,
   "id": "3f902740",
   "metadata": {},
   "outputs": [],
   "source": [
    "#res[\"Survived\"] = pd.DataFrame(ytest_predict)\n",
    "\n",
    "res = pd.DataFrame(y_pred)\n",
    "res.columns = [\"Price\"]\n"
   ]
  },
  {
   "cell_type": "code",
   "execution_count": 51,
   "id": "1da4ffe1",
   "metadata": {},
   "outputs": [
    {
     "data": {
      "text/html": [
       "<div>\n",
       "<style scoped>\n",
       "    .dataframe tbody tr th:only-of-type {\n",
       "        vertical-align: middle;\n",
       "    }\n",
       "\n",
       "    .dataframe tbody tr th {\n",
       "        vertical-align: top;\n",
       "    }\n",
       "\n",
       "    .dataframe thead th {\n",
       "        text-align: right;\n",
       "    }\n",
       "</style>\n",
       "<table border=\"1\" class=\"dataframe\">\n",
       "  <thead>\n",
       "    <tr style=\"text-align: right;\">\n",
       "      <th></th>\n",
       "      <th>Price</th>\n",
       "    </tr>\n",
       "  </thead>\n",
       "  <tbody>\n",
       "    <tr>\n",
       "      <th>0</th>\n",
       "      <td>320.205326</td>\n",
       "    </tr>\n",
       "    <tr>\n",
       "      <th>1</th>\n",
       "      <td>1311.224510</td>\n",
       "    </tr>\n",
       "    <tr>\n",
       "      <th>2</th>\n",
       "      <td>555.679919</td>\n",
       "    </tr>\n",
       "    <tr>\n",
       "      <th>3</th>\n",
       "      <td>812.172076</td>\n",
       "    </tr>\n",
       "    <tr>\n",
       "      <th>4</th>\n",
       "      <td>386.551045</td>\n",
       "    </tr>\n",
       "    <tr>\n",
       "      <th>...</th>\n",
       "      <td>...</td>\n",
       "    </tr>\n",
       "    <tr>\n",
       "      <th>1555</th>\n",
       "      <td>1239.386616</td>\n",
       "    </tr>\n",
       "    <tr>\n",
       "      <th>1556</th>\n",
       "      <td>419.737573</td>\n",
       "    </tr>\n",
       "    <tr>\n",
       "      <th>1557</th>\n",
       "      <td>501.078525</td>\n",
       "    </tr>\n",
       "    <tr>\n",
       "      <th>1558</th>\n",
       "      <td>490.857727</td>\n",
       "    </tr>\n",
       "    <tr>\n",
       "      <th>1559</th>\n",
       "      <td>661.240999</td>\n",
       "    </tr>\n",
       "  </tbody>\n",
       "</table>\n",
       "<p>1560 rows × 1 columns</p>\n",
       "</div>"
      ],
      "text/plain": [
       "            Price\n",
       "0      320.205326\n",
       "1     1311.224510\n",
       "2      555.679919\n",
       "3      812.172076\n",
       "4      386.551045\n",
       "...           ...\n",
       "1555  1239.386616\n",
       "1556   419.737573\n",
       "1557   501.078525\n",
       "1558   490.857727\n",
       "1559   661.240999\n",
       "\n",
       "[1560 rows x 1 columns]"
      ]
     },
     "execution_count": 51,
     "metadata": {},
     "output_type": "execute_result"
    }
   ],
   "source": [
    "res"
   ]
  },
  {
   "cell_type": "code",
   "execution_count": 52,
   "id": "09d461af",
   "metadata": {},
   "outputs": [],
   "source": [
    "#res.set_index('Price')\n",
    "res = res.set_index('Price')\n",
    "res.to_csv(\"prediction_results.csv\")"
   ]
  },
  {
   "cell_type": "code",
   "execution_count": 53,
   "id": "9453af1b",
   "metadata": {},
   "outputs": [
    {
     "data": {
      "text/html": [
       "<div>\n",
       "<style scoped>\n",
       "    .dataframe tbody tr th:only-of-type {\n",
       "        vertical-align: middle;\n",
       "    }\n",
       "\n",
       "    .dataframe tbody tr th {\n",
       "        vertical-align: top;\n",
       "    }\n",
       "\n",
       "    .dataframe thead th {\n",
       "        text-align: right;\n",
       "    }\n",
       "</style>\n",
       "<table border=\"1\" class=\"dataframe\">\n",
       "  <thead>\n",
       "    <tr style=\"text-align: right;\">\n",
       "      <th></th>\n",
       "    </tr>\n",
       "    <tr>\n",
       "      <th>Price</th>\n",
       "    </tr>\n",
       "  </thead>\n",
       "  <tbody>\n",
       "    <tr>\n",
       "      <th>320.205326</th>\n",
       "    </tr>\n",
       "    <tr>\n",
       "      <th>1311.224510</th>\n",
       "    </tr>\n",
       "    <tr>\n",
       "      <th>555.679919</th>\n",
       "    </tr>\n",
       "    <tr>\n",
       "      <th>812.172076</th>\n",
       "    </tr>\n",
       "    <tr>\n",
       "      <th>386.551045</th>\n",
       "    </tr>\n",
       "    <tr>\n",
       "      <th>...</th>\n",
       "    </tr>\n",
       "    <tr>\n",
       "      <th>1239.386616</th>\n",
       "    </tr>\n",
       "    <tr>\n",
       "      <th>419.737573</th>\n",
       "    </tr>\n",
       "    <tr>\n",
       "      <th>501.078525</th>\n",
       "    </tr>\n",
       "    <tr>\n",
       "      <th>490.857727</th>\n",
       "    </tr>\n",
       "    <tr>\n",
       "      <th>661.240999</th>\n",
       "    </tr>\n",
       "  </tbody>\n",
       "</table>\n",
       "<p>1560 rows × 0 columns</p>\n",
       "</div>"
      ],
      "text/plain": [
       "Empty DataFrame\n",
       "Columns: []\n",
       "Index: [320.20532588235295, 1311.2245099999998, 555.6799188733312, 812.1720764645914, 386.55104492421196, 532.5536358333333, 1209.8416920000002, 378.99275240527567, 521.9758999999996, 469.69306720879126, 414.38990385185207, 364.0552126817039, 278.06267389786973, 2036.83746, 667.2211231298907, 906.2228015476185, 519.2418199999998, 1157.6869900000004, 676.6453941176469, 491.9723110457517, 431.432856785714, 383.82258335271734, 474.3662663776135, 696.0137599999998, 455.97417841829736, 642.3910079480518, 594.534300563063, 263.5801100846577, 434.2622293809716, 413.72394666666713, 530.9131034828458, 351.0989613097695, 1102.09851, 267.4690351190472, 658.6965209800111, 473.6215553333332, 1112.7785100000003, 479.50584261339753, 1442.2202299999994, 575.4132274789918, 870.6132804761902, 1572.69002, 599.8947588548103, 580.0287192218615, 377.1729283179074, 305.3584773224989, 852.6200276428574, 536.0403798240567, 603.7479066666664, 469.6068417111921, 756.4578145872067, 636.2556068967257, 400.25076553010905, 311.4426461446763, 900.0574093137253, 677.5233038888884, 659.5603466666664, 946.8271833333331, 438.75494215617715, 646.3734846846845, 361.38644146663853, 723.3812091678843, 458.876172475468, 577.7084509807379, 695.844571451613, 730.0946260403355, 785.63189, 571.5393540791961, 279.98680910367636, 415.63745298245584, 652.2724971733821, 323.95169567316026, 817.1337887626265, 502.16088380952374, 343.22887482686383, 333.80936528947484, 513.380955172224, 505.8247606522363, 427.03780352539536, 367.0549107258297, 359.56282358282283, 418.5531302461943, 712.6895443091211, 773.0997676286638, 659.9371976072534, 2518.8875835714284, 611.3703877465944, 397.4372803423401, 1506.7141633333313, 544.8926023410004, 506.3807423134557, 452.0358511071427, 584.9694422222223, 280.8434185518884, 516.6221170800868, 692.4724518412697, 1227.2383849999999, 199.15757176470586, 489.56485333333336, 270.46289168965876, ...]\n",
       "\n",
       "[1560 rows x 0 columns]"
      ]
     },
     "execution_count": 53,
     "metadata": {},
     "output_type": "execute_result"
    }
   ],
   "source": [
    "res"
   ]
  },
  {
   "cell_type": "code",
   "execution_count": null,
   "id": "f412b4b3",
   "metadata": {},
   "outputs": [],
   "source": []
  },
  {
   "cell_type": "code",
   "execution_count": null,
   "id": "36bd6165",
   "metadata": {},
   "outputs": [],
   "source": []
  },
  {
   "cell_type": "code",
   "execution_count": null,
   "id": "e4662c4a",
   "metadata": {},
   "outputs": [],
   "source": []
  }
 ],
 "metadata": {
  "kernelspec": {
   "display_name": "Python 3",
   "language": "python",
   "name": "python3"
  },
  "language_info": {
   "codemirror_mode": {
    "name": "ipython",
    "version": 3
   },
   "file_extension": ".py",
   "mimetype": "text/x-python",
   "name": "python",
   "nbconvert_exporter": "python",
   "pygments_lexer": "ipython3",
   "version": "3.8.5"
  }
 },
 "nbformat": 4,
 "nbformat_minor": 5
}
